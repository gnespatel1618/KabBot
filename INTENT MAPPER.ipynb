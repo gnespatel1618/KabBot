{
 "cells": [
  {
   "cell_type": "code",
   "execution_count": 3,
   "metadata": {
    "collapsed": false,
    "deletable": true,
    "editable": true
   },
   "outputs": [],
   "source": [
    "import pandas as pd\n",
    "from sklearn.cross_validation import train_test_split\n",
    "import sklearn.model_selection as m_sel\n",
    "from sklearn.feature_extraction.text import CountVectorizer\n",
    "from sklearn.naive_bayes import MultinomialNB"
   ]
  },
  {
   "cell_type": "code",
   "execution_count": 4,
   "metadata": {
    "collapsed": true,
    "deletable": true,
    "editable": true
   },
   "outputs": [],
   "source": [
    "def train_intent_mapper():\n",
    "    cab_bot_data_df=pd.read_csv('/home/user/cab_bot_data.csv')\n",
    "    cab_bot_data_df['Category_label'] = cab_bot_data_df.Category.map({'Greetings':1, \n",
    "                                        'Look':2, 'Book':3, 'Fare_Estimation':4,\n",
    "                                        'Schedule':5, 'Cancel':6, 'Payment_Mode':7, \n",
    "                                        'Duration':8})\n",
    "    X = cab_bot_data_df.Questions\n",
    "    y = cab_bot_data_df.Category_label\n",
    "    X_train,X_test,Y_train,Y_test = m_sel.train_test_split(X,y,test_size=0.30,random_state=30)\n",
    "    vect = CountVectorizer()\n",
    "    vect.fit(X_train)\n",
    "    X_train_dtm = vect.transform(X_train)\n",
    "    nb = MultinomialNB()\n",
    "    nb.fit(X_train_dtm, Y_train)\n",
    "    return (nb,vect)"
   ]
  },
  {
   "cell_type": "code",
   "execution_count": 5,
   "metadata": {
    "collapsed": true,
    "deletable": true,
    "editable": true
   },
   "outputs": [],
   "source": [
    "def test_intent_mapper(text,multinomial_nb,vect):\n",
    "    category = ['Greetings','Look','Book','Fare_Estimation',\n",
    "                'Schedule','Cancel','Payment_Mode','Duration']\n",
    "    txt_l=[text]\n",
    "    vect_text = vect.transform(txt_l)\n",
    "    predict_value = multinomial_nb.predict(vect_text)\n",
    "    predict_val=int(predict_value)\n",
    "    intent = category[predict_val-1]\n",
    "    return intent       "
   ]
  },
  {
   "cell_type": "code",
   "execution_count": 6,
   "metadata": {
    "collapsed": false,
    "deletable": true,
    "editable": true
   },
   "outputs": [],
   "source": [
    "nb_naive,vect=train_intent_mapper()"
   ]
  },
  {
   "cell_type": "code",
   "execution_count": 7,
   "metadata": {
    "collapsed": false,
    "deletable": true,
    "editable": true
   },
   "outputs": [
    {
     "data": {
      "text/plain": [
       "'Book'"
      ]
     },
     "execution_count": 7,
     "metadata": {},
     "output_type": "execute_result"
    }
   ],
   "source": [
    "test_intent_mapper('look for a cab from koramangalla to bellandur',nb_naive,vect)"
   ]
  },
  {
   "cell_type": "code",
   "execution_count": null,
   "metadata": {
    "collapsed": true,
    "deletable": true,
    "editable": true
   },
   "outputs": [],
   "source": []
  }
 ],
 "metadata": {
  "kernelspec": {
   "display_name": "Python 3",
   "language": "python",
   "name": "python3"
  },
  "language_info": {
   "codemirror_mode": {
    "name": "ipython",
    "version": 3
   },
   "file_extension": ".py",
   "mimetype": "text/x-python",
   "name": "python",
   "nbconvert_exporter": "python",
   "pygments_lexer": "ipython3",
   "version": "3.5.2"
  }
 },
 "nbformat": 4,
 "nbformat_minor": 2
}
