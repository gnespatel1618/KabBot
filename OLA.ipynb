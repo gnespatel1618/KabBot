{
 "cells": [
  {
   "cell_type": "code",
   "execution_count": 153,
   "metadata": {
    "collapsed": false
   },
   "outputs": [],
   "source": [
    "def cab_details_avai(ride):\n",
    "    columns = ['Car type', 'Availability', 'Number of seats', 'ETA', 'Distance' ]\n",
    "    ride_cat = ride['categories']\n",
    "    dicti = []\n",
    "    for i in range(0,len(ride_cat)):\n",
    "        seats = \"4\"\n",
    "        avail = \"Yes\"\n",
    "        if ride_cat[i]['eta'] == -1:\n",
    "            avail = \"No\"\n",
    "            data = {'Car type' : ride_cat[i]['display_name'],'Availability' : avail}\n",
    "            dicti.append(data)\n",
    "        else:\n",
    "            if ride_cat[i]['display_name']==\"Share\":\n",
    "                seats = \"1/2\"\n",
    "                data = {'Car type' : ride_cat[i]['display_name'],'Availability' : avail, 'Number of seats':           seats,'ETA' : ride_cat[i]['eta'],'Distance' : ride_cat[i]['distance']}\n",
    "                dicti.append(data)   \n",
    "            else:\n",
    "                data = {'Car type' : ride_cat[i]['display_name'],'Availability' : avail, 'Number of seats': seats,'ETA' : ride_cat[i]['eta'],'Distance' : ride_cat[i]['distance']}\n",
    "                dicti.append(data)\n",
    "    df = pd.DataFrame(dicti,columns = columns)\n",
    "    return df"
   ]
  },
  {
   "cell_type": "code",
   "execution_count": 154,
   "metadata": {
    "collapsed": true
   },
   "outputs": [],
   "source": [
    "def cab_details(ride):\n",
    "    columns = ['Car type', 'Availability', 'Number of seats', 'Distance(Km)', 'Estimated Travel time(min)', 'Minimum Price', 'Maximum Price','ETA' ]\n",
    "    #df = pd.DataFrame(data,columns = columns)\n",
    "    ride_cat = ride['categories']\n",
    "    ride_est = ride['ride_estimate']\n",
    "    dict = []\n",
    "    for i in range(0,len(ride_cat)):\n",
    "        if ride_cat[i]['eta'] == 0:\n",
    "            print (ride_cat[i]['display_name'] + \" not available\")\n",
    "            data1 = {'Car type' : ride_cat[i]['display_name'], 'Availability': \"No\"}\n",
    "            dict.append(data1)\n",
    "        else:\n",
    "            avail='Yes'\n",
    "            if ride_cat[i]['eta'] == -1: avail='No'\n",
    "            if ride_cat[i]['display_name'] == \"Share\":\n",
    "                for j in range(0,2):\n",
    "                    data1 = {'Car type': ride_cat[i]['display_name'],\n",
    "                             'Number of seats': ride_est[i]['fares'][j]['seats'], \n",
    "                             'Travel time(min)': ride_est[i]['travel_time_min'], \n",
    "                             'Maximum Price': ride_est[i]['fares'][j]['cost'], \n",
    "                             'Minimum Price': ride_est[i]['fares'][j]['cost'], \n",
    "                             'Availability' : avail,\n",
    "                             'ETA': ride_cat[i]['eta']}\n",
    "                    dict.append(data1)\n",
    "            else:\n",
    "                data1 = {'Car type': ride_cat[i]['display_name'],\n",
    "                         'Number of seats': \"4\",\n",
    "                         'Distance(Km)': ride_est[i]['distance'], \n",
    "                         'Estimated Travel time(min)': ride_est[i]['travel_time_in_minutes'], \n",
    "                         'Maximum Price': ride_est[i]['amount_max'], \n",
    "                         'Minimum Price': ride_est[i]['amount_min'], \n",
    "                         'Availability' : avail,\n",
    "                         'ETA': ride_cat[i]['eta']}\n",
    "                dict.append(data1)          \n",
    "    df = pd.DataFrame(dict,columns = columns)\n",
    "    return df"
   ]
  },
  {
   "cell_type": "code",
   "execution_count": 155,
   "metadata": {
    "collapsed": false
   },
   "outputs": [],
   "source": [
    "def looksrc(source):\n",
    "    api = Geocoding()\n",
    "    source_loc = api.geocode(source)\n",
    "    source_lat_long = source_loc[0]['geometry']['location']\n",
    "    headers = {'X-APP-TOKEN' : \"e957bc073c664db7b0a31f4b060235f5\"}\n",
    "    payload= {'pickup_lat': str(source_lat_long['lat']), 'pickup_lng':str(source_lat_long['lng'])}\n",
    "    response = requests.get('http://sandbox-t.olacabs.com/v1/products', params=payload, headers=headers)\n",
    "    cab_details_df=cab_details_avai(response.json())\n",
    "    cab_details_df.fillna(0,axis=1,inplace=True)\n",
    "    return cab_details_df"
   ]
  },
  {
   "cell_type": "code",
   "execution_count": 156,
   "metadata": {
    "collapsed": false
   },
   "outputs": [],
   "source": [
    "import requests\n",
    "import gmaps\n",
    "import pandas as pd\n",
    "from gmaps import Geocoding\n",
    "x=looksrc(\"Stack Route,Kormangala\")"
   ]
  },
  {
   "cell_type": "code",
   "execution_count": 158,
   "metadata": {
    "collapsed": false
   },
   "outputs": [
    {
     "data": {
      "text/html": [
       "<div>\n",
       "<table border=\"1\" class=\"dataframe\">\n",
       "  <thead>\n",
       "    <tr style=\"text-align: right;\">\n",
       "      <th></th>\n",
       "      <th>Car type</th>\n",
       "      <th>Availability</th>\n",
       "      <th>Number of seats</th>\n",
       "      <th>ETA</th>\n",
       "      <th>Distance</th>\n",
       "    </tr>\n",
       "  </thead>\n",
       "  <tbody>\n",
       "    <tr>\n",
       "      <th>4</th>\n",
       "      <td>Share</td>\n",
       "      <td>Yes</td>\n",
       "      <td>1/2</td>\n",
       "      <td>29.0</td>\n",
       "      <td>9.5</td>\n",
       "    </tr>\n",
       "  </tbody>\n",
       "</table>\n",
       "</div>"
      ],
      "text/plain": [
       "  Car type Availability Number of seats   ETA Distance\n",
       "4    Share          Yes             1/2  29.0      9.5"
      ]
     },
     "execution_count": 158,
     "metadata": {},
     "output_type": "execute_result"
    }
   ],
   "source": [
    "x[x['Availability']=='Yes']"
   ]
  },
  {
   "cell_type": "code",
   "execution_count": null,
   "metadata": {
    "collapsed": true
   },
   "outputs": [],
   "source": [
    "def look(source,destination):\n",
    "    api = Geocoding()\n",
    "    source_loc = api.geocode(source)\n",
    "    destination_loc = api.geocode(destination)\n",
    "    source_lat_long = source_loc[0]['geometry']['location']\n",
    "    destination_lat_long = destination_loc[0]['geometry']['location']\n",
    "    headers = {'X-APP-TOKEN' : \"e957bc073c664db7b0a31f4b060235f5\"}\n",
    "    payload= {'pickup_lat': str(source_lat_long['lat']), 'pickup_lng':str(source_lat_long['lng']), 'drop_lat':str(destination_lat_long['lat']), 'drop_lng':str(destination_lat_long['lng'])}\n",
    "    response = requests.get('http://sandbox-t.olacabs.com/v1/products', params=payload, headers=headers)\n",
    "    cab_details_df=cab_details(response.json())\n",
    "    cab_details_df.fillna(0,axis=1,inplace=True)\n",
    "    return cab_details_df"
   ]
  },
  {
   "cell_type": "code",
   "execution_count": 123,
   "metadata": {
    "collapsed": false
   },
   "outputs": [],
   "source": [
    "import requests\n",
    "import gmaps\n",
    "import pandas as pd"
   ]
  },
  {
   "cell_type": "code",
   "execution_count": 124,
   "metadata": {
    "collapsed": true
   },
   "outputs": [],
   "source": [
    "from gmaps import Geocoding"
   ]
  },
  {
   "cell_type": "code",
   "execution_count": 125,
   "metadata": {
    "collapsed": false
   },
   "outputs": [],
   "source": [
    "x=look(\"Stack Route,Kormangala\",\"Wipro, Electronic City\")"
   ]
  },
  {
   "cell_type": "code",
   "execution_count": 117,
   "metadata": {
    "collapsed": false
   },
   "outputs": [
    {
     "data": {
      "text/html": [
       "<div>\n",
       "<table border=\"1\" class=\"dataframe\">\n",
       "  <thead>\n",
       "    <tr style=\"text-align: right;\">\n",
       "      <th></th>\n",
       "      <th>Car type</th>\n",
       "      <th>Availability</th>\n",
       "      <th>Number of seats</th>\n",
       "      <th>Distance(Km)</th>\n",
       "      <th>Estimated Travel time(min)</th>\n",
       "      <th>Minimum Price</th>\n",
       "      <th>Maximum Price</th>\n",
       "      <th>ETA</th>\n",
       "    </tr>\n",
       "  </thead>\n",
       "  <tbody>\n",
       "    <tr>\n",
       "      <th>0</th>\n",
       "      <td>Micro</td>\n",
       "      <td>No</td>\n",
       "      <td>4</td>\n",
       "      <td>14.59</td>\n",
       "      <td>37.0</td>\n",
       "      <td>186</td>\n",
       "      <td>213</td>\n",
       "      <td>-1</td>\n",
       "    </tr>\n",
       "    <tr>\n",
       "      <th>1</th>\n",
       "      <td>Mini</td>\n",
       "      <td>No</td>\n",
       "      <td>4</td>\n",
       "      <td>14.59</td>\n",
       "      <td>37.0</td>\n",
       "      <td>290</td>\n",
       "      <td>333</td>\n",
       "      <td>-1</td>\n",
       "    </tr>\n",
       "    <tr>\n",
       "      <th>2</th>\n",
       "      <td>Sedan</td>\n",
       "      <td>No</td>\n",
       "      <td>4</td>\n",
       "      <td>14.59</td>\n",
       "      <td>37.0</td>\n",
       "      <td>271</td>\n",
       "      <td>311</td>\n",
       "      <td>-1</td>\n",
       "    </tr>\n",
       "    <tr>\n",
       "      <th>3</th>\n",
       "      <td>Prime Sedan</td>\n",
       "      <td>No</td>\n",
       "      <td>4</td>\n",
       "      <td>14.59</td>\n",
       "      <td>37.0</td>\n",
       "      <td>235</td>\n",
       "      <td>270</td>\n",
       "      <td>-1</td>\n",
       "    </tr>\n",
       "    <tr>\n",
       "      <th>4</th>\n",
       "      <td>Share</td>\n",
       "      <td>Yes</td>\n",
       "      <td>1</td>\n",
       "      <td>0.00</td>\n",
       "      <td>0.0</td>\n",
       "      <td>125</td>\n",
       "      <td>125</td>\n",
       "      <td>29</td>\n",
       "    </tr>\n",
       "    <tr>\n",
       "      <th>5</th>\n",
       "      <td>Share</td>\n",
       "      <td>Yes</td>\n",
       "      <td>2</td>\n",
       "      <td>0.00</td>\n",
       "      <td>0.0</td>\n",
       "      <td>138</td>\n",
       "      <td>138</td>\n",
       "      <td>29</td>\n",
       "    </tr>\n",
       "  </tbody>\n",
       "</table>\n",
       "</div>"
      ],
      "text/plain": [
       "      Car type Availability Number of seats  Distance(Km)  \\\n",
       "0        Micro           No               4         14.59   \n",
       "1         Mini           No               4         14.59   \n",
       "2        Sedan           No               4         14.59   \n",
       "3  Prime Sedan           No               4         14.59   \n",
       "4        Share          Yes               1          0.00   \n",
       "5        Share          Yes               2          0.00   \n",
       "\n",
       "   Estimated Travel time(min)  Minimum Price  Maximum Price  ETA  \n",
       "0                        37.0            186            213   -1  \n",
       "1                        37.0            290            333   -1  \n",
       "2                        37.0            271            311   -1  \n",
       "3                        37.0            235            270   -1  \n",
       "4                         0.0            125            125   29  \n",
       "5                         0.0            138            138   29  "
      ]
     },
     "execution_count": 117,
     "metadata": {},
     "output_type": "execute_result"
    }
   ],
   "source": [
    "x"
   ]
  },
  {
   "cell_type": "code",
   "execution_count": 129,
   "metadata": {
    "collapsed": false
   },
   "outputs": [
    {
     "data": {
      "text/plain": [
       "Car type                       object\n",
       "Availability                   object\n",
       "Number of seats                object\n",
       "Distance(Km)                  float64\n",
       "Estimated Travel time(min)    float64\n",
       "Minimum Price                   int64\n",
       "Maximum Price                   int64\n",
       "ETA                             int64\n",
       "dtype: object"
      ]
     },
     "execution_count": 129,
     "metadata": {},
     "output_type": "execute_result"
    }
   ],
   "source": [
    "x.dtypes"
   ]
  },
  {
   "cell_type": "code",
   "execution_count": 120,
   "metadata": {
    "collapsed": false
   },
   "outputs": [
    {
     "data": {
      "text/plain": [
       "' Micro No 4 14.59 37.0 186 213 -1 \\n Mini No 4 14.59 37.0 290 333 -1 \\n Sedan No 4 14.59 37.0 271 311 -1 \\n Prime Sedan No 4 14.59 37.0 235 270 -1 \\n Share Yes 1 0.0 0.0 125 125 29 \\n Share Yes 2 0.0 0.0 138 138 29 \\n'"
      ]
     },
     "execution_count": 120,
     "metadata": {},
     "output_type": "execute_result"
    }
   ],
   "source": [
    "dftostring(x)"
   ]
  },
  {
   "cell_type": "code",
   "execution_count": 119,
   "metadata": {
    "collapsed": true
   },
   "outputs": [],
   "source": [
    "def dftostring(cab_details_df):\n",
    "    cab_det=\"\"\n",
    "    for i in range(cab_details_df.shape[0]):\n",
    "        x=list(cab_details_df.loc[i])\n",
    "        s=\" \"\n",
    "        for i in x:\n",
    "            s=s+str(i)+\" \"\n",
    "        cab_det=cab_det+s+\"\\n\" \n",
    "    return cab_det "
   ]
  },
  {
   "cell_type": "code",
   "execution_count": 139,
   "metadata": {
    "collapsed": true
   },
   "outputs": [],
   "source": [
    "import random"
   ]
  },
  {
   "cell_type": "code",
   "execution_count": 140,
   "metadata": {
    "collapsed": true
   },
   "outputs": [],
   "source": [
    "from random import randint\n",
    "\n",
    "def random_with_N_digits(n):\n",
    "    range_start = 10**(n-1)\n",
    "    range_end = (10**n)-1\n",
    "    return randint(range_start, range_end)"
   ]
  },
  {
   "cell_type": "code",
   "execution_count": 141,
   "metadata": {
    "collapsed": true
   },
   "outputs": [],
   "source": [
    "def book(source,destination,cabtype,noofseats):\n",
    "    df=look(source,destination)\n",
    "    driver_name=[\"Tharoon Veerasethu\",\"Sharmaji\",\"Chachaji\",\"Chunnu\",\"Munni\",\"beta\",\"daadaji\",\"daadi\",\"bhai\",\"shinde\",\"langoor\"]\n",
    "    for i in range(df.shape[0]):\n",
    "        x=list(df.loc[i])\n",
    "        if cabtype in x:\n",
    "            for j in x:\n",
    "                if j == cabtype and df.loc[i,'Availability']=='Yes':\n",
    "                    SessInfo['bookingid']=\"OLA\"+str(random_with_N_digits(6))\n",
    "                    SessInfo['drivername']=random.choice(driver_name)\n",
    "                    SessInfo['driverno']=random_with_N_digits(10)\n",
    "                    SessInfo['carno']=\"KN-\"+str(random_with_N_digits(2))+\"-\"+str(random_with_N_digits(4))\n",
    "                    SessInfo['fare']=(df.loc[i,'Minimum Price']+df.loc[i,'Maximum Price'])/2\n",
    "                    SessInfo['cabtype']=cabtype\n",
    "                    SessInfo['noofseats']=noofseats\n",
    "                    SessInfo['eta']=df.loc[i,'ETA']\n",
    "                    if cabtype != 'Share': \n",
    "                        SessInfo['distance']=df.loc[i,'Distance(Km)']\n",
    "                        Sessinfo['ett']=df.loc[i,'Estimated Travel time(min)']\n",
    "                    break                    "
   ]
  },
  {
   "cell_type": "code",
   "execution_count": 142,
   "metadata": {
    "collapsed": true
   },
   "outputs": [],
   "source": [
    "SessInfo =dict()"
   ]
  },
  {
   "cell_type": "code",
   "execution_count": 143,
   "metadata": {
    "collapsed": false
   },
   "outputs": [],
   "source": [
    "book(\"Stack Route,Kormangala\",\"Wipro, Electronic City\",\"Share\",1)"
   ]
  },
  {
   "cell_type": "code",
   "execution_count": 144,
   "metadata": {
    "collapsed": false
   },
   "outputs": [
    {
     "data": {
      "text/plain": [
       "{'bookingid': 'OLA492865',\n",
       " 'cabtype': 'Share',\n",
       " 'carno': 'KN-98-1355',\n",
       " 'drivername': 'shinde',\n",
       " 'driverno': 8373442571,\n",
       " 'eta': 29,\n",
       " 'fare': 198.0,\n",
       " 'noofseats': 1}"
      ]
     },
     "execution_count": 144,
     "metadata": {},
     "output_type": "execute_result"
    }
   ],
   "source": [
    "SessInfo"
   ]
  },
  {
   "cell_type": "code",
   "execution_count": null,
   "metadata": {
    "collapsed": true
   },
   "outputs": [],
   "source": [
    "import pandas as pd\n",
    "df="
   ]
  },
  {
   "cell_type": "code",
   "execution_count": 87,
   "metadata": {
    "collapsed": false
   },
   "outputs": [
    {
     "data": {
      "text/plain": [
       "{'categories': [{'currency': 'INR',\n",
       "   'display_name': 'Micro',\n",
       "   'distance': -1,\n",
       "   'distance_unit': 'kilometre',\n",
       "   'eta': -1,\n",
       "   'fare_breakup': [{'base_fare': 50.0,\n",
       "     'cost_per_distance': 9.0,\n",
       "     'minimum_distance': 0.0,\n",
       "     'minimum_fare': 60.0,\n",
       "     'minimum_time': 2.0,\n",
       "     'rates_higher_than_usual': False,\n",
       "     'ride_cost_per_minute': 2.0,\n",
       "     'surcharge': [],\n",
       "     'type': 'flat_rate',\n",
       "     'waiting_cost_per_minute': 0.0}],\n",
       "   'id': 'micro',\n",
       "   'image': 'http://d1foexe15giopy.cloudfront.net/micro.png',\n",
       "   'ride_later_enabled': 'false',\n",
       "   'time_unit': 'minute'},\n",
       "  {'currency': 'INR',\n",
       "   'display_name': 'Mini',\n",
       "   'distance': -1,\n",
       "   'distance_unit': 'kilometre',\n",
       "   'eta': -1,\n",
       "   'fare_breakup': [{'base_fare': 50.0,\n",
       "     'cost_per_distance': 5.0,\n",
       "     'minimum_distance': 4.0,\n",
       "     'minimum_fare': 60.0,\n",
       "     'minimum_time': 2.0,\n",
       "     'rates_higher_than_usual': False,\n",
       "     'ride_cost_per_minute': 2.0,\n",
       "     'surcharge': [],\n",
       "     'type': 'flat_rate',\n",
       "     'waiting_cost_per_minute': 0.0},\n",
       "    {'base_fare': 500.0,\n",
       "     'cost_per_distance': 15.0,\n",
       "     'minimum_distance': 30.0,\n",
       "     'minimum_fare': 0.0,\n",
       "     'minimum_time': 2.0,\n",
       "     'rates_higher_than_usual': False,\n",
       "     'ride_cost_per_minute': 5.0,\n",
       "     'surcharge': [],\n",
       "     'type': 'airport_rate',\n",
       "     'waiting_cost_per_minute': 0.0}],\n",
       "   'id': 'mini',\n",
       "   'image': 'http://d1foexe15giopy.cloudfront.net/mini.png',\n",
       "   'ride_later_enabled': 'true',\n",
       "   'time_unit': 'minute'},\n",
       "  {'currency': 'INR',\n",
       "   'display_name': 'Sedan',\n",
       "   'distance': -1,\n",
       "   'distance_unit': 'kilometre',\n",
       "   'eta': -1,\n",
       "   'fare_breakup': [{'base_fare': 600.0,\n",
       "     'cost_per_distance': 16.0,\n",
       "     'minimum_distance': 30.0,\n",
       "     'minimum_fare': 0.0,\n",
       "     'minimum_time': 0.0,\n",
       "     'rates_higher_than_usual': False,\n",
       "     'ride_cost_per_minute': 0.0,\n",
       "     'surcharge': [],\n",
       "     'type': 'airport_rate',\n",
       "     'waiting_cost_per_minute': 2.0},\n",
       "    {'base_fare': 100.0,\n",
       "     'cost_per_distance': 13.0,\n",
       "     'minimum_distance': 4.0,\n",
       "     'minimum_fare': 0.0,\n",
       "     'minimum_time': 5.0,\n",
       "     'rates_higher_than_usual': False,\n",
       "     'ride_cost_per_minute': 1.0,\n",
       "     'surcharge': [],\n",
       "     'type': 'flat_rate',\n",
       "     'waiting_cost_per_minute': 0.0}],\n",
       "   'id': 'sedan',\n",
       "   'image': 'http://d1foexe15giopy.cloudfront.net/sedan.png',\n",
       "   'ride_later_enabled': 'true',\n",
       "   'time_unit': 'minute'},\n",
       "  {'currency': 'INR',\n",
       "   'display_name': 'Prime Sedan',\n",
       "   'distance': -1,\n",
       "   'distance_unit': 'kilometre',\n",
       "   'eta': -1,\n",
       "   'fare_breakup': [{'base_fare': 80.0,\n",
       "     'cost_per_distance': 10.0,\n",
       "     'minimum_distance': 4.0,\n",
       "     'minimum_fare': 0.0,\n",
       "     'minimum_time': 5.0,\n",
       "     'rates_higher_than_usual': False,\n",
       "     'ride_cost_per_minute': 1.0,\n",
       "     'surcharge': [],\n",
       "     'type': 'flat_rate',\n",
       "     'waiting_cost_per_minute': 0.0},\n",
       "    {'base_fare': 600.0,\n",
       "     'cost_per_distance': 16.0,\n",
       "     'minimum_distance': 30.0,\n",
       "     'minimum_fare': 0.0,\n",
       "     'minimum_time': 0.0,\n",
       "     'rates_higher_than_usual': False,\n",
       "     'ride_cost_per_minute': 0.0,\n",
       "     'surcharge': [],\n",
       "     'type': 'airport_rate',\n",
       "     'waiting_cost_per_minute': 2.0}],\n",
       "   'id': 'prime',\n",
       "   'image': 'http://d1foexe15giopy.cloudfront.net/prime.png',\n",
       "   'ride_later_enabled': 'false',\n",
       "   'time_unit': 'minute'},\n",
       "  {'currency': 'INR',\n",
       "   'display_name': 'Share',\n",
       "   'distance': '9.3',\n",
       "   'distance_unit': 'kilometre',\n",
       "   'eta': 29,\n",
       "   'fare_breakup': [{'fare': 'Save up to 50% on Mini fares',\n",
       "     'surcharge': [],\n",
       "     'type': 'standard_rate'}],\n",
       "   'id': 'share',\n",
       "   'image': 'http://d1foexe15giopy.cloudfront.net/share.png',\n",
       "   'ride_later_enabled': 'false',\n",
       "   'time_unit': 'minute'}],\n",
       " 'ride_estimate': {}}"
      ]
     },
     "execution_count": 87,
     "metadata": {},
     "output_type": "execute_result"
    }
   ],
   "source": [
    "import requests\n",
    "\n",
    "headers = {'X-APP-TOKEN' : \"38056236716e4019861471e180aa8a0a\"}\n",
    "payload= {'pickup_lat': 12.9279, 'pickup_lng': 77.6271,}\n",
    "#response = requests.get('http://sandbox-t.olacabs.com/v1/products', params=payload, headers=headers)\n",
    "#response = requests.get('http://sandbox-t.olacabs.com/v1/products', params=payload, headers=headers)\n",
    "res #= response.json()\n",
    "res"
   ]
  },
  {
   "cell_type": "code",
   "execution_count": 68,
   "metadata": {
    "collapsed": false
   },
   "outputs": [],
   "source": [
    "payload= {'pickup_lat': 12.9279, 'pickup_lng': 77.6271, 'drop_lat':12.96, 'drop_lng':77.678}\n",
    "response = requests.get('http://sandbox-t.olacabs.com/v1/products', params=payload, headers=headers)"
   ]
  },
  {
   "cell_type": "code",
   "execution_count": 69,
   "metadata": {
    "collapsed": false
   },
   "outputs": [],
   "source": [
    "m = response.json()"
   ]
  },
  {
   "cell_type": "code",
   "execution_count": 72,
   "metadata": {
    "collapsed": false
   },
   "outputs": [
    {
     "data": {
      "text/plain": [
       "{'currency': 'INR',\n",
       " 'display_name': 'Micro',\n",
       " 'distance': -1,\n",
       " 'distance_unit': 'kilometre',\n",
       " 'eta': -1,\n",
       " 'fare_breakup': [{'base_fare': 50.0,\n",
       "   'cost_per_distance': 9.0,\n",
       "   'minimum_distance': 0.0,\n",
       "   'minimum_fare': 60.0,\n",
       "   'minimum_time': 2.0,\n",
       "   'rates_higher_than_usual': False,\n",
       "   'ride_cost_per_minute': 2.0,\n",
       "   'surcharge': [],\n",
       "   'type': 'flat_rate',\n",
       "   'waiting_cost_per_minute': 0.0}],\n",
       " 'id': 'micro',\n",
       " 'image': 'http://d1foexe15giopy.cloudfront.net/micro.png',\n",
       " 'ride_later_enabled': 'false',\n",
       " 'time_unit': 'minute'}"
      ]
     },
     "execution_count": 72,
     "metadata": {},
     "output_type": "execute_result"
    }
   ],
   "source": [
    "m['categories'][0]"
   ]
  },
  {
   "cell_type": "code",
   "execution_count": 40,
   "metadata": {
    "collapsed": false
   },
   "outputs": [
    {
     "data": {
      "text/plain": [
       "[{'amount_max': 171,\n",
       "  'amount_min': 149,\n",
       "  'category': 'mini',\n",
       "  'distance': 9.74,\n",
       "  'travel_time_in_minutes': 32},\n",
       " {'amount_max': 250,\n",
       "  'amount_min': 218,\n",
       "  'category': 'sedan',\n",
       "  'distance': 9.74,\n",
       "  'travel_time_in_minutes': 32},\n",
       " {'amount_max': 244,\n",
       "  'amount_min': 213,\n",
       "  'category': 'micro',\n",
       "  'distance': 9.74,\n",
       "  'travel_time_in_minutes': 32},\n",
       " {'amount_max': 203,\n",
       "  'amount_min': 177,\n",
       "  'category': 'prime',\n",
       "  'distance': 9.74,\n",
       "  'travel_time_in_minutes': 32},\n",
       " {'category': 'share',\n",
       "  'fares': [{'actual_cost': 154,\n",
       "    'cost': 123,\n",
       "    'discount_string': '21% of micro rate',\n",
       "    'fare_string': '79% of micro rate',\n",
       "    'peak_time_charge': '1.0x',\n",
       "    'peak_time_text': 'Fare inclusive of 1.0x peak pricing',\n",
       "    'savings': 31,\n",
       "    'seats': 1},\n",
       "   {'actual_cost': 154,\n",
       "    'cost': 136,\n",
       "    'discount_string': '12% of micro rate',\n",
       "    'fare_string': '88% of micro rate',\n",
       "    'peak_time_charge': '1.0x',\n",
       "    'peak_time_text': 'Fare inclusive of 1.0x peak pricing',\n",
       "    'savings': 18,\n",
       "    'seats': 2}],\n",
       "  'promotional_message': 'Ola share rides are prepaid. Please pay upon boarding.',\n",
       "  'travel_time_max': 129,\n",
       "  'travel_time_min': 29,\n",
       "  'travel_time_unit': 'MINUTES'}]"
      ]
     },
     "execution_count": 40,
     "metadata": {},
     "output_type": "execute_result"
    }
   ],
   "source": [
    "m['ride_estimate']"
   ]
  },
  {
   "cell_type": "code",
   "execution_count": null,
   "metadata": {
    "collapsed": true
   },
   "outputs": [],
   "source": [
    "def ola_available(source, destination=None):\n",
    "    "
   ]
  }
 ],
 "metadata": {
  "kernelspec": {
   "display_name": "Python 3",
   "language": "python",
   "name": "python3"
  },
  "language_info": {
   "codemirror_mode": {
    "name": "ipython",
    "version": 3
   },
   "file_extension": ".py",
   "mimetype": "text/x-python",
   "name": "python",
   "nbconvert_exporter": "python",
   "pygments_lexer": "ipython3",
   "version": "3.5.2"
  }
 },
 "nbformat": 4,
 "nbformat_minor": 2
}
