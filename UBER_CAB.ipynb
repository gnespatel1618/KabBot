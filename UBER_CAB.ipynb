{
 "cells": [
  {
   "cell_type": "code",
   "execution_count": 128,
   "metadata": {
    "collapsed": false
   },
   "outputs": [],
   "source": [
    "import pandas as pd\n",
    "from uber_rides.session import Session\n",
    "from uber_rides.client import UberRidesClient\n",
    "import random\n",
    "from random import randint\n",
    "from gmaps import Geocoding\n",
    "import uber_rides.errors as uber_error\n",
    "\n",
    "session = Session(server_token='gQqt-C_l3O2CSZ0Y2TNjIRJQmSmowvcJPMAOBLoB')\n",
    "client = UberRidesClient(session)"
   ]
  },
  {
   "cell_type": "code",
   "execution_count": 142,
   "metadata": {
    "collapsed": false
   },
   "outputs": [],
   "source": [
    "# when looking for a cab pass seatcount as 1\n",
    "# when booking a cab pass the exact seat count required\n",
    "def look_uber(source, seatcount=2, destination=None):\n",
    "    api = Geocoding()\n",
    "    try:\n",
    "        source_loc = api.geocode(source)\n",
    "        source_lat_long = source_loc[0]['geometry']['location']\n",
    "        start_lat=source_lat_long['lat']\n",
    "        start_lng=source_lat_long['lng']\n",
    "    except:\n",
    "        return ('Enter Valid Source.')\n",
    "    \n",
    "    \n",
    "    if destination : \n",
    "        try:\n",
    "            destination_loc = api.geocode(destination)\n",
    "            destination_lat_long = destination_loc[0]['geometry']['location']\n",
    "            end_lat=destination_lat_long['lat']\n",
    "            end_lng=destination_lat_long['lng']\n",
    "\n",
    "        except:\n",
    "            return ('Enter Valid destination.')\n",
    "        \n",
    "    else:\n",
    "        end_lat=12.9173312 # latitude of Central Silk Board\n",
    "        end_lng=77.6212483 # longitude of Central Silk Board\n",
    "    try:\n",
    "        response = client.get_price_estimates(\n",
    "            start_latitude=start_lat,\n",
    "            start_longitude=start_lng,\n",
    "            end_latitude=end_lat,\n",
    "            end_longitude=end_lng,\n",
    "            seat_count=seatcount\n",
    "            )    \n",
    "\n",
    "        estimate = response.json \n",
    "        cab_details_df= uber_cab_details(estimate)\n",
    "        cab_details_df.fillna(0, axis=1, inplace=True)\n",
    "        return cab_details_df\n",
    "    except uber_error.ClientError as e:\n",
    "        return 'Distance between two points exceeds 100 miles'\n",
    "    "
   ]
  },
  {
   "cell_type": "code",
   "execution_count": 130,
   "metadata": {
    "collapsed": true
   },
   "outputs": [],
   "source": [
    "def uber_cab_details(cab_dict):\n",
    "    columns = ['Car type', 'Availability', 'Distance(Km)', 'Minimum Price', 'Maximum Price', 'ETA(min)' ]\n",
    "    index=list(range(len(cab_dict['prices'])))\n",
    "    df = pd.DataFrame(index=index, columns=columns)\n",
    "    for i in index:\n",
    "        df.loc[i,'Car type'] = estimate['prices'][i]['display_name']\n",
    "        df.loc[i,'Availability'] = \"Yes\"\n",
    "        df.loc[i,'Distance(Km)'] = estimate['prices'][i]['distance']\n",
    "        df.loc[i,'Minimum Price'] = estimate['prices'][i]['low_estimate']\n",
    "        df.loc[i,'Maximum Price'] = estimate['prices'][i]['high_estimate']\n",
    "        df.loc[i,'ETA(min)'] = int(estimate['prices'][i]['duration']/100)\n",
    "    return df      "
   ]
  },
  {
   "cell_type": "code",
   "execution_count": 131,
   "metadata": {
    "collapsed": true
   },
   "outputs": [],
   "source": [
    "def book_uber(source, destination, cabtype, noofseats):\n",
    "    df = lookuber(noofseats,source, destination)\n",
    "    driver_name=[\"Tharoon Veerasethu\",\"Sharmaji\",\"Chachaji\",\"Chunnu\",\"Munni\",\"beta\",\"daadaji\",\"daadi\",\"bhai\",\"shinde\",\"langoor\"]\n",
    "    for i in range(df.shape[0]):\n",
    "        x=list(df.loc[i])\n",
    "        if cabtype in x:\n",
    "            for j in x:\n",
    "                if j == cabtype and df.loc[i,'Availability']=='Yes':\n",
    "                    SessInfo['bookingid']=\"UBER\"+str(random_with_N_digits(6))\n",
    "                    SessInfo['drivername']=random.choice(driver_name)\n",
    "                    SessInfo['driverno']=random_with_N_digits(10)\n",
    "                    SessInfo['carno']=\"KN-\"+str(random_with_N_digits(2))+\"-\"+str(random_with_N_digits(4))\n",
    "                    SessInfo['fare']=(df.loc[i,'Minimum Price']+df.loc[i,'Maximum Price'])/2\n",
    "                    SessInfo['cabtype']=cabtype\n",
    "                    SessInfo['noofseats']=noofseats\n",
    "                    SessInfo['eta']=df.loc[i,'ETA(min)'] \n",
    "                    SessInfo['distance']=df.loc[i,'Distance(Km)']\n",
    "                    break\n"
   ]
  },
  {
   "cell_type": "code",
   "execution_count": 132,
   "metadata": {
    "collapsed": true
   },
   "outputs": [],
   "source": [
    "def random_with_N_digits(n):\n",
    "    range_start = 10**(n-1)\n",
    "    range_end = (10**n)-1\n",
    "    return randint(range_start, range_end)  "
   ]
  },
  {
   "cell_type": "code",
   "execution_count": 143,
   "metadata": {
    "collapsed": false
   },
   "outputs": [
    {
     "data": {
      "text/html": [
       "<div>\n",
       "<table border=\"1\" class=\"dataframe\">\n",
       "  <thead>\n",
       "    <tr style=\"text-align: right;\">\n",
       "      <th></th>\n",
       "      <th>Car type</th>\n",
       "      <th>Availability</th>\n",
       "      <th>Distance(Km)</th>\n",
       "      <th>Minimum Price</th>\n",
       "      <th>Maximum Price</th>\n",
       "      <th>ETA(min)</th>\n",
       "    </tr>\n",
       "  </thead>\n",
       "  <tbody>\n",
       "    <tr>\n",
       "      <th>0</th>\n",
       "      <td>UberPOOL</td>\n",
       "      <td>Yes</td>\n",
       "      <td>12.15</td>\n",
       "      <td>265.0</td>\n",
       "      <td>326.0</td>\n",
       "      <td>25</td>\n",
       "    </tr>\n",
       "    <tr>\n",
       "      <th>1</th>\n",
       "      <td>UberGO</td>\n",
       "      <td>Yes</td>\n",
       "      <td>12.15</td>\n",
       "      <td>348.0</td>\n",
       "      <td>427.0</td>\n",
       "      <td>25</td>\n",
       "    </tr>\n",
       "    <tr>\n",
       "      <th>2</th>\n",
       "      <td>UberX</td>\n",
       "      <td>Yes</td>\n",
       "      <td>12.15</td>\n",
       "      <td>381.0</td>\n",
       "      <td>467.0</td>\n",
       "      <td>25</td>\n",
       "    </tr>\n",
       "    <tr>\n",
       "      <th>3</th>\n",
       "      <td>UberXL</td>\n",
       "      <td>Yes</td>\n",
       "      <td>12.15</td>\n",
       "      <td>573.0</td>\n",
       "      <td>701.0</td>\n",
       "      <td>25</td>\n",
       "    </tr>\n",
       "  </tbody>\n",
       "</table>\n",
       "</div>"
      ],
      "text/plain": [
       "   Car type Availability  Distance(Km)  Minimum Price  Maximum Price  ETA(min)\n",
       "0  UberPOOL          Yes         12.15          265.0          326.0        25\n",
       "1    UberGO          Yes         12.15          348.0          427.0        25\n",
       "2     UberX          Yes         12.15          381.0          467.0        25\n",
       "3    UberXL          Yes         12.15          573.0          701.0        25"
      ]
     },
     "execution_count": 143,
     "metadata": {},
     "output_type": "execute_result"
    }
   ],
   "source": [
    " look_uber('Electronic City, Bangalore', seatcount=2, destination='K R Puram')"
   ]
  },
  {
   "cell_type": "code",
   "execution_count": null,
   "metadata": {
    "collapsed": true
   },
   "outputs": [],
   "source": []
  }
 ],
 "metadata": {
  "kernelspec": {
   "display_name": "Python 3",
   "language": "python",
   "name": "python3"
  },
  "language_info": {
   "codemirror_mode": {
    "name": "ipython",
    "version": 3
   },
   "file_extension": ".py",
   "mimetype": "text/x-python",
   "name": "python",
   "nbconvert_exporter": "python",
   "pygments_lexer": "ipython3",
   "version": "3.5.2"
  }
 },
 "nbformat": 4,
 "nbformat_minor": 2
}
