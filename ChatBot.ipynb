{
 "cells": [
  {
   "cell_type": "markdown",
   "metadata": {
    "deletable": true,
    "editable": true
   },
   "source": [
    "## ChatBot"
   ]
  },
  {
   "cell_type": "code",
   "execution_count": 26,
   "metadata": {
    "collapsed": false,
    "deletable": true,
    "editable": true
   },
   "outputs": [],
   "source": [
    "import sys\n",
    "import pandas as pd\n",
    "import re\n",
    "import nltk\n",
    "from nltk.tokenize import sent_tokenize, word_tokenize\n",
    "from nltk.corpus import stopwords\n",
    "import random\n",
    "import requests\n",
    "import gmaps\n",
    "from gmaps import Geocoding\n",
    "from random import randint"
   ]
  },
  {
   "cell_type": "code",
   "execution_count": 2,
   "metadata": {
    "collapsed": false,
    "deletable": true,
    "editable": true
   },
   "outputs": [
    {
     "name": "stdout",
     "output_type": "stream",
     "text": [
      "Welcome to chatbot\n",
      "To exit press \"exit\"\n"
     ]
    }
   ],
   "source": [
    "print(\"Welcome to chatbot\\nTo exit press \\\"exit\\\"\")"
   ]
  },
  {
   "cell_type": "code",
   "execution_count": 3,
   "metadata": {
    "collapsed": false,
    "deletable": true,
    "editable": true
   },
   "outputs": [
    {
     "name": "stdout",
     "output_type": "stream",
     "text": [
      "TBL train (fast) (seqs: 38; tokens: 331; tpls: 18; min score: 2; min acc: None)\n",
      "Finding initial useful rules...\n",
      "    Found 661 useful rules.\n",
      "\n",
      "           B      |\n",
      "   S   F   r   O  |        Score = Fixed - Broken\n",
      "   c   i   o   t  |  R     Fixed = num tags changed incorrect -> correct\n",
      "   o   x   k   h  |  u     Broken = num tags changed correct -> incorrect\n",
      "   r   e   e   e  |  l     Other = num tags changed incorrect -> incorrect\n",
      "   e   d   n   r  |  e\n",
      "------------------+-------------------------------------------------------\n",
      "  22  28   6   2  | VB->NNP if Pos:TO@[-1]\n",
      "   8   8   0   0  | IN->NN if Word:hsr@[-1]\n",
      "   6   8   2   1  | JJ->NN if Pos:IN@[-3,-2,-1]\n",
      "   5   5   0   0  | PRP->NN if Pos:VBP@[1]\n",
      "   2   2   0   0  | VBD->NN if Pos:NN@[-1]\n",
      "   2   2   0   0  | VBN->JJ if Pos:DT@[-1]\n",
      "   2   2   0   0  | JJ->NNP if Pos:IN@[1]\n",
      "   2   2   0   0  | NNP->NN if Pos:DT@[1]\n",
      "   2   2   0   0  | NNP->VB if Pos:TO@[1]\n",
      "   2   2   0   0  | VBP->VB if Pos:VB@[2]\n"
     ]
    }
   ],
   "source": [
    "from nltk.wsd import lesk\n",
    "import nltk\n",
    "from nltk.tokenize import sent_tokenize,word_tokenize\n",
    "import tkinter\n",
    "from nltk.tag import brill, brill_trainer\n",
    "from nltk.tag.brill_trainer import BrillTaggerTrainer\n",
    "from nltk.data import load\n",
    "\n",
    "\n",
    "from nltk.corpus.reader import TaggedCorpusReader\n",
    "train_data = TaggedCorpusReader('.', 'tagged_input_sentences.txt', sep=\"/\")\n",
    "\n",
    "traindata= list(train_data.tagged_sents())\n",
    "\n",
    "postag= load('taggers/maxent_treebank_pos_tagger/english.pickle')\n",
    "\n",
    "templates = [\n",
    "        brill.Template(brill.Pos([-1])),\n",
    "        brill.Template(brill.Pos([1])),\n",
    "        brill.Template(brill.Pos([-2])),\n",
    "        brill.Template(brill.Pos([2])),\n",
    "        brill.Template(brill.Pos([-2, -1])),\n",
    "        brill.Template(brill.Pos([1, 2])),\n",
    "        brill.Template(brill.Pos([-3, -2, -1])),\n",
    "        brill.Template(brill.Pos([1, 2, 3])),\n",
    "        brill.Template(brill.Pos([-1]), brill.Pos([1])),\n",
    "        brill.Template(brill.Word([-1])),\n",
    "        brill.Template(brill.Word([1])),\n",
    "        brill.Template(brill.Word([-2])),\n",
    "        brill.Template(brill.Word([2])),\n",
    "        brill.Template(brill.Word([-2, -1])),\n",
    "        brill.Template(brill.Word([1, 2])),\n",
    "        brill.Template(brill.Word([-3, -2, -1])),\n",
    "        brill.Template(brill.Word([1, 2, 3])),\n",
    "        brill.Template(brill.Word([-1]), brill.Word([1]))]\n",
    "        \n",
    "trainer = BrillTaggerTrainer(postag, templates = templates, trace = 3)\n",
    "brill_tagger = trainer.train(traindata, max_rules = 10)"
   ]
  },
  {
   "cell_type": "code",
   "execution_count": 4,
   "metadata": {
    "collapsed": true,
    "deletable": true,
    "editable": true
   },
   "outputs": [],
   "source": [
    "def find_intent(inp):\n",
    "    intent = 'unknown' \n",
    "    ### we can try looking for lammatized word and synonyms in the inp rather directly\n",
    "    ### match patern to get the intent\n",
    "    if 'exit' in inp:\n",
    "        intent = 'exit'\n",
    "    \n",
    "    '''if inp == 'OK':\n",
    "        intent = 'final'\n",
    "    '''\n",
    "    if 'hey' in inp or 'hello' in inp or 'hi' in inp:\n",
    "        intent = 'greeting'\n",
    "        \n",
    "    if 'book' in inp or 'get' in inp:\n",
    "        intent = 'booking'\n",
    "    \n",
    "    elif 'available' in inp or 'look' in inp:\n",
    "        intent = 'looking'\n",
    "    \n",
    "    return intent\n",
    "    \n",
    "### book, look,     (?<!born\\s)\\d{4}"
   ]
  },
  {
   "cell_type": "code",
   "execution_count": 5,
   "metadata": {
    "collapsed": false,
    "deletable": true,
    "editable": true
   },
   "outputs": [],
   "source": [
    "def extract_location(inp):\n",
    "    tagged = brill_tagger.tag(word_tokenize(inp))\n",
    "    print(tagged)\n",
    "    source = None\n",
    "    destination = None\n",
    "    chunkGram = \"\"\"Source: {<IN>(<NN.*><,>?)+}\"\"\"\n",
    "    chunkParser = nltk.RegexpParser(chunkGram)\n",
    "    chunked = chunkParser.parse(tagged)\n",
    "    for subtree in chunked.subtrees(filter=lambda t: t.label() == 'Source'):\n",
    "        source = ' '.join(list(zip(*subtree))[0][1:]) \n",
    "    \n",
    "    chunkGram = \"\"\"Destination: {<TO>(<NN.*><,>?)+}\"\"\"\n",
    "    chunkParser = nltk.RegexpParser(chunkGram)\n",
    "    chunked = chunkParser.parse(tagged)\n",
    "    for subtree in chunked.subtrees(filter=lambda t: t.label() == 'Destination'):\n",
    "        destination = ' '.join(list(zip(*subtree))[0][1:]) \n",
    "    #print('function end',source,destination)\n",
    "    return source, destination"
   ]
  },
  {
   "cell_type": "code",
   "execution_count": 6,
   "metadata": {
    "collapsed": true,
    "deletable": true,
    "editable": true
   },
   "outputs": [],
   "source": [
    "def handle_require_field(intent):\n",
    "    ### keys needed for booking \n",
    "    if intent== 'booking': requiredKey = ['source','destination']\n",
    "    elif intent == 'looking' : requiredKey = ['source']\n",
    "    ### storing missing key require to complete booking\n",
    "    notAvail = []\n",
    "    for key in requiredKey:\n",
    "        if key not in SessInfo:\n",
    "            notAvail.append(key)\n",
    "        ### we can set flag and ask for all the keys simuntaneously\n",
    "    if(len(notAvail)!=0):\n",
    "        print('Please provide the following details to proceed:\\n')\n",
    "        for key in notAvail:\n",
    "            print(key)\n",
    "            SessInfo[key] = input()    "
   ]
  },
  {
   "cell_type": "code",
   "execution_count": null,
   "metadata": {
    "collapsed": false,
    "deletable": true,
    "editable": true
   },
   "outputs": [],
   "source": [
    "def storing_info(inp, intent, SessInfo):\n",
    "## intent might just be needed for output generation\n",
    "## removed Intent   \n",
    "    #print(inp, intent)\n",
    "    if intent == 'greeting':\n",
    "        #pattern = re.compile(r'\\bHi|Hello|Hey)\\b')\n",
    "        match = re.search('\\\\bhi|hello|hey\\\\b', inp)\n",
    "        if match : SessInfo['greet'] = match.group()\n",
    "        \n",
    "    if intent == 'booking' or intent == 'looking':\n",
    "    ### look for name entity and of 2 location are ther ethen look for from and \n",
    "    ### to and just store the one tagged with gpe\n",
    "        \n",
    "      ##########################################################\n",
    "    ############################################################\n",
    "    '''        if 'from' in inp and 'to' in inp:\n",
    "            print('***Storing from and to')\n",
    "            match = re.search('(?<=from\\s)\\w+\\\\b', inp)\n",
    "            if match:\n",
    "                SessInfo['source'] = match.group()\n",
    "\n",
    "            match = re.search('(?<=to\\s)\\w+\\\\b', inp)\n",
    "            if match:\n",
    "                SessInfo['destination'] = match.group()\n",
    "            #return\n",
    "        elif 'from' in inp:\n",
    "            print('***Storing from')\n",
    "            match = re.search('(?<=from\\s)\\w+\\\\b', inp)\n",
    "            if match:\n",
    "                SessInfo['source'] = match.group()\n",
    "                if 'destination' in SessInfo: del SessInfo['destination']\n",
    "            #return\n",
    "        elif 'to' in inp:\n",
    "            print('***Storing to')\n",
    "            match = re.search('(?<=to\\s)\\w+\\\\b', inp)\n",
    "            if match:\n",
    "                SessInfo['destination'] = match.group()\n",
    "                if 'source' in SessInfo: del SessInfo['source']'''\n",
    "    ###########################################################\n",
    "    ################################################################\n",
    "        \n",
    "        source , destination = extract_location(inp)\n",
    "        #print(source, destination)\n",
    "        \n",
    "        if source and destination:\n",
    "            #print('both')\n",
    "            SessInfo['source'] = source\n",
    "            SessInfo['destination'] = destination\n",
    "        elif destination:\n",
    "            #print('matched field is destination')\n",
    "            SessInfo['destination'] = destination\n",
    "        elif source:\n",
    "            #print('matched field is source')\n",
    "            SessInfo['source'] = source"
   ]
  },
  {
   "cell_type": "code",
   "execution_count": 8,
   "metadata": {
    "collapsed": false,
    "deletable": true,
    "editable": true
   },
   "outputs": [],
   "source": [
    "destination = None\n",
    "if destination : print(destination)"
   ]
  },
  {
   "cell_type": "code",
   "execution_count": 19,
   "metadata": {
    "collapsed": true,
    "deletable": true,
    "editable": true
   },
   "outputs": [],
   "source": [
    "def cab_details(ride):\n",
    "    columns = ['Car type', 'Availability', 'Number of seats', 'Distance(Km)', 'Estimated Travel time(min)', 'Minimum Price', 'Maximum Price','ETA' ]\n",
    "    #df = pd.DataFrame(data,columns = columns)\n",
    "    ride_cat = ride['categories']\n",
    "    ride_est = ride['ride_estimate']\n",
    "    dict = []\n",
    "    for i in range(0,len(ride_cat)):\n",
    "        if ride_cat[i]['eta'] == 0:\n",
    "            print (ride_cat[i]['display_name'] + \" not available\")\n",
    "            data1 = {'Car type' : ride_cat[i]['display_name'], 'Availability': \"No\"}\n",
    "            dict.append(data1)\n",
    "        else:\n",
    "            avail='Yes'\n",
    "            if ride_cat[i]['eta'] == -1: avail='No'\n",
    "            if ride_cat[i]['display_name'] == \"Share\":\n",
    "                for j in range(0,2):\n",
    "                    data1 = {'Car type': ride_cat[i]['display_name'],\n",
    "                             'Number of seats': ride_est[i]['fares'][j]['seats'], \n",
    "                             'Travel time(min)': ride_est[i]['travel_time_min'], \n",
    "                             'Maximum Price': ride_est[i]['fares'][j]['cost'], \n",
    "                             'Minimum Price': ride_est[i]['fares'][j]['cost'], \n",
    "                             'Availability' : avail,\n",
    "                             'ETA': ride_cat[i]['eta']}\n",
    "                    dict.append(data1)\n",
    "            else:\n",
    "                data1 = {'Car type': ride_cat[i]['display_name'],\n",
    "                         'Number of seats': \"4\",\n",
    "                         'Distance(Km)': ride_est[i]['distance'], \n",
    "                         'Estimated Travel time(min)': ride_est[i]['travel_time_in_minutes'], \n",
    "                         'Maximum Price': ride_est[i]['amount_max'], \n",
    "                         'Minimum Price': ride_est[i]['amount_min'], \n",
    "                         'Availability' : avail,\n",
    "                         'ETA': ride_cat[i]['eta']}\n",
    "                dict.append(data1)          \n",
    "    df = pd.DataFrame(dict,columns = columns)\n",
    "    return df"
   ]
  },
  {
   "cell_type": "code",
   "execution_count": 31,
   "metadata": {
    "collapsed": false
   },
   "outputs": [],
   "source": [
    "def cab_details_src(ride):\n",
    "    columns = ['Car type', 'Availability', 'Number of seats', 'ETA', 'Distance' ]\n",
    "    ride_cat = ride['categories']\n",
    "    dicti = []\n",
    "    for i in range(0,len(ride_cat)):\n",
    "        seats = \"4\"\n",
    "        avail = \"Yes\"\n",
    "        if ride_cat[i]['eta'] == -1:\n",
    "            avail = \"No\"\n",
    "            data = {'Car type' : ride_cat[i]['display_name'],'Availability' : avail}\n",
    "            dicti.append(data)\n",
    "        else:\n",
    "            if ride_cat[i]['display_name']==\"Share\":\n",
    "                seats = \"1/2\"\n",
    "                data = {'Car type' : ride_cat[i]['display_name'],'Availability' : avail, 'Number of seats':           seats,'ETA' : ride_cat[i]['eta'],'Distance' : ride_cat[i]['distance']}\n",
    "                dicti.append(data)   \n",
    "            else:\n",
    "                data = {'Car type' : ride_cat[i]['display_name'],'Availability' : avail, 'Number of seats': seats,'ETA' : ride_cat[i]['eta'],'Distance' : ride_cat[i]['distance']}\n",
    "                dicti.append(data)\n",
    "    df = pd.DataFrame(dicti,columns = columns)\n",
    "    return df"
   ]
  },
  {
   "cell_type": "code",
   "execution_count": 32,
   "metadata": {
    "collapsed": false,
    "deletable": true,
    "editable": true
   },
   "outputs": [],
   "source": [
    "def look(source, destination=None):\n",
    "    api = Geocoding()\n",
    "    source_loc = api.geocode(source)\n",
    "    source_lat_long = source_loc[0]['geometry']['location']\n",
    "    if destination : \n",
    "        destination_loc = api.geocode(destination)\n",
    "        destination_lat_long = destination_loc[0]['geometry']['location']\n",
    "        payload = {'pickup_lat': str(source_lat_long['lat']), 'pickup_lng':str(source_lat_long['lng']), 'drop_lat':str(destination_lat_long['lat']), 'drop_lng':str(destination_lat_long['lng']), 'pickup_time': '19/4/2017 16:30'}\n",
    "    else:\n",
    "        #print('am here')\n",
    "        payload = {'pickup_lat': str(source_lat_long['lat']), 'pickup_lng':str(source_lat_long['lng']), 'pickup_time': '19/4/2017 16:30'}\n",
    "    \n",
    "    headers = {'X-APP-TOKEN' : \"ab8a1c87e9f64ba3a36c2858ad9c08c2\"}\n",
    "    response = requests.get('http://sandbox-t.olacabs.com/v1/products', params=payload, headers=headers)\n",
    "    if destination : cab_details_df = cab_details(response.json())\n",
    "    else: cab_details_df = cab_details_avai(response.json())\n",
    "    cab_details_df.fillna(0,axis=1,inplace=True)\n",
    "    return cab_details_df\n",
    "    #### response is the json reply we get "
   ]
  },
  {
   "cell_type": "code",
   "execution_count": 33,
   "metadata": {
    "collapsed": true
   },
   "outputs": [],
   "source": [
    "def random_with_N_digits(n):\n",
    "    range_start = 10**(n-1)\n",
    "    range_end = (10**n)-1\n",
    "    return randint(range_start, range_end)"
   ]
  },
  {
   "cell_type": "code",
   "execution_count": 34,
   "metadata": {
    "collapsed": true
   },
   "outputs": [],
   "source": [
    "def book(source, destination, cabtype, noofseats):\n",
    "    df = look(source, destination)\n",
    "    driver_name=[\"Tharoon Veerasethu\",\"Sharmaji\",\"Chachaji\",\"Chunnu\",\"Munni\",\"beta\",\"daadaji\",\"daadi\",\"bhai\",\"shinde\",\"langoor\"]\n",
    "    for i in range(df.shape[0]):\n",
    "        x=list(df.loc[i])\n",
    "        if cabtype in x:\n",
    "            for j in x:\n",
    "                if j == cabtype and df.loc[i,'Availability']=='Yes':\n",
    "                    SessInfo['bookingid']=\"OLA\"+str(random_with_N_digits(6))\n",
    "                    SessInfo['drivername']=random.choice(driver_name)\n",
    "                    SessInfo['driverno']=random_with_N_digits(10)\n",
    "                    SessInfo['carno']=\"KN-\"+str(random_with_N_digits(2))+\"-\"+str(random_with_N_digits(4))\n",
    "                    SessInfo['fare']=(df.loc[i,'Minimum Price']+df.loc[i,'Maximum Price'])/2\n",
    "                    SessInfo['cabtype']=cabtype\n",
    "                    SessInfo['noofseats']=noofseats\n",
    "                    SessInfo['eta']=df.loc[i,'ETA']\n",
    "                    if cabtype != 'Share': \n",
    "                        SessInfo['distance']=df.loc[i,'Distance(Km)']\n",
    "                        Sessinfo['ett']=df.loc[i,'Estimated Travel time(min)']\n",
    "                    break                   "
   ]
  },
  {
   "cell_type": "code",
   "execution_count": 35,
   "metadata": {
    "collapsed": false,
    "deletable": true,
    "editable": true
   },
   "outputs": [],
   "source": [
    "def generating_response(inp, intent, SessInfo):\n",
    "    if intent == 'exit':\n",
    "        sys.exit()\n",
    "    else:\n",
    "        if intent == 'greeting':\n",
    "            greet = ['Hey', 'Hello', 'Namaste', 'Hi']\n",
    "            print(random.choice(greet), ' to you too.')\n",
    "\n",
    "        ### For handling response to booking queries\n",
    "        \n",
    "        if intent == 'looking' :\n",
    "            handle_require_field(intent)\n",
    "                \n",
    "            print('Looking for a cab from {} {}'.format(SessInfo.get('source',''),'to '+SessInfo['destination'] if 'destination' in SessInfo else '' ))\n",
    "            print('Firing up cab looking. Please Wait\\n')\n",
    "            ## call look function (source to destination#optional)\n",
    "            response_avail_df = look(SessInfo.get('source',''),SessInfo.get('destination',None))    \n",
    "            #print('will wait for succesful query and cabs info')\n",
    "            #query ='sucessful'\n",
    "            #if query == 'sucessful':\n",
    "            print('Following are the cabs availability\\n')\n",
    "            print(response_avail_df)\n",
    "            print('Would you like to book any cab. If yes please reply with YES')\n",
    "            reply = input()\n",
    "            if reply == 'yes':\n",
    "                handle_require_field('booking')\n",
    "                #### book function\n",
    "                print('Please provide the cab type')\n",
    "                cab_type_input = input()                    \n",
    "                available_cab_category = ['micro','mini','sedan']\n",
    "                if cab_type_input in available_cab_category:\n",
    "                    ## fire cab booking with \n",
    "\n",
    "                    pass\n",
    "                else:\n",
    "                    print('Sorry {} not available. Please provide correct response'.format(cab_type_input))\n",
    "                ######## book function   \n",
    "            else:\n",
    "                print('Ok.\\n Let\\'s start again.')\n",
    "                if 'source' in SessInfo:del SessInfo['source']\n",
    "                if 'destination' in SessInfo:del SessInfo['destination']\n",
    "                return\n",
    "        \n",
    "        elif intent == 'booking' :\n",
    "            \n",
    "            '''for key in SessInfo:\n",
    "                print(key, SessInfo[key])'''\n",
    "            \n",
    "            handle_require_field(intent)                \n",
    "                        \n",
    "            print('Please confirm witk \\'OK\\' to book a cab from {} to {}'.format(SessInfo['source'],SessInfo['destination']))\n",
    "            confirm_inp = input()\n",
    "            if confirm_inp.lower() == 'ok':\n",
    "                ## call look function (source to destination)\n",
    "                ## show available cabs and ask user input to book any cab\n",
    "                print('Firing up cab booking. Please Wait')\n",
    "                print('will wait for booing id, update in sessInfo and return then, else return with error') \n",
    "            else:\n",
    "                if 'source' in SessInfo:del SessInfo['source']\n",
    "                if 'destination' in SessInfo:del SessInfo['destination']\n",
    "                print('Let\\'s start the conversation again')\n",
    "                return            \n",
    "                \n",
    "            "
   ]
  },
  {
   "cell_type": "code",
   "execution_count": null,
   "metadata": {
    "collapsed": false,
    "deletable": true,
    "editable": true
   },
   "outputs": [
    {
     "name": "stdout",
     "output_type": "stream",
     "text": [
      "look for a cab from kr puram\n",
      "[('look', 'NN'), ('for', 'IN'), ('a', 'DT'), ('cab', 'NN'), ('from', 'IN'), ('kr', 'NN'), ('puram', 'NN')]\n",
      "Looking for a cab from kr puram \n",
      "Firing up cab looking. Please Wait\n",
      "\n",
      "Following are the cabs availability\n",
      "\n",
      "      Car type Availability  Number of seats  ETA  Distance\n",
      "0        Micro           No              0.0  0.0       0.0\n",
      "1         Mini           No              0.0  0.0       0.0\n",
      "2        Sedan           No              0.0  0.0       0.0\n",
      "3  Prime Sedan           No              0.0  0.0       0.0\n",
      "4        Share           No              0.0  0.0       0.0\n",
      "Would you like to book any cab. If yes please reply with YES\n",
      "yes\n",
      "Please provide the following details to proceed:\n",
      "\n",
      "destination\n",
      "wipro, electronic city\n",
      "Please provide the cab type\n",
      "mini\n"
     ]
    }
   ],
   "source": [
    "### storing important info\n",
    "SessInfo = dict() ## refreesh dictionary when user work is completed\n",
    "while(True):\n",
    "    ## letting the case as it is\n",
    "    inp = input().lower()\n",
    "    \n",
    "    ### find the intent\n",
    "    intent = find_intent(inp)\n",
    "    \n",
    "    \n",
    "    ### look for a particular patterns as per intent\n",
    "        ### update the dict\n",
    "    storing_info(inp, intent, SessInfo)\n",
    "    \n",
    "    \n",
    "    '''for key in SessInfo:\n",
    "        print(key, SessInfo[key])'''\n",
    "\n",
    "    ### generate output\n",
    "    #### function1 (intent, dict) ## intent is greeting reply normally\n",
    "    generating_response(inp, intent, SessInfo)"
   ]
  },
  {
   "cell_type": "code",
   "execution_count": null,
   "metadata": {
    "collapsed": false,
    "deletable": true,
    "editable": true
   },
   "outputs": [],
   "source": []
  },
  {
   "cell_type": "code",
   "execution_count": null,
   "metadata": {
    "collapsed": true,
    "deletable": true,
    "editable": true
   },
   "outputs": [],
   "source": [
    "def look(source,destination):\n",
    "    api = Geocoding()\n",
    "    source_loc = api.geocode(source)\n",
    "    destination_loc = api.geocode(destination)\n",
    "    source_lat_long = source_loc[0]['geometry']['location']\n",
    "    destination_lat_long = destination_loc[0]['geometry']['location']\n",
    "    headers = {'X-APP-TOKEN' : \"ab8a1c87e9f64ba3a36c2858ad9c08c2\"}\n",
    "    payload= {'pickup_lat': str(source_lat_long['lat']), 'pickup_lng':str(source_lat_long['lng']), 'drop_lat':str(destination_lat_long['lat']), 'drop_lng':str(destination_lat_long['lng']), 'pickup_time': '19/4/2017 16:30'}\n",
    "    response = requests.get('http://sandbox-t.olacabs.com/v1/products', params=payload, headers=headers)\n",
    "    #cab_details_df=cab_details(response.json())\n",
    "    #return cab_details_df \n",
    "    print(response.json())"
   ]
  },
  {
   "cell_type": "code",
   "execution_count": null,
   "metadata": {
    "collapsed": true,
    "deletable": true,
    "editable": true
   },
   "outputs": [],
   "source": []
  },
  {
   "cell_type": "code",
   "execution_count": null,
   "metadata": {
    "collapsed": true,
    "deletable": true,
    "editable": true
   },
   "outputs": [],
   "source": []
  },
  {
   "cell_type": "code",
   "execution_count": null,
   "metadata": {
    "collapsed": true,
    "deletable": true,
    "editable": true
   },
   "outputs": [],
   "source": []
  },
  {
   "cell_type": "code",
   "execution_count": null,
   "metadata": {
    "collapsed": true,
    "deletable": true,
    "editable": true
   },
   "outputs": [],
   "source": []
  },
  {
   "cell_type": "code",
   "execution_count": null,
   "metadata": {
    "collapsed": true,
    "deletable": true,
    "editable": true
   },
   "outputs": [],
   "source": []
  },
  {
   "cell_type": "code",
   "execution_count": null,
   "metadata": {
    "collapsed": true,
    "deletable": true,
    "editable": true
   },
   "outputs": [],
   "source": []
  },
  {
   "cell_type": "code",
   "execution_count": null,
   "metadata": {
    "collapsed": true,
    "deletable": true,
    "editable": true
   },
   "outputs": [],
   "source": []
  },
  {
   "cell_type": "code",
   "execution_count": null,
   "metadata": {
    "collapsed": true,
    "deletable": true,
    "editable": true
   },
   "outputs": [],
   "source": []
  },
  {
   "cell_type": "code",
   "execution_count": null,
   "metadata": {
    "collapsed": true,
    "deletable": true,
    "editable": true
   },
   "outputs": [],
   "source": []
  },
  {
   "cell_type": "code",
   "execution_count": null,
   "metadata": {
    "collapsed": true,
    "deletable": true,
    "editable": true
   },
   "outputs": [],
   "source": []
  },
  {
   "cell_type": "code",
   "execution_count": null,
   "metadata": {
    "collapsed": true,
    "deletable": true,
    "editable": true
   },
   "outputs": [],
   "source": []
  },
  {
   "cell_type": "code",
   "execution_count": null,
   "metadata": {
    "collapsed": true,
    "deletable": true,
    "editable": true
   },
   "outputs": [],
   "source": []
  },
  {
   "cell_type": "code",
   "execution_count": null,
   "metadata": {
    "collapsed": true,
    "deletable": true,
    "editable": true
   },
   "outputs": [],
   "source": []
  },
  {
   "cell_type": "code",
   "execution_count": null,
   "metadata": {
    "collapsed": true,
    "deletable": true,
    "editable": true
   },
   "outputs": [],
   "source": []
  },
  {
   "cell_type": "code",
   "execution_count": null,
   "metadata": {
    "collapsed": true,
    "deletable": true,
    "editable": true
   },
   "outputs": [],
   "source": []
  },
  {
   "cell_type": "code",
   "execution_count": null,
   "metadata": {
    "collapsed": true,
    "deletable": true,
    "editable": true
   },
   "outputs": [],
   "source": []
  },
  {
   "cell_type": "code",
   "execution_count": null,
   "metadata": {
    "collapsed": true,
    "deletable": true,
    "editable": true
   },
   "outputs": [],
   "source": []
  },
  {
   "cell_type": "code",
   "execution_count": null,
   "metadata": {
    "collapsed": true,
    "deletable": true,
    "editable": true
   },
   "outputs": [],
   "source": []
  },
  {
   "cell_type": "code",
   "execution_count": null,
   "metadata": {
    "collapsed": true,
    "deletable": true,
    "editable": true
   },
   "outputs": [],
   "source": []
  },
  {
   "cell_type": "code",
   "execution_count": null,
   "metadata": {
    "collapsed": true,
    "deletable": true,
    "editable": true
   },
   "outputs": [],
   "source": []
  },
  {
   "cell_type": "markdown",
   "metadata": {
    "collapsed": true,
    "deletable": true,
    "editable": true
   },
   "source": [
    "### Analysis using the Sample Input Sentences"
   ]
  },
  {
   "cell_type": "code",
   "execution_count": 161,
   "metadata": {
    "collapsed": false,
    "deletable": true,
    "editable": true
   },
   "outputs": [],
   "source": [
    "# Reading all the candidate input sentences\n",
    "with open('sample-input-sentences.txt') as f:\n",
    "        train_data = f.read()"
   ]
  },
  {
   "cell_type": "code",
   "execution_count": 162,
   "metadata": {
    "collapsed": false,
    "deletable": true,
    "editable": true
   },
   "outputs": [],
   "source": [
    "# Training sentences\n",
    "train_sentences = train_data.strip().split('\\n')"
   ]
  },
  {
   "cell_type": "code",
   "execution_count": 163,
   "metadata": {
    "collapsed": true,
    "deletable": true,
    "editable": true
   },
   "outputs": [],
   "source": [
    "def get_ne_chunks(sentence):\n",
    "    tokenized_words = word_tokenize(sentence)\n",
    "    tagged_words = nltk.pos_tag(tokenized_words)\n",
    "    ne_chunks = nltk.ne_chunk(tagged_words)\n",
    "    return ne_chunks"
   ]
  },
  {
   "cell_type": "code",
   "execution_count": 176,
   "metadata": {
    "collapsed": false,
    "deletable": true,
    "editable": true
   },
   "outputs": [
    {
     "name": "stdout",
     "output_type": "stream",
     "text": [
      "[('Book', 'NNP'), ('the', 'DT'), ('cab', 'NN'), ('from', 'IN'), ('Kormangla', 'NNP'), ('to', 'TO'), ('Whitefield', 'NNP')]\n",
      "[('Book', 'NNP'), ('the', 'DT'), ('cab', 'NN'), ('from', 'IN'), ('Sarjapur', 'NNP'), ('to', 'TO'), ('Bellandur', 'NNP')]\n",
      "[('Book', 'NNP'), ('a', 'DT'), ('cab', 'NN'), ('from', 'IN'), ('Shollingnallur', 'NNP'), ('to', 'TO'), ('Sowcarpet', 'NNP')]\n",
      "[('Boook', 'NNP'), ('a', 'DT'), ('cab', 'NN'), ('from', 'IN'), ('Sowcarpet', 'NNP'), ('to', 'TO'), ('Vepery', 'NNP')]\n",
      "[('Book', 'NNP'), ('a', 'DT'), ('cab', 'NN'), ('to', 'TO'), ('Marathalli', 'NNP')]\n"
     ]
    },
    {
     "data": {
      "text/plain": [
       "[('Kormangla', 'Whitefield'),\n",
       " ('Sarjapur', 'Bellandur'),\n",
       " ('Shollingnallur', 'Sowcarpet'),\n",
       " ('Sowcarpet', 'Vepery'),\n",
       " (None, 'Marathalli')]"
      ]
     },
     "execution_count": 176,
     "metadata": {},
     "output_type": "execute_result"
    }
   ],
   "source": [
    "# Applying the default NE chunker over few input sentences\n",
    "[extract_location(sentence) for sentence in train_sentences[0:5]]"
   ]
  },
  {
   "cell_type": "code",
   "execution_count": 189,
   "metadata": {
    "collapsed": false,
    "deletable": true,
    "editable": true
   },
   "outputs": [
    {
     "name": "stdout",
     "output_type": "stream",
     "text": [
      "book/NN the/DT cab/NN from/IN kormangla/NN to/TO whitefield/VB\n",
      "book/NN the/DT cab/NN from/IN sarjapur/NN to/TO bellandur/VB\n",
      "book/NN a/DT cab/NN from/IN shollingnallur/NN to/TO sowcarpet/VB\n",
      "boook/VB a/DT cab/NN from/IN sowcarpet/NN to/TO vepery/VB\n",
      "book/NN a/DT cab/NN to/TO marathalli/VB\n",
      "book/NN a/DT cab/NN from/IN kormangla/NN to/TO hebbal/VB\n",
      "can/MD you/PRP please/VB a/DT cab/NN from/IN hebbal/NN to/TO kormangla/VB\n",
      "book/NN a/DT cab/NN to/TO hsr/VB layout/NN from/IN kormangla/NN\n",
      "book/NN a/DT cab/NN from/IN hsr/NN layout/NN to/TO kormangla/VB\n",
      "i/NN want/VBP to/TO book/NN a/DT cab/NN from/IN hsr/NN layout/NN to/TO kormangla/VB\n",
      "book/NN a/DT cab/NN for/IN ganesh/NN from/IN hsr/NN layout/NN to/TO whitefield/VB\n",
      "estimate/JJ price/NN from/IN kormangla/NN to/TO whitfield/VB\n",
      "book/NN a/DT cab/NN to/TO wipro/VB ,/, whitefiled/VBN from/IN teacher/NN 's/POS colony/NN\n",
      "estimate/VB the/DT price/NN for/IN the/DT travel/NN from/IN whitefiled/VBN to/TO teachers/NNS colony/NN\n",
      "estimate/NN cost/NN from/IN hebbal/NN to/TO marathalli/VB\n",
      "book/NN a/DT cab/NN from/IN wipro/NN ,/, gate/VB 5/CD electronic/JJ city/NN to/TO stackroute/VB ,/, kormangla/VB\n",
      "how/WRB much/JJ the/DT ride/NN will/MD cost/VB from/IN kormangla/NN to/TO mg/VB road/NN\n",
      "what/WP will/MD be/VB cost/NN of/IN the/DT ride/NN from/IN kormangla/NN to/TO mg/VB road/NN\n",
      "i/NN am/VBP at/IN forum/NN mall/NN book/NN a/DT cab/NN to/TO electronic/JJ city/NN\n",
      "what/WP is/VBZ the/DT travel/NN time/NN from/IN electronic/JJ city/NN to/TO stackroute/VB ,/, kormangla/VB\n",
      "travel/NN time/NN from/IN sowcarpet/NN to/TO vepery/VB\n",
      "travel/NN time/NN from/IN binny/JJ mills/NNS to/TO sowcarpet/VB\n",
      "what/WP is/VBZ the/DT estimated/JJ time/NN from/IN sowcarpet/NN to/TO nagarpet/VB\n",
      "what/WP is/VBZ the/DT estimated/JJ duration/NN from/IN hebbal/NN to/TO mg/VB road/NN ?/.\n",
      "estimated/VBN durtion/NN from/IN hebbal/NN to/TO mg/VB road/NN ?/.\n",
      "time/NN taken/VBN to/TO travel/VB to/TO hebbal/VB from/IN doddanekundi/NN\n",
      "travel/NN time/NN to/TO hebbal/VB from/IN doddanekundi/NN\n",
      "can/MD you/PRP please/VB a/DT cab/NN from/IN hebbal/NN to/TO marathalli/VB\n",
      "book/NN a/DT cab/NN to/TO hsr/VB layout/NN from/IN adugodi/NN\n",
      "book/NN a/DT cab/NN from/IN kormangla/$ 1st/CD block/NN to/TO kormangla/VB\n",
      "i/NN want/VBP to/TO book/NN a/DT cab/NN from/IN bank/NN of/IN baroda/NN ,/, hsr/NN layout/NN to/TO kormangla/VB\n",
      "book/NN a/DT cab/NN for/IN ganesh/NN from/IN hsr/NN layout/NN to/TO whitefield/VB\n",
      "estimate/JJ price/NN from/IN kormangla/NN to/TO whitfield/VB\n",
      "book/NN a/DT cab/NN to/TO wipro/VB ,/, whitefiled/VBN from/IN hsr/NN layout/NN\n",
      "estimate/VB the/DT price/NN for/IN the/DT travel/NN from/IN whitefiled/VBN to/TO teachers/NNS colony/NN\n",
      "estimate/NN cost/NN from/IN airport/NN to/TO marathalli/VB\n"
     ]
    }
   ],
   "source": [
    "for sentence in train_sentences:\n",
    "    tagged_sentence = []\n",
    "    for tagged_word in nltk.pos_tag(nltk.word_tokenize(sentence.lower())):\n",
    "        tagged_sentence.append(nltk.tuple2str(tagged_word))\n",
    "    print(' '.join(tagged_sentence))"
   ]
  },
  {
   "cell_type": "code",
   "execution_count": null,
   "metadata": {
    "collapsed": true,
    "deletable": true,
    "editable": true
   },
   "outputs": [],
   "source": []
  }
 ],
 "metadata": {
  "kernelspec": {
   "display_name": "Python 3",
   "language": "python",
   "name": "python3"
  },
  "language_info": {
   "codemirror_mode": {
    "name": "ipython",
    "version": 3
   },
   "file_extension": ".py",
   "mimetype": "text/x-python",
   "name": "python",
   "nbconvert_exporter": "python",
   "pygments_lexer": "ipython3",
   "version": "3.5.2"
  }
 },
 "nbformat": 4,
 "nbformat_minor": 2
}
