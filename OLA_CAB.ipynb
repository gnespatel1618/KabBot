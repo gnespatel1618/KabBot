{
 "cells": [
  {
   "cell_type": "code",
   "execution_count": 4,
   "metadata": {
    "collapsed": true
   },
   "outputs": [],
   "source": [
    "import requests\n",
    "import gmaps\n",
    "import pandas as pd\n",
    "from gmaps import Geocoding"
   ]
  },
  {
   "cell_type": "code",
   "execution_count": 5,
   "metadata": {
    "collapsed": true
   },
   "outputs": [],
   "source": [
    "def cab_details_avai_ola_src(ride):\n",
    "    columns = ['Car type', 'Availability', 'Number of seats', 'ETA', 'Distance' ]\n",
    "    ride_cat = ride['categories']\n",
    "    dicti = []\n",
    "    for i in range(0,len(ride_cat)):\n",
    "        seats = \"4\"\n",
    "        avail = \"Yes\"\n",
    "        if ride_cat[i]['eta'] == -1:\n",
    "            avail = \"No\"\n",
    "            data = {'Car type' : ride_cat[i]['display_name'],'Availability' : avail}\n",
    "            dicti.append(data)\n",
    "        else:\n",
    "            if ride_cat[i]['display_name']==\"Share\":\n",
    "                seats = \"1/2\"\n",
    "                data = {'Car type' : ride_cat[i]['display_name'],'Availability' : avail, 'Number of seats':           seats,'ETA' : ride_cat[i]['eta'],'Distance' : ride_cat[i]['distance']}\n",
    "                dicti.append(data)   \n",
    "            else:\n",
    "                data = {'Car type' : ride_cat[i]['display_name'],'Availability' : avail, 'Number of seats': seats,'ETA' : ride_cat[i]['eta'],'Distance' : ride_cat[i]['distance']}\n",
    "                dicti.append(data)\n",
    "    df = pd.DataFrame(dicti,columns = columns)\n",
    "    return df"
   ]
  },
  {
   "cell_type": "code",
   "execution_count": 6,
   "metadata": {
    "collapsed": true
   },
   "outputs": [],
   "source": [
    "def cab_details_ola_src_dst(ride):\n",
    "    columns = ['Car type', 'Availability', 'Number of seats', 'Distance(Km)', 'Estimated Travel time(min)', 'Minimum Price', 'Maximum Price','ETA' ]\n",
    "    #df = pd.DataFrame(data,columns = columns)\n",
    "    ride_cat = ride['categories']\n",
    "    ride_est = ride['ride_estimate']\n",
    "    a_list = []\n",
    "    for i in range(0,len(ride_cat)):\n",
    "        if ride_cat[i]['eta'] == 0:\n",
    "            print (ride_cat[i]['display_name'] + \" not available\")\n",
    "            data1 = {'Car type' : ride_cat[i]['display_name'], 'Availability': \"No\"}\n",
    "            a_list.append(data1)\n",
    "        else:\n",
    "            avail='Yes'\n",
    "            if ride_cat[i]['eta'] == -1: avail='No'\n",
    "            if ride_cat[i]['display_name'] == \"Share\":\n",
    "                for j in range(0,2):\n",
    "                    data1 = {'Car type': ride_cat[i]['display_name'],\n",
    "                             'Number of seats': ride_est[i]['fares'][j]['seats'], \n",
    "                             'Travel time(min)': ride_est[i]['travel_time_min'], \n",
    "                             'Maximum Price': ride_est[i]['fares'][j]['cost'], \n",
    "                             'Minimum Price': ride_est[i]['fares'][j]['cost'], \n",
    "                             'Availability' : avail,\n",
    "                             'ETA': ride_cat[i]['eta']}\n",
    "                    a_list.append(data1)\n",
    "            else:\n",
    "                data1 = {'Car type': ride_cat[i]['display_name'],\n",
    "                         'Number of seats': \"4\",\n",
    "                         'Distance(Km)': ride_est[i]['distance'], \n",
    "                         'Estimated Travel time(min)': ride_est[i]['travel_time_in_minutes'], \n",
    "                         'Maximum Price': ride_est[i]['amount_max'], \n",
    "                         'Minimum Price': ride_est[i]['amount_min'], \n",
    "                         'Availability' : avail,\n",
    "                         'ETA': ride_cat[i]['eta']}\n",
    "                a_list.append(data1)          \n",
    "    df = pd.DataFrame(a_list,columns = columns)\n",
    "    return df"
   ]
  },
  {
   "cell_type": "code",
   "execution_count": 8,
   "metadata": {
    "collapsed": true
   },
   "outputs": [],
   "source": [
    "def look_ola(source, destination=None):\n",
    "    api = Geocoding()\n",
    "    ### Check validity of Source.\n",
    "    try:\n",
    "        source_loc = api.geocode(source)\n",
    "    except:\n",
    "        return ('Enter Valid Source.')\n",
    "    \n",
    "    source_lat_long = source_loc[0]['geometry']['location']\n",
    "    ### Check if destination is provided or not.\n",
    "    if destination : \n",
    "        ### Check Validity of Destination.\n",
    "        try:\n",
    "            destination_loc = api.geocode(destination)\n",
    "        except:\n",
    "            return ('Enter Valid destination.')\n",
    "        \n",
    "        destination_lat_long = destination_loc[0]['geometry']['location']\n",
    "        ### If destination is provided then set latitude and lognitude of Source and Destination both.\n",
    "        payload = {'pickup_lat': str(source_lat_long['lat']), 'pickup_lng':str(source_lat_long['lng']), 'drop_lat':str(destination_lat_long['lat']), 'drop_lng':str(destination_lat_long['lng']), 'pickup_time': '19/4/2017 16:30'}\n",
    "    \n",
    "    else:\n",
    "        ### If destination is not provided then set latitude and lognitude of Source only.\n",
    "        payload = {'pickup_lat': str(source_lat_long['lat']), 'pickup_lng':str(source_lat_long['lng']), 'pickup_time': '19/4/2017 16:30'}\n",
    "    \n",
    "    headers = {'X-APP-TOKEN' : \"ab8a1c87e9f64ba3a36c2858ad9c08c2\"} ### Server Token provided by API.\n",
    "    \n",
    "    response = requests.get('http://sandbox-t.olacabs.com/v1/products', params=payload, headers=headers)\n",
    "    \n",
    "    if destination : \n",
    "        ### If destination is available.\n",
    "            ### Check if any error occured or not.\n",
    "        if 'categories' in response.json().keys():\n",
    "            ### If there is no error then return the Cab Details in the form of DataFrame which is created from json file. \n",
    "            cab_details_df_ola_src_dst=cab_details_ola_src_dst(response.json())\n",
    "            cab_details_df_ola_src_dst.fillna(0,axis=1,inplace=True)\n",
    "            return cab_details_df_ola_src_dst\n",
    "        else:\n",
    "            return response.json()['message']\n",
    "    \n",
    "    else:\n",
    "         ### If destination is not available.\n",
    "            ### Check if any error occured or not.\n",
    "        if 'categories' in response.json().keys():\n",
    "            ### If there is no error then return the Cab Availability Details in the form of DataFrame which is created from json file.\n",
    "            cab_details_df_ola_src = cab_details_avai_ola_src(response.json())\n",
    "            cab_details_df_ola_src.fillna(0,axis=1,inplace=True)\n",
    "            return cab_details_df_ola_src\n",
    "        else:\n",
    "            return response.json()['message']\n"
   ]
  },
  {
   "cell_type": "code",
   "execution_count": 19,
   "metadata": {
    "collapsed": true
   },
   "outputs": [],
   "source": [
    "def book_ola(source,destination,cabtype,noofseats):\n",
    "    df=look(source,destination)\n",
    "    driver_name=[\"Tharoon Veerasethu\",\"Sharmaji\",\"Chachaji\",\"Chunnu\",\"Munni\",\"beta\",\"daadaji\",\"daadi\",\"bhai\",\"shinde\",\"langoor\"]\n",
    "    for i in range(df.shape[0]):\n",
    "        x=list(df.loc[i])\n",
    "        if cabtype in x:\n",
    "            for j in x:\n",
    "                if j == cabtype and df.loc[i,'Availability']=='Yes':\n",
    "                    SessInfo['bookingid']=\"OLA\"+str(random_with_N_digits(6))\n",
    "                    SessInfo['drivername']=random.choice(driver_name)\n",
    "                    SessInfo['driverno']=random_with_N_digits(10)\n",
    "                    SessInfo['carno']=\"KN-\"+str(random_with_N_digits(2))+\"-\"+str(random_with_N_digits(4))\n",
    "                    SessInfo['fare']=(df.loc[i,'Minimum Price']+df.loc[i,'Maximum Price'])/2\n",
    "                    SessInfo['cabtype']=cabtype\n",
    "                    SessInfo['noofseats']=noofseats\n",
    "                    SessInfo['eta']=df.loc[i,'ETA']\n",
    "                    if cabtype != 'Share': \n",
    "                        SessInfo['distance']=df.loc[i,'Distance(Km)']\n",
    "                        Sessinfo['ett']=df.loc[i,'Estimated Travel time(min)']\n",
    "                    break  "
   ]
  },
  {
   "cell_type": "code",
   "execution_count": 17,
   "metadata": {
    "collapsed": false
   },
   "outputs": [],
   "source": [
    "x=look_ola(\"K R Puram\",\"stackroute koramangala\")"
   ]
  },
  {
   "cell_type": "code",
   "execution_count": 18,
   "metadata": {
    "collapsed": false
   },
   "outputs": [
    {
     "data": {
      "text/html": [
       "<div>\n",
       "<table border=\"1\" class=\"dataframe\">\n",
       "  <thead>\n",
       "    <tr style=\"text-align: right;\">\n",
       "      <th></th>\n",
       "      <th>Car type</th>\n",
       "      <th>Availability</th>\n",
       "      <th>Number of seats</th>\n",
       "      <th>Distance(Km)</th>\n",
       "      <th>Estimated Travel time(min)</th>\n",
       "      <th>Minimum Price</th>\n",
       "      <th>Maximum Price</th>\n",
       "      <th>ETA</th>\n",
       "    </tr>\n",
       "  </thead>\n",
       "  <tbody>\n",
       "    <tr>\n",
       "      <th>0</th>\n",
       "      <td>Micro</td>\n",
       "      <td>Yes</td>\n",
       "      <td>4</td>\n",
       "      <td>15.76</td>\n",
       "      <td>62.0</td>\n",
       "      <td>246</td>\n",
       "      <td>282</td>\n",
       "      <td>1</td>\n",
       "    </tr>\n",
       "    <tr>\n",
       "      <th>1</th>\n",
       "      <td>Mini</td>\n",
       "      <td>Yes</td>\n",
       "      <td>4</td>\n",
       "      <td>15.76</td>\n",
       "      <td>62.0</td>\n",
       "      <td>334</td>\n",
       "      <td>384</td>\n",
       "      <td>1</td>\n",
       "    </tr>\n",
       "    <tr>\n",
       "      <th>2</th>\n",
       "      <td>Sedan</td>\n",
       "      <td>Yes</td>\n",
       "      <td>4</td>\n",
       "      <td>15.76</td>\n",
       "      <td>62.0</td>\n",
       "      <td>336</td>\n",
       "      <td>386</td>\n",
       "      <td>1</td>\n",
       "    </tr>\n",
       "    <tr>\n",
       "      <th>3</th>\n",
       "      <td>Prime Sedan</td>\n",
       "      <td>No</td>\n",
       "      <td>4</td>\n",
       "      <td>15.76</td>\n",
       "      <td>62.0</td>\n",
       "      <td>274</td>\n",
       "      <td>315</td>\n",
       "      <td>-1</td>\n",
       "    </tr>\n",
       "    <tr>\n",
       "      <th>4</th>\n",
       "      <td>Share</td>\n",
       "      <td>No</td>\n",
       "      <td>1</td>\n",
       "      <td>0.00</td>\n",
       "      <td>0.0</td>\n",
       "      <td>130</td>\n",
       "      <td>130</td>\n",
       "      <td>-1</td>\n",
       "    </tr>\n",
       "    <tr>\n",
       "      <th>5</th>\n",
       "      <td>Share</td>\n",
       "      <td>No</td>\n",
       "      <td>2</td>\n",
       "      <td>0.00</td>\n",
       "      <td>0.0</td>\n",
       "      <td>143</td>\n",
       "      <td>143</td>\n",
       "      <td>-1</td>\n",
       "    </tr>\n",
       "  </tbody>\n",
       "</table>\n",
       "</div>"
      ],
      "text/plain": [
       "      Car type Availability Number of seats  Distance(Km)  \\\n",
       "0        Micro          Yes               4         15.76   \n",
       "1         Mini          Yes               4         15.76   \n",
       "2        Sedan          Yes               4         15.76   \n",
       "3  Prime Sedan           No               4         15.76   \n",
       "4        Share           No               1          0.00   \n",
       "5        Share           No               2          0.00   \n",
       "\n",
       "   Estimated Travel time(min)  Minimum Price  Maximum Price  ETA  \n",
       "0                        62.0            246            282    1  \n",
       "1                        62.0            334            384    1  \n",
       "2                        62.0            336            386    1  \n",
       "3                        62.0            274            315   -1  \n",
       "4                         0.0            130            130   -1  \n",
       "5                         0.0            143            143   -1  "
      ]
     },
     "execution_count": 18,
     "metadata": {},
     "output_type": "execute_result"
    }
   ],
   "source": [
    "x"
   ]
  },
  {
   "cell_type": "code",
   "execution_count": null,
   "metadata": {
    "collapsed": true
   },
   "outputs": [],
   "source": []
  }
 ],
 "metadata": {
  "kernelspec": {
   "display_name": "Python 3",
   "language": "python",
   "name": "python3"
  },
  "language_info": {
   "codemirror_mode": {
    "name": "ipython",
    "version": 3
   },
   "file_extension": ".py",
   "mimetype": "text/x-python",
   "name": "python",
   "nbconvert_exporter": "python",
   "pygments_lexer": "ipython3",
   "version": "3.5.2"
  }
 },
 "nbformat": 4,
 "nbformat_minor": 2
}
