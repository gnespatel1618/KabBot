{
 "cells": [
  {
   "cell_type": "markdown",
   "metadata": {},
   "source": [
    "## ChatBot"
   ]
  },
  {
   "cell_type": "markdown",
   "metadata": {},
   "source": [
    "# Import Modules #"
   ]
  },
  {
   "cell_type": "code",
   "execution_count": 3,
   "metadata": {
    "collapsed": true
   },
   "outputs": [],
   "source": [
    "import sys\n",
    "import pandas as pd\n",
    "import re\n",
    "import nltk\n",
    "from nltk.tokenize import sent_tokenize, word_tokenize\n",
    "from nltk.corpus import stopwords\n",
    "import random\n",
    "import requests\n",
    "import gmaps\n",
    "from gmaps import Geocoding\n",
    "from random import randint\n",
    "import sklearn.model_selection as m_sel\n",
    "from sklearn.feature_extraction.text import CountVectorizer\n",
    "from sklearn.naive_bayes import MultinomialNB\n",
    "from uber_rides.session import Session\n",
    "from uber_rides.client import UberRidesClient\n",
    "import uber_rides.errors as uber_error\n",
    "\n",
    "\n",
    "session = Session(server_token='gQqt-C_l3O2CSZ0Y2TNjIRJQmSmowvcJPMAOBLoB')\n",
    "client = UberRidesClient(session)"
   ]
  },
  {
   "cell_type": "code",
   "execution_count": 4,
   "metadata": {},
   "outputs": [
    {
     "data": {
      "text/plain": [
       "['',\n",
       " '/home/nishant/venvs/KabBot/lib/python35.zip',\n",
       " '/home/nishant/venvs/KabBot/lib/python3.5',\n",
       " '/home/nishant/venvs/KabBot/lib/python3.5/plat-x86_64-linux-gnu',\n",
       " '/home/nishant/venvs/KabBot/lib/python3.5/lib-dynload',\n",
       " '/usr/lib/python3.5',\n",
       " '/usr/lib/python3.5/plat-x86_64-linux-gnu',\n",
       " '/home/nishant/venvs/KabBot/lib/python3.5/site-packages',\n",
       " '/home/nishant/venvs/KabBot/lib/python3.5/site-packages/IPython/extensions',\n",
       " '/home/nishant/.ipython']"
      ]
     },
     "execution_count": 4,
     "metadata": {},
     "output_type": "execute_result"
    }
   ],
   "source": [
    "sys.path"
   ]
  },
  {
   "cell_type": "markdown",
   "metadata": {},
   "source": [
    "# Random No Generation #"
   ]
  },
  {
   "cell_type": "code",
   "execution_count": 5,
   "metadata": {
    "collapsed": true
   },
   "outputs": [],
   "source": [
    "def random_with_N_digits(n):\n",
    "    range_start = 10**(n-1)\n",
    "    range_end = (10**n)-1\n",
    "    return randint(range_start, range_end)"
   ]
  },
  {
   "cell_type": "markdown",
   "metadata": {},
   "source": [
    "# Brill Tagger #"
   ]
  },
  {
   "cell_type": "code",
   "execution_count": 6,
   "metadata": {},
   "outputs": [
    {
     "name": "stdout",
     "output_type": "stream",
     "text": [
      "TBL train (fast) (seqs: 38; tokens: 332; tpls: 18; min score: 2; min acc: None)\n",
      "Finding initial useful rules...\n",
      "    Found 757 useful rules.\n",
      "\n",
      "           B      |\n",
      "   S   F   r   O  |        Score = Fixed - Broken\n",
      "   c   i   o   t  |  R     Fixed = num tags changed incorrect -> correct\n",
      "   o   x   k   h  |  u     Broken = num tags changed correct -> incorrect\n",
      "   r   e   e   e  |  l     Other = num tags changed incorrect -> incorrect\n",
      "   e   d   n   r  |  e\n",
      "------------------+-------------------------------------------------------\n",
      "  23  28   5   3  | VB->NNP if Pos:TO@[-1]\n",
      "   9  10   1   3  | JJ->NN if Pos:NN@[-3,-2,-1]\n",
      "   8   8   0   0  | IN->NN if Word:hsr@[-1]\n",
      "   5   5   0   0  | PRP->NN if Pos:VBP@[1]\n",
      "   2   3   1   1  | NN->NNP if Pos:TO@[-1]\n",
      "   3   3   0   0  | NNP->VB if Pos:TO@[1]\n",
      "   2   2   0   0  | VBD->NN if Pos:NN@[-1]\n",
      "   2   2   0   0  | VBN->JJ if Pos:DT@[-1]\n",
      "   2   2   0   0  | NNP->NN if Pos:DT@[1]\n",
      "   2   2   0   0  | VBP->VB if Pos:VB@[2]\n"
     ]
    }
   ],
   "source": [
    "from nltk.wsd import lesk\n",
    "import nltk\n",
    "from nltk.tokenize import sent_tokenize,word_tokenize\n",
    "import tkinter\n",
    "from nltk.tag import brill, brill_trainer\n",
    "from nltk.tag.brill_trainer import BrillTaggerTrainer\n",
    "from nltk.data import load\n",
    "from nltk.corpus.reader import TaggedCorpusReader\n",
    "\n",
    "train_data = TaggedCorpusReader('.', 'tagged_input_sentences.txt', sep=\"/\")\n",
    "traindata= list(train_data.tagged_sents())\n",
    "postag= load('taggers/maxent_treebank_pos_tagger/english.pickle')\n",
    "templates = [\n",
    "        brill.Template(brill.Pos([-1])),\n",
    "        brill.Template(brill.Pos([1])),\n",
    "        brill.Template(brill.Pos([-2])),\n",
    "        brill.Template(brill.Pos([2])),\n",
    "        brill.Template(brill.Pos([-2, -1])),\n",
    "        brill.Template(brill.Pos([1, 2])),\n",
    "        brill.Template(brill.Pos([-3, -2, -1])),\n",
    "        brill.Template(brill.Pos([1, 2, 3])),\n",
    "        brill.Template(brill.Pos([-1]), brill.Pos([1])),\n",
    "        brill.Template(brill.Word([-1])),\n",
    "        brill.Template(brill.Word([1])),\n",
    "        brill.Template(brill.Word([-2])),\n",
    "        brill.Template(brill.Word([2])),\n",
    "        brill.Template(brill.Word([-2, -1])),\n",
    "        brill.Template(brill.Word([1, 2])),\n",
    "        brill.Template(brill.Word([-3, -2, -1])),\n",
    "        brill.Template(brill.Word([1, 2, 3])),\n",
    "        brill.Template(brill.Word([-1]), brill.Word([1]))]        \n",
    "trainer = BrillTaggerTrainer(postag, templates = templates, trace = 3)\n",
    "brill_tagger = trainer.train(traindata, max_rules = 10)"
   ]
  },
  {
   "cell_type": "markdown",
   "metadata": {},
   "source": [
    "# Source and Destination Extraction From Sentence # "
   ]
  },
  {
   "cell_type": "code",
   "execution_count": 7,
   "metadata": {
    "collapsed": true
   },
   "outputs": [],
   "source": [
    "def extract_location(inp):\n",
    "    tagged = brill_tagger.tag(word_tokenize(inp))\n",
    "    source = None\n",
    "    destination = None\n",
    "    chunkGram = \"\"\"Source: {<IN>(<NN.*><,>?)+}\"\"\"\n",
    "    chunkParser = nltk.RegexpParser(chunkGram)\n",
    "    chunked = chunkParser.parse(tagged)\n",
    "    for subtree in chunked.subtrees(filter=lambda t: t.label() == 'Source'):\n",
    "        source = ' '.join(list(zip(*subtree))[0][1:]) \n",
    "    \n",
    "    chunkGram = \"\"\"Destination: {<TO>(<NN.*><,>?)+}\"\"\"\n",
    "    chunkParser = nltk.RegexpParser(chunkGram)\n",
    "    chunked = chunkParser.parse(tagged)\n",
    "    for subtree in chunked.subtrees(filter=lambda t: t.label() == 'Destination'):\n",
    "        destination = ' '.join(list(zip(*subtree))[0][1:]) \n",
    "    return source, destination"
   ]
  },
  {
   "cell_type": "markdown",
   "metadata": {},
   "source": [
    "# Training Intent Mapper #"
   ]
  },
  {
   "cell_type": "code",
   "execution_count": 8,
   "metadata": {},
   "outputs": [],
   "source": [
    "def train_intent_mapper():\n",
    "    cab_bot_data_df=pd.read_csv('cab_bot_data.csv')\n",
    "    cab_bot_data_df['Category_label'] = cab_bot_data_df.Category.map({'Greetings':1, \n",
    "                                        'Look':2, 'Book':3, 'Fare_Estimation':4,\n",
    "                                        'Schedule':5, 'Cancel':6, 'Payment_Mode':7, \n",
    "                                        'Duration':8})\n",
    "    X = cab_bot_data_df.Questions\n",
    "    y = cab_bot_data_df.Category_label\n",
    "    X_train,X_test,Y_train,Y_test = m_sel.train_test_split(X,y,test_size=0.30,random_state=30)\n",
    "    vect = CountVectorizer()\n",
    "    vect.fit(X_train)\n",
    "    X_train_dtm = vect.transform(X_train)\n",
    "    nb = MultinomialNB()\n",
    "    nb.fit(X_train_dtm, Y_train)\n",
    "    return (nb,vect)\n",
    "nb_naive, vect = train_intent_mapper()"
   ]
  },
  {
   "cell_type": "markdown",
   "metadata": {},
   "source": [
    "# Function For Finding Intent Of a Question #"
   ]
  },
  {
   "cell_type": "code",
   "execution_count": 9,
   "metadata": {
    "collapsed": true
   },
   "outputs": [],
   "source": [
    "def find_intent(text,multinomial_nb,vect):\n",
    "    category = ['Greetings','Look','Book','Fare_Estimation',\n",
    "                'Schedule','Cancel','Payment_Mode','Duration']\n",
    "    txt_l=[text]\n",
    "    vect_text = vect.transform(txt_l)\n",
    "    predict_value = multinomial_nb.predict(vect_text)\n",
    "    predict_val=int(predict_value)\n",
    "    intent = category[predict_val-1]\n",
    "    return intent.lower() "
   ]
  },
  {
   "cell_type": "markdown",
   "metadata": {},
   "source": [
    "# Function For Cab Details As Data Frame #"
   ]
  },
  {
   "cell_type": "code",
   "execution_count": 10,
   "metadata": {
    "collapsed": true
   },
   "outputs": [],
   "source": [
    "def uber_cab_details(cab_dict):\n",
    "    columns = ['Car type', 'Availability', 'Distance(Km)', 'Minimum Price', 'Maximum Price', 'ETA(min)' ]\n",
    "    index=list(range(len(cab_dict['prices'])))\n",
    "    df = pd.DataFrame(index=index, columns=columns)\n",
    "    for i in index:\n",
    "        df.loc[i,'Car type'] = cab_dict['prices'][i]['display_name']\n",
    "        df.loc[i,'Availability'] = \"Yes\"\n",
    "        df.loc[i,'Distance(Km)'] = cab_dict['prices'][i]['distance']\n",
    "        df.loc[i,'Minimum Price'] = cab_dict['prices'][i]['low_estimate']\n",
    "        df.loc[i,'Maximum Price'] = cab_dict['prices'][i]['high_estimate']\n",
    "        df.loc[i,'ETA(min)'] = int(cab_dict['prices'][i]['duration']/100)\n",
    "    df['Car type']= df['Car type'].str.lower()    \n",
    "    return df      "
   ]
  },
  {
   "cell_type": "markdown",
   "metadata": {},
   "source": [
    "# Function For Cab Booking #"
   ]
  },
  {
   "cell_type": "code",
   "execution_count": 11,
   "metadata": {
    "collapsed": true
   },
   "outputs": [],
   "source": [
    "def book_uber(source, destination, cabtype, noofseats,response_avail_df, SessInfo):\n",
    "    df = response_avail_df\n",
    "    driver_name=[\"Tharoon Veerasethu\",\"Sharmaji\",\"Chachaji\",\"Chunnu\",\"Munni\",\"beta\",\"daadaji\",\"daadi\",\"bhai\",\"shinde\",\"langoor\"]\n",
    "    for i in range(df.shape[0]):\n",
    "        x=list(df.loc[i])\n",
    "        if cabtype in x:\n",
    "            for j in x:\n",
    "                if j == cabtype and df.loc[i,'Availability']=='Yes':\n",
    "                    SessInfo['bookingid']=\"UBER\"+str(random_with_N_digits(6))\n",
    "                    SessInfo['drivername']=random.choice(driver_name)\n",
    "                    SessInfo['driverno']=random_with_N_digits(10)\n",
    "                    SessInfo['carno']=\"KN-\"+str(random_with_N_digits(2))+\"-\"+str(random_with_N_digits(4))\n",
    "                    SessInfo['fare']=(df.loc[i,'Minimum Price']+df.loc[i,'Maximum Price'])/2\n",
    "                    SessInfo['cabtype']=cabtype\n",
    "                    #SessInfo['noofseats']=noofseats\n",
    "                    SessInfo['eta']=df.loc[i,'ETA(min)'] \n",
    "                    SessInfo['distance']=df.loc[i,'Distance(Km)']\n",
    "                    break"
   ]
  },
  {
   "cell_type": "markdown",
   "metadata": {},
   "source": [
    "# Function For Looking Cab #"
   ]
  },
  {
   "cell_type": "code",
   "execution_count": 12,
   "metadata": {
    "collapsed": true
   },
   "outputs": [],
   "source": [
    "# when looking for a cab pass seatcount as 1\n",
    "# when booking a cab pass the exact seat count required\n",
    "def look_uber(source,destination=None):\n",
    "    api = Geocoding()\n",
    "    try:\n",
    "        source_loc = api.geocode(source)\n",
    "        source_lat_long = source_loc[0]['geometry']['location']\n",
    "        start_lat=source_lat_long['lat']\n",
    "        start_lng=source_lat_long['lng']\n",
    "    except:\n",
    "        print('Enter Valid Source.\\n')\n",
    "        print('Please let me know if you want to know anything more')\n",
    "        return pd.DataFrame({})\n",
    "    \n",
    "    \n",
    "    if destination : \n",
    "        try:\n",
    "            destination_loc = api.geocode(destination)\n",
    "            destination_lat_long = destination_loc[0]['geometry']['location']\n",
    "            end_lat=destination_lat_long['lat']\n",
    "            end_lng=destination_lat_long['lng']\n",
    "\n",
    "        except:\n",
    "            print('Enter Valid destination.\\n')\n",
    "            print('Please let me know if you want to know anything more')\n",
    "            return pd.DataFrame({})\n",
    "        \n",
    "    else:\n",
    "        end_lat=12.9173312 # latitude of Central Silk Board\n",
    "        end_lng=77.6212483 # longitude of Central Silk Board\n",
    "    try:\n",
    "        response = client.get_price_estimates(\n",
    "            start_latitude=start_lat,\n",
    "            start_longitude=start_lng,\n",
    "            end_latitude=end_lat,\n",
    "            end_longitude=end_lng,\n",
    "            seat_count=2\n",
    "            )    \n",
    "\n",
    "        estimate = response.json \n",
    "        cab_details_df= uber_cab_details(estimate)\n",
    "        cab_details_df.fillna(0, axis=1, inplace=True)\n",
    "        #print('Following are the cabs availability\\n')\n",
    "        #print(cab_details_df)\n",
    "        return cab_details_df\n",
    "    except uber_error.ClientError as e:\n",
    "        print('Distance between two points exceeds 100 kms\\n')\n",
    "        print('Please let me know if you want to know anything more')\n",
    "        return pd.DataFrame({})\n",
    "    "
   ]
  },
  {
   "cell_type": "markdown",
   "metadata": {},
   "source": [
    "# Storing Information #"
   ]
  },
  {
   "cell_type": "code",
   "execution_count": 13,
   "metadata": {
    "collapsed": true
   },
   "outputs": [],
   "source": [
    "def storing_info(inp, intent, SessInfo):\n",
    "    if intent == 'greetings':\n",
    "        match1 = re.search('\\\\bhi|hello|hey\\\\b', inp)\n",
    "        match2 = re.search('\\\\Good\\sMorning|Good\\sEvening|Good\\sNight\\\\b', inp)\n",
    "        SessInfo['greet1'] = -1\n",
    "        SessInfo['greet2'] = -1\n",
    "        if match1 : SessInfo['greet1'] = match1.group()\n",
    "        if match2 : SessInfo['greet2'] = match2.group()    \n",
    "        \n",
    "    if intent == 'book' or intent == 'look':\n",
    "    ### look for name entity and of 2 location are ther ethen look for from and \n",
    "    ### to and just store the one tagged with gpe\n",
    "        source , destination = extract_location(inp)\n",
    "        \n",
    "        #print('am in storing')\n",
    "        #print(source, destination)\n",
    "        \n",
    "        if source and destination:\n",
    "            #print('both')\n",
    "            SessInfo['source'] = source\n",
    "            SessInfo['destination'] = destination\n",
    "                        \n",
    "        elif destination:\n",
    "            #print('matched field is destination')\n",
    "            '''check these updates'''\n",
    "            SessInfo['destination'] = destination\n",
    "            if 'source' in SessInfo: \n",
    "                #print('am here')\n",
    "                del SessInfo['source']\n",
    "        elif source:\n",
    "            #print('matched field is source')\n",
    "            SessInfo['source'] = source\n",
    "            '''check these updates'''\n",
    "            if 'destination' in SessInfo: del SessInfo['destination']\n",
    "            \n",
    "        cab_types = ['uberpool','ubergo','uberx', 'uberxl']\n",
    "        for cab in cab_types:\n",
    "            if cab in inp:\n",
    "                SessInfo['cab_type_user'] = cab            "
   ]
  },
  {
   "cell_type": "markdown",
   "metadata": {},
   "source": [
    "# To Check If Source and Destination Field Is There Or Not #"
   ]
  },
  {
   "cell_type": "code",
   "execution_count": 14,
   "metadata": {
    "collapsed": true
   },
   "outputs": [],
   "source": [
    "def handle_require_field(intent):\n",
    "    ### keys needed for booking \n",
    "    if intent== 'book': requiredKey = ['source','destination']\n",
    "    elif intent == 'look' : requiredKey = ['source']\n",
    "    if SessInfo['almost_book'] == True : requiredKey.append('cab_type_user')\n",
    "    \n",
    "    ### storing missing key require to complete booking\n",
    "    notAvail = []\n",
    "    print(requiredKey)\n",
    "    for key in requiredKey:\n",
    "        if key not in SessInfo:\n",
    "            notAvail.append(key)\n",
    "    ### we can set flag and ask for all the keys simuntaneously\n",
    "    if(len(notAvail)!=0):\n",
    "        c = ['We need some details, please provide \\n', 'Please provide the following details to proceed:\\n', 'Can you give these details\\n', 'We require more details, tell us about\\n', 'Can you help us with some more details\\n']\n",
    "        print(random.choice(c))\n",
    "        for key in notAvail:\n",
    "            if key == 'cab_type_user':\n",
    "                print(key)\n",
    "                SessInfo[key] = input() \n",
    "                print('No of Seats')\n",
    "                SessInfo['noofseats']=input()\n",
    "            else:\n",
    "                print(key)\n",
    "                SessInfo[key] = input()"
   ]
  },
  {
   "cell_type": "markdown",
   "metadata": {},
   "source": [
    "# Confirming Source Destination #"
   ]
  },
  {
   "cell_type": "code",
   "execution_count": 15,
   "metadata": {
    "collapsed": true
   },
   "outputs": [],
   "source": [
    "def confirm_src_destination():\n",
    "    v = ['Please confirm your source {} {} is correct. Type\\'Ok\\'', 'Your details are {} {}. Type OK if it is correct', ' Your Source and Destination are {} {}. Type OK to confirm', ' Following are your details {} {}, Type OK to procced', 'Your Booking Source and Destinations are {} {}, Type OK to procced']\n",
    "    print(random.choice(v).format(SessInfo.get('source',''),'and destination '+SessInfo['destination'] if 'destination' in SessInfo else '' ))\n",
    "    confirm_inp = input()\n",
    "    if confirm_inp.lower() == 'ok': \n",
    "        if 'destination' in SessInfo: SessInfo['almost_book']= True\n",
    "    else:\n",
    "        print('want to update source and destination. Reply with Yes')\n",
    "        if input()=='yes':\n",
    "            print('Sorry Provide the info again')\n",
    "            if 'source' in SessInfo:\n",
    "                print('source: ')\n",
    "                SessInfo['source'] = input()\n",
    "            if 'destination' in SessInfo:\n",
    "                print('destination: ')\n",
    "                SessInfo['destination'] = input()\n",
    "            if 'destination' in SessInfo : SessInfo['almost_book']= True\n",
    "        else:\n",
    "            print('Lets have a fresh start')\n",
    "            if 'destination' in SessInfo: del SessInfo['destination']\n",
    "            if 'source' in SessInfo: del SessInfo['source']\n",
    "            return"
   ]
  },
  {
   "cell_type": "markdown",
   "metadata": {},
   "source": [
    "# Function For Generating Response #"
   ]
  },
  {
   "cell_type": "code",
   "execution_count": 18,
   "metadata": {
    "collapsed": true
   },
   "outputs": [],
   "source": [
    "def generating_response(inp, intent, SessInfo):\n",
    "    greet=['Hey','Hi','Hello','Hey there','Hi Sir, how can i help you']\n",
    "    if inp == 'exit':\n",
    "        sys.exit()\n",
    "    else:\n",
    "        if intent == 'greetings':\n",
    "            if SessInfo['greet1'] != -1:       \n",
    "                print(random.choice(greet),'\\n')\n",
    "            elif SessInfo['greet2'] != -1:\n",
    "                print(SessInfo['greet2'],'Sir \\n Hope you have a nice day ahead \\n')\n",
    "\n",
    "        ### For handling response to booking queries\n",
    "        \n",
    "        if intent == 'look' :\n",
    "            handle_require_field(intent)\n",
    "            ### confirm and check if captured location and destination are coorect else update\n",
    "            confirm_src_destination()\n",
    "            \n",
    "            ## call look function (source to destination#optional)\n",
    "            x = ['Looking for a cab from {} {}', ' Please wait! while we look for a cab from {} {}', 'We are lookin for a cab from {} {}', ' Wait a second , we are working on your cab booking from {} {}' ]\n",
    "            y = ['Please Wait', 'Almost Done', 'Multiply 23*87 while we work on it', ' Add 323+23+456, lets see who is fast', 'Your Service is almost done', ' Count 5 4 3 2 1' ]\n",
    "            print(random.choice(x).format(SessInfo.get('source',''),'to '+SessInfo['destination'] if 'destination' in SessInfo else '' ))\n",
    "            print(random.choice(y)+'\\n')\n",
    "            response_avail_df = look_uber(SessInfo.get('source',''),SessInfo.get('destination',None))             \n",
    "            if not response_avail_df.empty:\n",
    "                z = ['Following are your results\\n', 'Cabs for you\\n', 'We find something for you\\n', ' Have a look at the following options\\n', ' Suitable cabs for you\\n' ]\n",
    "                print(random.choice(z))\n",
    "                print(response_avail_df)\n",
    "                print('Little friendly tip, You can for sure let us know your cab type preference and we will book it for you or enter any other query')\n",
    "            return\n",
    "        \n",
    "        elif intent == 'book' :\n",
    "            if SessInfo['almost_book'] == True:\n",
    "                handle_require_field('book')\n",
    "                #### book function           \n",
    "            else:\n",
    "                handle_require_field(intent)\n",
    "                confirm_src_destination()\n",
    "                response_avail_df = look_uber(SessInfo.get('source',''),SessInfo.get('destination',None))\n",
    "                if not response_avail_df.empty:\n",
    "                    print(response_avail_df)\n",
    "                    handle_require_field('book')\n",
    "                    available_cab_category = response_avail_df[response_avail_df['Availability']=='Yes']['Car type'].str.lower().tolist()\n",
    "                    if SessInfo['cab_type_user'] in available_cab_category:\n",
    "                ###book the cab\n",
    "                        book_uber(SessInfo['source'], SessInfo['destination'], SessInfo['cab_type_user'], SessInfo['noofseats'],response_avail_df,SessInfo)\n",
    "                        print('Booking Done. Your booking id is {}'.format(SessInfo['bookingid']))\n",
    "                        print('The estimated time of your cab\\'s arrival is {}'.format(SessInfo['eta']))\n",
    "                        print('Please let me know if you want to know anything more')\n",
    "                #### if booking is done store flag that avoid user from asking to multiple book\n",
    "                ### if asked explicitly to do second booking nullify the first one\n",
    "                        return\n",
    "                else:\n",
    "                    print('Sorry {} not available. Please provide correct response with booking confirmation, if you want to book \\n'.format(SessInfo['cab_type_user']))\n",
    "                    return\n",
    "            \n",
    "            \n",
    "        elif intent == 'duration':\n",
    "            x1=['Looking for estimated time of arrival \\n',' Please wait! while we look for Estimated Time of arrival of your cab \\n','We are looking for estimated time of arrival\\n' ]\n",
    "            if 'bookingid' in list(SessInfo.keys()):\n",
    "                print(random.choice(x1))\n",
    "                print('The estimated time of arrival of your cab '+str(SessInfo['cabtype'])+' with booking id '+str(SessInfo['bookingid']) +' is '+str(SessInfo['eta'])+'\\n')\n",
    "            else:\n",
    "                print(\"Sorry Sir, you haven't booked any cabs as of now\")\n",
    "                print(\"Please book a cab inorder to know the expected time of arrival\")\n",
    "                print('Please let me know if you want to know anything more')\n",
    "                \n",
    "                \n",
    "        elif intent == 'fare_estimation':\n",
    "                x2=['Looking for estimated fare \\n',' Please wait! while we look for Estimated Fare \\n','We are looking for estimated fare\\n' ]\n",
    "                z2= ['Following are your results\\n', 'We find something for you\\n', ' Have a look at the following options\\n']\n",
    "                if ('estimated' in inp) and ('bookingid' in list(SessInfo.keys())):\n",
    "                    print(random.choice(x2))\n",
    "                    print(random.choice(z2))\n",
    "                    print('The estimated fare of your cab '+str(SessInfo['cabtype'])+' with booking id '+str(SessInfo['bookingid']) +' is '+str(SessInfo['fare'])+'\\n')\n",
    "                elif (('estimated' in inp) and ('from' in inp) and ('to' in inp)) or (('from' in inp) and ('to' in inp)):\n",
    "                    src, dest=extract_location(inp)\n",
    "                    df = look_uber(src, dest)\n",
    "                    if not df.empty :\n",
    "                        print(random.choice(x2))\n",
    "                        print(random.choice(z2))\n",
    "                        print(\"Following are the available cabs and their Minimum and Maximum price\")\n",
    "                        print(df[['Car type','Minimum Price','Maximum Price']])\n",
    "                else:\n",
    "                    print(\"Sorry Sir, you haven't booked any cabs as of now\")\n",
    "                    print(\"Please book a cab or give proper source and destination inorder to know the Minimum and Maximum price\")\n",
    "                    print('Please let me know if you want to know anything more')        \n",
    "                    \n",
    "                    \n",
    "        elif intent == 'cancel':\n",
    "            print('Are you sure that you want to cancel the cab Yes/No')\n",
    "            decision=input().lower()\n",
    "            if decision == 'yes':\n",
    "                print('Your cab '+str(SessInfo['cabtype'])+' with booking id '+str(SessInfo['bookingid']) +' is cancelled')\n",
    "                SessInfo=dict()          \n",
    "            elif decision == 'no':\n",
    "                print('Your cab is not cancelled')\n",
    "                print('Please let me know if you want to know anything more')\n",
    "                \n",
    "        #elif intent == 'schedule':   \n",
    "    "
   ]
  },
  {
   "cell_type": "markdown",
   "metadata": {},
   "source": [
    "# BOT Function #"
   ]
  },
  {
   "cell_type": "code",
   "execution_count": 20,
   "metadata": {},
   "outputs": [
    {
     "name": "stdout",
     "output_type": "stream",
     "text": [
      "book a cab from stack route, koramangala\n",
      "['source', 'destination']\n",
      "Can you help us with some more details\n",
      "\n",
      "destination\n",
      "wipro, electronic city\n",
      "Your Booking Source and Destinations are stack route , koramangala and destination wipro, electronic city, Type OK to procced\n",
      "ok\n",
      "   Car type Availability  Distance(Km)  Minimum Price  Maximum Price  ETA(min)\n",
      "0  uberpool          Yes          9.13          230.0          283.0        21\n",
      "1    ubergo          Yes          9.13          313.0          384.0        21\n",
      "2     uberx          Yes          9.13          313.0          384.0        21\n",
      "3    uberxl          Yes          9.13          425.0          521.0        21\n",
      "['source', 'destination', 'cab_type_user']\n",
      "We require more details, tell us about\n",
      "\n",
      "cab_type_user\n",
      "uberx\n",
      "No of Seats\n",
      "3\n",
      "Booking Done. Your booking id is UBER150482\n",
      "The estimated time of your cab's arrival is 21\n",
      "Please let me know if you want to know anything more\n"
     ]
    },
    {
     "ename": "KeyboardInterrupt",
     "evalue": "",
     "output_type": "error",
     "traceback": [
      "\u001b[0;31m---------------------------------------------------------------------------\u001b[0m",
      "\u001b[0;31mKeyboardInterrupt\u001b[0m                         Traceback (most recent call last)",
      "\u001b[0;32m/home/nishant/venvs/KabBot/lib/python3.5/site-packages/ipykernel/kernelbase.py\u001b[0m in \u001b[0;36m_input_request\u001b[0;34m(self, prompt, ident, parent, password)\u001b[0m\n\u001b[1;32m    729\u001b[0m             \u001b[0;32mtry\u001b[0m\u001b[0;34m:\u001b[0m\u001b[0;34m\u001b[0m\u001b[0m\n\u001b[0;32m--> 730\u001b[0;31m                 \u001b[0mident\u001b[0m\u001b[0;34m,\u001b[0m \u001b[0mreply\u001b[0m \u001b[0;34m=\u001b[0m \u001b[0mself\u001b[0m\u001b[0;34m.\u001b[0m\u001b[0msession\u001b[0m\u001b[0;34m.\u001b[0m\u001b[0mrecv\u001b[0m\u001b[0;34m(\u001b[0m\u001b[0mself\u001b[0m\u001b[0;34m.\u001b[0m\u001b[0mstdin_socket\u001b[0m\u001b[0;34m,\u001b[0m \u001b[0;36m0\u001b[0m\u001b[0;34m)\u001b[0m\u001b[0;34m\u001b[0m\u001b[0m\n\u001b[0m\u001b[1;32m    731\u001b[0m             \u001b[0;32mexcept\u001b[0m \u001b[0mException\u001b[0m\u001b[0;34m:\u001b[0m\u001b[0;34m\u001b[0m\u001b[0m\n",
      "\u001b[0;32m/home/nishant/venvs/KabBot/lib/python3.5/site-packages/jupyter_client/session.py\u001b[0m in \u001b[0;36mrecv\u001b[0;34m(self, socket, mode, content, copy)\u001b[0m\n\u001b[1;32m    777\u001b[0m         \u001b[0;32mtry\u001b[0m\u001b[0;34m:\u001b[0m\u001b[0;34m\u001b[0m\u001b[0m\n\u001b[0;32m--> 778\u001b[0;31m             \u001b[0mmsg_list\u001b[0m \u001b[0;34m=\u001b[0m \u001b[0msocket\u001b[0m\u001b[0;34m.\u001b[0m\u001b[0mrecv_multipart\u001b[0m\u001b[0;34m(\u001b[0m\u001b[0mmode\u001b[0m\u001b[0;34m,\u001b[0m \u001b[0mcopy\u001b[0m\u001b[0;34m=\u001b[0m\u001b[0mcopy\u001b[0m\u001b[0;34m)\u001b[0m\u001b[0;34m\u001b[0m\u001b[0m\n\u001b[0m\u001b[1;32m    779\u001b[0m         \u001b[0;32mexcept\u001b[0m \u001b[0mzmq\u001b[0m\u001b[0;34m.\u001b[0m\u001b[0mZMQError\u001b[0m \u001b[0;32mas\u001b[0m \u001b[0me\u001b[0m\u001b[0;34m:\u001b[0m\u001b[0;34m\u001b[0m\u001b[0m\n",
      "\u001b[0;32m/home/nishant/venvs/KabBot/lib/python3.5/site-packages/zmq/sugar/socket.py\u001b[0m in \u001b[0;36mrecv_multipart\u001b[0;34m(self, flags, copy, track)\u001b[0m\n\u001b[1;32m    394\u001b[0m         \"\"\"\n\u001b[0;32m--> 395\u001b[0;31m         \u001b[0mparts\u001b[0m \u001b[0;34m=\u001b[0m \u001b[0;34m[\u001b[0m\u001b[0mself\u001b[0m\u001b[0;34m.\u001b[0m\u001b[0mrecv\u001b[0m\u001b[0;34m(\u001b[0m\u001b[0mflags\u001b[0m\u001b[0;34m,\u001b[0m \u001b[0mcopy\u001b[0m\u001b[0;34m=\u001b[0m\u001b[0mcopy\u001b[0m\u001b[0;34m,\u001b[0m \u001b[0mtrack\u001b[0m\u001b[0;34m=\u001b[0m\u001b[0mtrack\u001b[0m\u001b[0;34m)\u001b[0m\u001b[0;34m]\u001b[0m\u001b[0;34m\u001b[0m\u001b[0m\n\u001b[0m\u001b[1;32m    396\u001b[0m         \u001b[0;31m# have first part already, only loop while more to receive\u001b[0m\u001b[0;34m\u001b[0m\u001b[0;34m\u001b[0m\u001b[0m\n",
      "\u001b[0;32mzmq/backend/cython/socket.pyx\u001b[0m in \u001b[0;36mzmq.backend.cython.socket.Socket.recv (zmq/backend/cython/socket.c:7683)\u001b[0;34m()\u001b[0m\n",
      "\u001b[0;32mzmq/backend/cython/socket.pyx\u001b[0m in \u001b[0;36mzmq.backend.cython.socket.Socket.recv (zmq/backend/cython/socket.c:7460)\u001b[0;34m()\u001b[0m\n",
      "\u001b[0;32mzmq/backend/cython/socket.pyx\u001b[0m in \u001b[0;36mzmq.backend.cython.socket._recv_copy (zmq/backend/cython/socket.c:2344)\u001b[0;34m()\u001b[0m\n",
      "\u001b[0;32m/home/nishant/venvs/KabBot/lib/python3.5/site-packages/zmq/backend/cython/checkrc.pxd\u001b[0m in \u001b[0;36mzmq.backend.cython.checkrc._check_rc (zmq/backend/cython/socket.c:9621)\u001b[0;34m()\u001b[0m\n",
      "\u001b[0;31mKeyboardInterrupt\u001b[0m: ",
      "\nDuring handling of the above exception, another exception occurred:\n",
      "\u001b[0;31mKeyboardInterrupt\u001b[0m                         Traceback (most recent call last)",
      "\u001b[0;32m<ipython-input-20-f4625b17b23f>\u001b[0m in \u001b[0;36m<module>\u001b[0;34m()\u001b[0m\n\u001b[1;32m      4\u001b[0m \u001b[0;31m#already_looked = False\u001b[0m\u001b[0;34m\u001b[0m\u001b[0;34m\u001b[0m\u001b[0m\n\u001b[1;32m      5\u001b[0m \u001b[0;32mwhile\u001b[0m\u001b[0;34m(\u001b[0m\u001b[0;32mTrue\u001b[0m\u001b[0;34m)\u001b[0m\u001b[0;34m:\u001b[0m\u001b[0;34m\u001b[0m\u001b[0m\n\u001b[0;32m----> 6\u001b[0;31m     \u001b[0minp\u001b[0m \u001b[0;34m=\u001b[0m \u001b[0minput\u001b[0m\u001b[0;34m(\u001b[0m\u001b[0;34m)\u001b[0m\u001b[0;34m.\u001b[0m\u001b[0mlower\u001b[0m\u001b[0;34m(\u001b[0m\u001b[0;34m)\u001b[0m\u001b[0;34m\u001b[0m\u001b[0m\n\u001b[0m\u001b[1;32m      7\u001b[0m \u001b[0;34m\u001b[0m\u001b[0m\n\u001b[1;32m      8\u001b[0m     \u001b[0;31m### find the intent\u001b[0m\u001b[0;34m\u001b[0m\u001b[0;34m\u001b[0m\u001b[0m\n",
      "\u001b[0;32m/home/nishant/venvs/KabBot/lib/python3.5/site-packages/ipykernel/kernelbase.py\u001b[0m in \u001b[0;36mraw_input\u001b[0;34m(self, prompt)\u001b[0m\n\u001b[1;32m    703\u001b[0m             \u001b[0mself\u001b[0m\u001b[0;34m.\u001b[0m\u001b[0m_parent_ident\u001b[0m\u001b[0;34m,\u001b[0m\u001b[0;34m\u001b[0m\u001b[0m\n\u001b[1;32m    704\u001b[0m             \u001b[0mself\u001b[0m\u001b[0;34m.\u001b[0m\u001b[0m_parent_header\u001b[0m\u001b[0;34m,\u001b[0m\u001b[0;34m\u001b[0m\u001b[0m\n\u001b[0;32m--> 705\u001b[0;31m             \u001b[0mpassword\u001b[0m\u001b[0;34m=\u001b[0m\u001b[0;32mFalse\u001b[0m\u001b[0;34m,\u001b[0m\u001b[0;34m\u001b[0m\u001b[0m\n\u001b[0m\u001b[1;32m    706\u001b[0m         )\n\u001b[1;32m    707\u001b[0m \u001b[0;34m\u001b[0m\u001b[0m\n",
      "\u001b[0;32m/home/nishant/venvs/KabBot/lib/python3.5/site-packages/ipykernel/kernelbase.py\u001b[0m in \u001b[0;36m_input_request\u001b[0;34m(self, prompt, ident, parent, password)\u001b[0m\n\u001b[1;32m    733\u001b[0m             \u001b[0;32mexcept\u001b[0m \u001b[0mKeyboardInterrupt\u001b[0m\u001b[0;34m:\u001b[0m\u001b[0;34m\u001b[0m\u001b[0m\n\u001b[1;32m    734\u001b[0m                 \u001b[0;31m# re-raise KeyboardInterrupt, to truncate traceback\u001b[0m\u001b[0;34m\u001b[0m\u001b[0;34m\u001b[0m\u001b[0m\n\u001b[0;32m--> 735\u001b[0;31m                 \u001b[0;32mraise\u001b[0m \u001b[0mKeyboardInterrupt\u001b[0m\u001b[0;34m\u001b[0m\u001b[0m\n\u001b[0m\u001b[1;32m    736\u001b[0m             \u001b[0;32melse\u001b[0m\u001b[0;34m:\u001b[0m\u001b[0;34m\u001b[0m\u001b[0m\n\u001b[1;32m    737\u001b[0m                 \u001b[0;32mbreak\u001b[0m\u001b[0;34m\u001b[0m\u001b[0m\n",
      "\u001b[0;31mKeyboardInterrupt\u001b[0m: "
     ]
    }
   ],
   "source": [
    "### storing important info\n",
    "SessInfo = dict() ## refreesh dictionary when user work is completed\n",
    "SessInfo['almost_book'] = False\n",
    "#already_looked = False\n",
    "while(True):\n",
    "    inp = input().lower()\n",
    "    \n",
    "    ### find the intent\n",
    "    intent = find_intent(inp,nb_naive,vect)\n",
    "    \n",
    "    \n",
    "    ### look for a particular patterns as per intent\n",
    "    ### update the dict\n",
    "    storing_info(inp, intent, SessInfo)\n",
    "\n",
    "    ### generate output\n",
    "    #### function1 (intent, dict) ## intent is greeting reply normally\n",
    "    generating_response(inp, intent, SessInfo)"
   ]
  },
  {
   "cell_type": "code",
   "execution_count": null,
   "metadata": {
    "collapsed": true
   },
   "outputs": [],
   "source": []
  },
  {
   "cell_type": "code",
   "execution_count": null,
   "metadata": {
    "collapsed": true
   },
   "outputs": [],
   "source": []
  },
  {
   "cell_type": "code",
   "execution_count": null,
   "metadata": {
    "collapsed": true
   },
   "outputs": [],
   "source": []
  },
  {
   "cell_type": "code",
   "execution_count": null,
   "metadata": {
    "collapsed": true
   },
   "outputs": [],
   "source": []
  },
  {
   "cell_type": "code",
   "execution_count": null,
   "metadata": {
    "collapsed": true
   },
   "outputs": [],
   "source": [
    "for key in SessInfo:\n",
    "    print(key, SessInfo[key])"
   ]
  },
  {
   "cell_type": "code",
   "execution_count": null,
   "metadata": {
    "collapsed": true
   },
   "outputs": [],
   "source": []
  },
  {
   "cell_type": "code",
   "execution_count": null,
   "metadata": {
    "collapsed": true
   },
   "outputs": [],
   "source": []
  }
 ],
 "metadata": {
  "kernelspec": {
   "display_name": "Python 3",
   "language": "python",
   "name": "python3"
  },
  "language_info": {
   "codemirror_mode": {
    "name": "ipython",
    "version": 3
   },
   "file_extension": ".py",
   "mimetype": "text/x-python",
   "name": "python",
   "nbconvert_exporter": "python",
   "pygments_lexer": "ipython3",
   "version": "3.5.2"
  }
 },
 "nbformat": 4,
 "nbformat_minor": 2
}
