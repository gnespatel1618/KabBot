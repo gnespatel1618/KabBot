{
 "cells": [
  {
   "cell_type": "code",
   "execution_count": 48,
   "metadata": {
    "collapsed": true
   },
   "outputs": [],
   "source": [
    "from uber_rides.session import Session\n",
    "from uber_rides.client import UberRidesClient\n",
    "\n",
    "session = Session(server_token='gQqt-C_l3O2CSZ0Y2TNjIRJQmSmowvcJPMAOBLoB')\n",
    "client = UberRidesClient(session)\n"
   ]
  },
  {
   "cell_type": "code",
   "execution_count": 49,
   "metadata": {
    "collapsed": false
   },
   "outputs": [],
   "source": [
    "response = client.get_products(12.8390081, 77.6592605)\n",
    "products = response.json.get('products')"
   ]
  },
  {
   "cell_type": "code",
   "execution_count": 50,
   "metadata": {
    "collapsed": false
   },
   "outputs": [
    {
     "data": {
      "text/plain": [
       "[{'capacity': 2,\n",
       "  'cash_enabled': True,\n",
       "  'description': 'CHEAPER. SMARTER. SHARED.',\n",
       "  'display_name': 'UberPOOL',\n",
       "  'image': 'http://d1a3f4spazzrp4.cloudfront.net/car-types/mono/mono-uberpool-2.png',\n",
       "  'product_group': 'rideshare',\n",
       "  'product_id': 'ed5e79f0-c124-4377-89eb-511cbdeb5fe2',\n",
       "  'shared': True,\n",
       "  'short_description': 'uberPOOL',\n",
       "  'upfront_fare_enabled': True},\n",
       " {'capacity': 4,\n",
       "  'cash_enabled': True,\n",
       "  'description': 'THE LOW-COST UBER',\n",
       "  'display_name': 'UberGO',\n",
       "  'image': 'http://d1a3f4spazzrp4.cloudfront.net/car-types/mono/mono-ubergo.png',\n",
       "  'product_group': 'uberx',\n",
       "  'product_id': 'db6779d6-d8da-479f-8ac7-8068f4dade6f',\n",
       "  'shared': False,\n",
       "  'short_description': 'uberGO',\n",
       "  'upfront_fare_enabled': True},\n",
       " {'capacity': 4,\n",
       "  'cash_enabled': True,\n",
       "  'description': 'THE EVERYDAY UBER',\n",
       "  'display_name': 'UberX',\n",
       "  'image': 'http://d1a3f4spazzrp4.cloudfront.net/car-types/mono/mono-uberx.png',\n",
       "  'product_group': 'uberx',\n",
       "  'product_id': '0dfc35e0-b4be-49a1-b1bf-0bc7217e4b58',\n",
       "  'shared': False,\n",
       "  'short_description': 'uberX',\n",
       "  'upfront_fare_enabled': True},\n",
       " {'capacity': 6,\n",
       "  'cash_enabled': True,\n",
       "  'description': 'ROOM FOR EVERYONE',\n",
       "  'display_name': 'UberXL',\n",
       "  'image': 'http://d1a3f4spazzrp4.cloudfront.net/car-types/mono/mono-suv.png',\n",
       "  'product_group': 'suv',\n",
       "  'product_id': '1cfdf145-9e9f-44d6-8f93-976e0252ca8d',\n",
       "  'shared': False,\n",
       "  'short_description': 'UberXL',\n",
       "  'upfront_fare_enabled': True}]"
      ]
     },
     "execution_count": 50,
     "metadata": {},
     "output_type": "execute_result"
    }
   ],
   "source": [
    "products"
   ]
  },
  {
   "cell_type": "code",
   "execution_count": 51,
   "metadata": {
    "collapsed": true
   },
   "outputs": [],
   "source": [
    "response = client.get_price_estimates(\n",
    "    start_latitude=12.8390081,\n",
    "    start_longitude=77.6592605,\n",
    "    end_latitude=12.9345,\n",
    "    end_longitude=77.6113,\n",
    "    seat_count=2\n",
    ")"
   ]
  },
  {
   "cell_type": "code",
   "execution_count": 55,
   "metadata": {
    "collapsed": false
   },
   "outputs": [],
   "source": [
    "estimate = response.json"
   ]
  },
  {
   "cell_type": "code",
   "execution_count": 56,
   "metadata": {
    "collapsed": false
   },
   "outputs": [
    {
     "data": {
      "text/plain": [
       "{'prices': [{'currency_code': 'INR',\n",
       "   'display_name': 'UberPOOL',\n",
       "   'distance': 8.39,\n",
       "   'duration': 2100,\n",
       "   'estimate': '₹169-207',\n",
       "   'high_estimate': 208.0,\n",
       "   'localized_display_name': 'UberPOOL',\n",
       "   'low_estimate': 169.0,\n",
       "   'product_id': 'ed5e79f0-c124-4377-89eb-511cbdeb5fe2'},\n",
       "  {'currency_code': 'INR',\n",
       "   'display_name': 'UberGO',\n",
       "   'distance': 8.39,\n",
       "   'duration': 2100,\n",
       "   'estimate': '₹251-308',\n",
       "   'high_estimate': 308.0,\n",
       "   'localized_display_name': 'UberGO',\n",
       "   'low_estimate': 251.0,\n",
       "   'product_id': 'db6779d6-d8da-479f-8ac7-8068f4dade6f'},\n",
       "  {'currency_code': 'INR',\n",
       "   'display_name': 'UberX',\n",
       "   'distance': 8.39,\n",
       "   'duration': 2100,\n",
       "   'estimate': '₹251-308',\n",
       "   'high_estimate': 308.0,\n",
       "   'localized_display_name': 'UberX',\n",
       "   'low_estimate': 251.0,\n",
       "   'product_id': '0dfc35e0-b4be-49a1-b1bf-0bc7217e4b58'},\n",
       "  {'currency_code': 'INR',\n",
       "   'display_name': 'UberXL',\n",
       "   'distance': 8.39,\n",
       "   'duration': 2100,\n",
       "   'estimate': '₹378-463',\n",
       "   'high_estimate': 463.0,\n",
       "   'localized_display_name': 'UberXL',\n",
       "   'low_estimate': 378.0,\n",
       "   'product_id': '1cfdf145-9e9f-44d6-8f93-976e0252ca8d'}]}"
      ]
     },
     "execution_count": 56,
     "metadata": {},
     "output_type": "execute_result"
    }
   ],
   "source": [
    "estimate"
   ]
  },
  {
   "cell_type": "code",
   "execution_count": 46,
   "metadata": {
    "collapsed": true
   },
   "outputs": [],
   "source": [
    "response = client.get_products(12.8390081, 77.6592605)\n",
    "products = response.json.get('products')\n",
    "\n",
    "product_id = products[0].get('product_id')"
   ]
  },
  {
   "cell_type": "code",
   "execution_count": 47,
   "metadata": {
    "collapsed": false
   },
   "outputs": [
    {
     "ename": "ClientError",
     "evalue": "401: Invalid OAuth 2.0 credentials provided. ",
     "output_type": "error",
     "traceback": [
      "\u001b[0;31m---------------------------------------------------------------------------\u001b[0m",
      "\u001b[0;31mClientError\u001b[0m                               Traceback (most recent call last)",
      "\u001b[0;32m<ipython-input-47-b641541475f5>\u001b[0m in \u001b[0;36m<module>\u001b[0;34m()\u001b[0m\n\u001b[1;32m      5\u001b[0m     \u001b[0mend_latitude\u001b[0m\u001b[0;34m=\u001b[0m\u001b[0;36m12.9345\u001b[0m\u001b[0;34m,\u001b[0m\u001b[0;34m\u001b[0m\u001b[0m\n\u001b[1;32m      6\u001b[0m     \u001b[0mend_longitude\u001b[0m\u001b[0;34m=\u001b[0m\u001b[0;36m77.6113\u001b[0m\u001b[0;34m,\u001b[0m\u001b[0;34m\u001b[0m\u001b[0m\n\u001b[0;32m----> 7\u001b[0;31m     \u001b[0mseat_count\u001b[0m\u001b[0;34m=\u001b[0m\u001b[0;36m2\u001b[0m\u001b[0;34m\u001b[0m\u001b[0m\n\u001b[0m\u001b[1;32m      8\u001b[0m )\n\u001b[1;32m      9\u001b[0m \u001b[0mfare\u001b[0m \u001b[0;34m=\u001b[0m \u001b[0mestimate\u001b[0m\u001b[0;34m.\u001b[0m\u001b[0mjson\u001b[0m\u001b[0;34m.\u001b[0m\u001b[0mget\u001b[0m\u001b[0;34m(\u001b[0m\u001b[0;34m'fare'\u001b[0m\u001b[0;34m)\u001b[0m\u001b[0;34m\u001b[0m\u001b[0m\n",
      "\u001b[0;32m/home/user/Project/test/lib/python3.5/site-packages/uber_rides/client.py\u001b[0m in \u001b[0;36mestimate_ride\u001b[0;34m(self, product_id, start_latitude, start_longitude, start_place_id, end_latitude, end_longitude, end_place_id, seat_count)\u001b[0m\n\u001b[1;32m    344\u001b[0m         }\n\u001b[1;32m    345\u001b[0m \u001b[0;34m\u001b[0m\u001b[0m\n\u001b[0;32m--> 346\u001b[0;31m         \u001b[0;32mreturn\u001b[0m \u001b[0mself\u001b[0m\u001b[0;34m.\u001b[0m\u001b[0m_api_call\u001b[0m\u001b[0;34m(\u001b[0m\u001b[0;34m'POST'\u001b[0m\u001b[0;34m,\u001b[0m \u001b[0;34m'v1.2/requests/estimate'\u001b[0m\u001b[0;34m,\u001b[0m \u001b[0margs\u001b[0m\u001b[0;34m=\u001b[0m\u001b[0margs\u001b[0m\u001b[0;34m)\u001b[0m\u001b[0;34m\u001b[0m\u001b[0m\n\u001b[0m\u001b[1;32m    347\u001b[0m \u001b[0;34m\u001b[0m\u001b[0m\n\u001b[1;32m    348\u001b[0m     def request_ride(\n",
      "\u001b[0;32m/home/user/Project/test/lib/python3.5/site-packages/uber_rides/client.py\u001b[0m in \u001b[0;36m_api_call\u001b[0;34m(self, method, target, args)\u001b[0m\n\u001b[1;32m    102\u001b[0m         )\n\u001b[1;32m    103\u001b[0m \u001b[0;34m\u001b[0m\u001b[0m\n\u001b[0;32m--> 104\u001b[0;31m         \u001b[0;32mreturn\u001b[0m \u001b[0mrequest\u001b[0m\u001b[0;34m.\u001b[0m\u001b[0mexecute\u001b[0m\u001b[0;34m(\u001b[0m\u001b[0;34m)\u001b[0m\u001b[0;34m\u001b[0m\u001b[0m\n\u001b[0m\u001b[1;32m    105\u001b[0m \u001b[0;34m\u001b[0m\u001b[0m\n\u001b[1;32m    106\u001b[0m     \u001b[0;32mdef\u001b[0m \u001b[0mget_products\u001b[0m\u001b[0;34m(\u001b[0m\u001b[0mself\u001b[0m\u001b[0;34m,\u001b[0m \u001b[0mlatitude\u001b[0m\u001b[0;34m,\u001b[0m \u001b[0mlongitude\u001b[0m\u001b[0;34m)\u001b[0m\u001b[0;34m:\u001b[0m\u001b[0;34m\u001b[0m\u001b[0m\n",
      "\u001b[0;32m/home/user/Project/test/lib/python3.5/site-packages/uber_rides/request.py\u001b[0m in \u001b[0;36mexecute\u001b[0;34m(self)\u001b[0m\n\u001b[1;32m    150\u001b[0m         \"\"\"\n\u001b[1;32m    151\u001b[0m         \u001b[0mprepared_request\u001b[0m \u001b[0;34m=\u001b[0m \u001b[0mself\u001b[0m\u001b[0;34m.\u001b[0m\u001b[0m_prepare\u001b[0m\u001b[0;34m(\u001b[0m\u001b[0;34m)\u001b[0m\u001b[0;34m\u001b[0m\u001b[0m\n\u001b[0;32m--> 152\u001b[0;31m         \u001b[0;32mreturn\u001b[0m \u001b[0mself\u001b[0m\u001b[0;34m.\u001b[0m\u001b[0m_send\u001b[0m\u001b[0;34m(\u001b[0m\u001b[0mprepared_request\u001b[0m\u001b[0;34m)\u001b[0m\u001b[0;34m\u001b[0m\u001b[0m\n\u001b[0m\u001b[1;32m    153\u001b[0m \u001b[0;34m\u001b[0m\u001b[0m\n\u001b[1;32m    154\u001b[0m     \u001b[0;32mdef\u001b[0m \u001b[0m_build_headers\u001b[0m\u001b[0;34m(\u001b[0m\u001b[0mself\u001b[0m\u001b[0;34m,\u001b[0m \u001b[0mmethod\u001b[0m\u001b[0;34m,\u001b[0m \u001b[0mauth_session\u001b[0m\u001b[0;34m)\u001b[0m\u001b[0;34m:\u001b[0m\u001b[0;34m\u001b[0m\u001b[0m\n",
      "\u001b[0;32m/home/user/Project/test/lib/python3.5/site-packages/uber_rides/request.py\u001b[0m in \u001b[0;36m_send\u001b[0;34m(self, prepared_request)\u001b[0m\n\u001b[1;32m    134\u001b[0m         \"\"\"\n\u001b[1;32m    135\u001b[0m         \u001b[0msession\u001b[0m \u001b[0;34m=\u001b[0m \u001b[0mSession\u001b[0m\u001b[0;34m(\u001b[0m\u001b[0;34m)\u001b[0m\u001b[0;34m\u001b[0m\u001b[0m\n\u001b[0;32m--> 136\u001b[0;31m         \u001b[0mresponse\u001b[0m \u001b[0;34m=\u001b[0m \u001b[0msession\u001b[0m\u001b[0;34m.\u001b[0m\u001b[0msend\u001b[0m\u001b[0;34m(\u001b[0m\u001b[0mprepared_request\u001b[0m\u001b[0;34m)\u001b[0m\u001b[0;34m\u001b[0m\u001b[0m\n\u001b[0m\u001b[1;32m    137\u001b[0m         \u001b[0;32mreturn\u001b[0m \u001b[0mResponse\u001b[0m\u001b[0;34m(\u001b[0m\u001b[0mresponse\u001b[0m\u001b[0;34m)\u001b[0m\u001b[0;34m\u001b[0m\u001b[0m\n\u001b[1;32m    138\u001b[0m \u001b[0;34m\u001b[0m\u001b[0m\n",
      "\u001b[0;32m/home/user/Project/test/lib/python3.5/site-packages/requests/sessions.py\u001b[0m in \u001b[0;36msend\u001b[0;34m(self, request, **kwargs)\u001b[0m\n\u001b[1;32m    600\u001b[0m \u001b[0;34m\u001b[0m\u001b[0m\n\u001b[1;32m    601\u001b[0m         \u001b[0;31m# Response manipulation hooks\u001b[0m\u001b[0;34m\u001b[0m\u001b[0;34m\u001b[0m\u001b[0m\n\u001b[0;32m--> 602\u001b[0;31m         \u001b[0mr\u001b[0m \u001b[0;34m=\u001b[0m \u001b[0mdispatch_hook\u001b[0m\u001b[0;34m(\u001b[0m\u001b[0;34m'response'\u001b[0m\u001b[0;34m,\u001b[0m \u001b[0mhooks\u001b[0m\u001b[0;34m,\u001b[0m \u001b[0mr\u001b[0m\u001b[0;34m,\u001b[0m \u001b[0;34m**\u001b[0m\u001b[0mkwargs\u001b[0m\u001b[0;34m)\u001b[0m\u001b[0;34m\u001b[0m\u001b[0m\n\u001b[0m\u001b[1;32m    603\u001b[0m \u001b[0;34m\u001b[0m\u001b[0m\n\u001b[1;32m    604\u001b[0m         \u001b[0;31m# Persist cookies\u001b[0m\u001b[0;34m\u001b[0m\u001b[0;34m\u001b[0m\u001b[0m\n",
      "\u001b[0;32m/home/user/Project/test/lib/python3.5/site-packages/requests/hooks.py\u001b[0m in \u001b[0;36mdispatch_hook\u001b[0;34m(key, hooks, hook_data, **kwargs)\u001b[0m\n\u001b[1;32m     29\u001b[0m             \u001b[0mhooks\u001b[0m \u001b[0;34m=\u001b[0m \u001b[0;34m[\u001b[0m\u001b[0mhooks\u001b[0m\u001b[0;34m]\u001b[0m\u001b[0;34m\u001b[0m\u001b[0m\n\u001b[1;32m     30\u001b[0m         \u001b[0;32mfor\u001b[0m \u001b[0mhook\u001b[0m \u001b[0;32min\u001b[0m \u001b[0mhooks\u001b[0m\u001b[0;34m:\u001b[0m\u001b[0;34m\u001b[0m\u001b[0m\n\u001b[0;32m---> 31\u001b[0;31m             \u001b[0m_hook_data\u001b[0m \u001b[0;34m=\u001b[0m \u001b[0mhook\u001b[0m\u001b[0;34m(\u001b[0m\u001b[0mhook_data\u001b[0m\u001b[0;34m,\u001b[0m \u001b[0;34m**\u001b[0m\u001b[0mkwargs\u001b[0m\u001b[0;34m)\u001b[0m\u001b[0;34m\u001b[0m\u001b[0m\n\u001b[0m\u001b[1;32m     32\u001b[0m             \u001b[0;32mif\u001b[0m \u001b[0m_hook_data\u001b[0m \u001b[0;32mis\u001b[0m \u001b[0;32mnot\u001b[0m \u001b[0;32mNone\u001b[0m\u001b[0;34m:\u001b[0m\u001b[0;34m\u001b[0m\u001b[0m\n\u001b[1;32m     33\u001b[0m                 \u001b[0mhook_data\u001b[0m \u001b[0;34m=\u001b[0m \u001b[0m_hook_data\u001b[0m\u001b[0;34m\u001b[0m\u001b[0m\n",
      "\u001b[0;32m/home/user/Project/test/lib/python3.5/site-packages/uber_rides/utils/handlers.py\u001b[0m in \u001b[0;36merror_handler\u001b[0;34m(response, **kwargs)\u001b[0m\n\u001b[1;32m     58\u001b[0m     \u001b[0merror_message\u001b[0m \u001b[0;34m=\u001b[0m \u001b[0mstr\u001b[0m\u001b[0;34m(\u001b[0m\u001b[0mstatus_code\u001b[0m\u001b[0;34m)\u001b[0m \u001b[0;34m+\u001b[0m \u001b[0;34m': '\u001b[0m \u001b[0;34m+\u001b[0m \u001b[0mmessage\u001b[0m \u001b[0;34m+\u001b[0m \u001b[0;34m' '\u001b[0m \u001b[0;34m+\u001b[0m \u001b[0mstr\u001b[0m\u001b[0;34m(\u001b[0m\u001b[0mfields\u001b[0m\u001b[0;34m)\u001b[0m\u001b[0;34m\u001b[0m\u001b[0m\n\u001b[1;32m     59\u001b[0m     \u001b[0;32mif\u001b[0m \u001b[0;36m400\u001b[0m \u001b[0;34m<=\u001b[0m \u001b[0mstatus_code\u001b[0m \u001b[0;34m<=\u001b[0m \u001b[0;36m499\u001b[0m\u001b[0;34m:\u001b[0m\u001b[0;34m\u001b[0m\u001b[0m\n\u001b[0;32m---> 60\u001b[0;31m         \u001b[0;32mraise\u001b[0m \u001b[0mClientError\u001b[0m\u001b[0;34m(\u001b[0m\u001b[0mresponse\u001b[0m\u001b[0;34m,\u001b[0m \u001b[0merror_message\u001b[0m\u001b[0;34m)\u001b[0m\u001b[0;34m\u001b[0m\u001b[0m\n\u001b[0m\u001b[1;32m     61\u001b[0m \u001b[0;34m\u001b[0m\u001b[0m\n\u001b[1;32m     62\u001b[0m     \u001b[0;32melif\u001b[0m \u001b[0;36m500\u001b[0m \u001b[0;34m<=\u001b[0m \u001b[0mstatus_code\u001b[0m \u001b[0;34m<=\u001b[0m \u001b[0;36m599\u001b[0m\u001b[0;34m:\u001b[0m\u001b[0;34m\u001b[0m\u001b[0m\n",
      "\u001b[0;31mClientError\u001b[0m: 401: Invalid OAuth 2.0 credentials provided. "
     ]
    }
   ],
   "source": [
    "estimate = client.estimate_ride(\n",
    "    product_id=product_id,\n",
    "    start_latitude=12.8390081,\n",
    "    start_longitude=77.6592605,\n",
    "    end_latitude=12.9345,\n",
    "    end_longitude=77.6113,\n",
    "    seat_count=2\n",
    ")\n",
    "fare = estimate.json.get('fare')"
   ]
  },
  {
   "cell_type": "code",
   "execution_count": null,
   "metadata": {
    "collapsed": true
   },
   "outputs": [],
   "source": []
  }
 ],
 "metadata": {
  "kernelspec": {
   "display_name": "Python 3",
   "language": "python",
   "name": "python3"
  },
  "language_info": {
   "codemirror_mode": {
    "name": "ipython",
    "version": 3
   },
   "file_extension": ".py",
   "mimetype": "text/x-python",
   "name": "python",
   "nbconvert_exporter": "python",
   "pygments_lexer": "ipython3",
   "version": "3.5.2"
  }
 },
 "nbformat": 4,
 "nbformat_minor": 2
}
