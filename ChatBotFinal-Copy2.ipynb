{
 "cells": [
  {
   "cell_type": "markdown",
   "metadata": {},
   "source": [
    "## ChatBot"
   ]
  },
  {
   "cell_type": "markdown",
   "metadata": {},
   "source": [
    "# Import Modules #"
   ]
  },
  {
   "cell_type": "code",
   "execution_count": 4,
   "metadata": {
    "collapsed": true
   },
   "outputs": [],
   "source": [
    "import sys\n",
    "import pandas as pd\n",
    "import re\n",
    "import nltk\n",
    "from nltk.tokenize import sent_tokenize, word_tokenize\n",
    "from nltk.corpus import stopwords\n",
    "import random\n",
    "import requests\n",
    "import gmaps\n",
    "from gmaps import Geocoding\n",
    "from random import randint\n",
    "import sklearn.model_selection as m_sel\n",
    "from sklearn.feature_extraction.text import CountVectorizer\n",
    "from sklearn.naive_bayes import MultinomialNB\n",
    "from uber_rides.session import Session\n",
    "from uber_rides.client import UberRidesClient\n",
    "import uber_rides.errors as uber_error\n",
    "\n",
    "\n",
    "session = Session(server_token='gQqt-C_l3O2CSZ0Y2TNjIRJQmSmowvcJPMAOBLoB')\n",
    "client = UberRidesClient(session)"
   ]
  },
  {
   "cell_type": "code",
   "execution_count": 5,
   "metadata": {},
   "outputs": [
    {
     "data": {
      "text/plain": [
       "['',\n",
       " '/home/user/Project/test/lib/python35.zip',\n",
       " '/home/user/Project/test/lib/python3.5',\n",
       " '/home/user/Project/test/lib/python3.5/plat-x86_64-linux-gnu',\n",
       " '/home/user/Project/test/lib/python3.5/lib-dynload',\n",
       " '/usr/lib/python3.5',\n",
       " '/usr/lib/python3.5/plat-x86_64-linux-gnu',\n",
       " '/home/user/Project/test/lib/python3.5/site-packages/lockfile-0.12.2-py3.5.egg',\n",
       " '/home/user/Project/test/lib/python3.5/site-packages/joblib-0.11-py3.5.egg',\n",
       " '/home/user/Project/test/lib/python3.5/site-packages/nose-1.3.7-py3.5.egg',\n",
       " '/home/user/Project/test/lib/python3.5/site-packages',\n",
       " '/home/user/Project/Work/skdata/build/py3k',\n",
       " '/home/user/Project/test/lib/python3.5/site-packages/skdata-0.0.4-py3.5.egg',\n",
       " '/home/user/Project/test/lib/python3.5/site-packages/IPython/extensions',\n",
       " '/home/user/.ipython']"
      ]
     },
     "execution_count": 5,
     "metadata": {},
     "output_type": "execute_result"
    }
   ],
   "source": [
    "sys.path"
   ]
  },
  {
   "cell_type": "markdown",
   "metadata": {},
   "source": [
    "# Random No Generation #"
   ]
  },
  {
   "cell_type": "code",
   "execution_count": 6,
   "metadata": {
    "collapsed": true
   },
   "outputs": [],
   "source": [
    "def random_with_N_digits(n):\n",
    "    range_start = 10**(n-1)\n",
    "    range_end = (10**n)-1\n",
    "    return randint(range_start, range_end)"
   ]
  },
  {
   "cell_type": "markdown",
   "metadata": {},
   "source": [
    "# Brill Tagger #"
   ]
  },
  {
   "cell_type": "code",
   "execution_count": 7,
   "metadata": {},
   "outputs": [
    {
     "name": "stdout",
     "output_type": "stream",
     "text": [
      "TBL train (fast) (seqs: 45; tokens: 431; tpls: 18; min score: 2; min acc: None)\n",
      "Finding initial useful rules...\n",
      "    Found 974 useful rules.\n",
      "\n",
      "           B      |\n",
      "   S   F   r   O  |        Score = Fixed - Broken\n",
      "   c   i   o   t  |  R     Fixed = num tags changed incorrect -> correct\n",
      "   o   x   k   h  |  u     Broken = num tags changed correct -> incorrect\n",
      "   r   e   e   e  |  l     Other = num tags changed incorrect -> incorrect\n",
      "   e   d   n   r  |  e\n",
      "------------------+-------------------------------------------------------\n",
      "  27  32   5   3  | VB->NNP if Pos:TO@[-1]\n",
      "  13  15   2   1  | NN->NNP if Pos:,@[1]\n",
      "   8   9   1   5  | JJ->NN if Pos:IN@[-3,-2,-1]\n",
      "   8   8   0   0  | IN->NN if Word:hsr@[-1]\n",
      "   6   6   0   0  | RB->NNP if Pos:,@[-1]\n",
      "   5   5   0   0  | PRP->NN if Pos:VBP@[1]\n",
      "   4   4   0   0  | IN->NNP if Pos:,@[-1]\n",
      "   4   4   0   0  | NN->NNP if Pos:,@[1]\n",
      "   4   4   0   1  | JJ->NNP if Pos:TO@[-3,-2,-1]\n",
      "   4   4   0   0  | NN->NNP if Word:stackroute@[-2]\n"
     ]
    }
   ],
   "source": [
    "from nltk.wsd import lesk\n",
    "import nltk\n",
    "from nltk.tokenize import sent_tokenize,word_tokenize\n",
    "import tkinter\n",
    "from nltk.tag import brill, brill_trainer\n",
    "from nltk.tag.brill_trainer import BrillTaggerTrainer\n",
    "from nltk.data import load\n",
    "from nltk.corpus.reader import TaggedCorpusReader\n",
    "\n",
    "train_data = TaggedCorpusReader('.', 'tagged_input_sentences.txt', sep=\"/\")\n",
    "traindata= list(train_data.tagged_sents())\n",
    "postag= load('taggers/maxent_treebank_pos_tagger/english.pickle')\n",
    "templates = [\n",
    "        brill.Template(brill.Pos([-1])),\n",
    "        brill.Template(brill.Pos([1])),\n",
    "        brill.Template(brill.Pos([-2])),\n",
    "        brill.Template(brill.Pos([2])),\n",
    "        brill.Template(brill.Pos([-2, -1])),\n",
    "        brill.Template(brill.Pos([1, 2])),\n",
    "        brill.Template(brill.Pos([-3, -2, -1])),\n",
    "        brill.Template(brill.Pos([1, 2, 3])),\n",
    "        brill.Template(brill.Pos([-1]), brill.Pos([1])),\n",
    "        brill.Template(brill.Word([-1])),\n",
    "        brill.Template(brill.Word([1])),\n",
    "        brill.Template(brill.Word([-2])),\n",
    "        brill.Template(brill.Word([2])),\n",
    "        brill.Template(brill.Word([-2, -1])),\n",
    "        brill.Template(brill.Word([1, 2])),\n",
    "        brill.Template(brill.Word([-3, -2, -1])),\n",
    "        brill.Template(brill.Word([1, 2, 3])),\n",
    "        brill.Template(brill.Word([-1]), brill.Word([1]))]        \n",
    "trainer = BrillTaggerTrainer(postag, templates = templates, trace = 3)\n",
    "brill_tagger = trainer.train(traindata, max_rules = 10)"
   ]
  },
  {
   "cell_type": "markdown",
   "metadata": {},
   "source": [
    "# Source and Destination Extraction From Sentence # "
   ]
  },
  {
   "cell_type": "code",
   "execution_count": 8,
   "metadata": {
    "collapsed": true
   },
   "outputs": [],
   "source": [
    "def extract_location(inp):\n",
    "    tagged = brill_tagger.tag(word_tokenize(inp))\n",
    "    source = None\n",
    "    destination = None\n",
    "    chunkGram = \"\"\"Source: {<IN>(<NN.*><,>?)+}\"\"\"\n",
    "    chunkParser = nltk.RegexpParser(chunkGram)\n",
    "    chunked = chunkParser.parse(tagged)\n",
    "    for subtree in chunked.subtrees(filter=lambda t: t.label() == 'Source'):\n",
    "        source = ' '.join(list(zip(*subtree))[0][1:]) \n",
    "    \n",
    "    chunkGram = \"\"\"Destination: {<TO>(<NN.*><,>?)+}\"\"\"\n",
    "    chunkParser = nltk.RegexpParser(chunkGram)\n",
    "    chunked = chunkParser.parse(tagged)\n",
    "    for subtree in chunked.subtrees(filter=lambda t: t.label() == 'Destination'):\n",
    "        destination = ' '.join(list(zip(*subtree))[0][1:]) \n",
    "    return source, destination"
   ]
  },
  {
   "cell_type": "markdown",
   "metadata": {},
   "source": [
    "# Training Intent Mapper #"
   ]
  },
  {
   "cell_type": "code",
   "execution_count": 11,
   "metadata": {},
   "outputs": [],
   "source": [
    "nb_naive, vect = train_intent_mapper()"
   ]
  },
  {
   "cell_type": "code",
   "execution_count": 143,
   "metadata": {},
   "outputs": [
    {
     "ename": "ValueError",
     "evalue": "Iterable over raw text documents expected, string object received.",
     "output_type": "error",
     "traceback": [
      "\u001b[0;31m---------------------------------------------------------------------------\u001b[0m",
      "\u001b[0;31mValueError\u001b[0m                                Traceback (most recent call last)",
      "\u001b[0;32m<ipython-input-143-d00d728f3b75>\u001b[0m in \u001b[0;36m<module>\u001b[0;34m()\u001b[0m\n\u001b[0;32m----> 1\u001b[0;31m \u001b[0mv\u001b[0m \u001b[0;34m=\u001b[0m \u001b[0mvect\u001b[0m\u001b[0;34m.\u001b[0m\u001b[0mtransform\u001b[0m\u001b[0;34m(\u001b[0m\u001b[0;34m\"ShreeVasta\"\u001b[0m\u001b[0;34m)\u001b[0m\u001b[0;34m\u001b[0m\u001b[0m\n\u001b[0m",
      "\u001b[0;32m/home/user/Project/test/lib/python3.5/site-packages/sklearn/feature_extraction/text.py\u001b[0m in \u001b[0;36mtransform\u001b[0;34m(self, raw_documents)\u001b[0m\n\u001b[1;32m    882\u001b[0m         \u001b[0;32mif\u001b[0m \u001b[0misinstance\u001b[0m\u001b[0;34m(\u001b[0m\u001b[0mraw_documents\u001b[0m\u001b[0;34m,\u001b[0m \u001b[0msix\u001b[0m\u001b[0;34m.\u001b[0m\u001b[0mstring_types\u001b[0m\u001b[0;34m)\u001b[0m\u001b[0;34m:\u001b[0m\u001b[0;34m\u001b[0m\u001b[0m\n\u001b[1;32m    883\u001b[0m             raise ValueError(\n\u001b[0;32m--> 884\u001b[0;31m                 \u001b[0;34m\"Iterable over raw text documents expected, \"\u001b[0m\u001b[0;34m\u001b[0m\u001b[0m\n\u001b[0m\u001b[1;32m    885\u001b[0m                 \"string object received.\")\n\u001b[1;32m    886\u001b[0m \u001b[0;34m\u001b[0m\u001b[0m\n",
      "\u001b[0;31mValueError\u001b[0m: Iterable over raw text documents expected, string object received."
     ]
    }
   ],
   "source": [
    "v = vect.transform(\"ShreeVasta\")"
   ]
  },
  {
   "cell_type": "code",
   "execution_count": 142,
   "metadata": {},
   "outputs": [
    {
     "data": {
      "text/plain": [
       "[]"
      ]
     },
     "execution_count": 142,
     "metadata": {},
     "output_type": "execute_result"
    }
   ],
   "source": [
    "list(v.data)"
   ]
  },
  {
   "cell_type": "code",
   "execution_count": 10,
   "metadata": {},
   "outputs": [],
   "source": [
    "def train_intent_mapper():\n",
    "    cab_bot_data_df=pd.read_csv('cab_bot_data.csv')\n",
    "    cab_bot_data_df['Category_label'] = cab_bot_data_df.Category.map({'Greetings':1, \n",
    "                                        'Look':2, 'Book':3, 'Fare_Estimation':4,'Cancel':5, 'Duration':6})\n",
    "    X = cab_bot_data_df.Questions\n",
    "    y = cab_bot_data_df.Category_label\n",
    "    X_train,X_test,Y_train,Y_test = m_sel.train_test_split(X,y,test_size=0.30,random_state=30)\n",
    "    vect = CountVectorizer()\n",
    "    vect.fit(X_train)\n",
    "    X_train_dtm = vect.transform(X_train)\n",
    "    nb = MultinomialNB()\n",
    "    nb.fit(X_train_dtm, Y_train)\n",
    "    return (nb,vect)\n",
    "    #nb_naive, vect = train_intent_mapper()"
   ]
  },
  {
   "cell_type": "markdown",
   "metadata": {},
   "source": [
    "# Function For Finding Intent Of a Question #"
   ]
  },
  {
   "cell_type": "code",
   "execution_count": 7,
   "metadata": {
    "collapsed": true
   },
   "outputs": [],
   "source": [
    "def find_intent(text,multinomial_nb,vect):\n",
    "    category = ['Greetings','Look','Book','Fare_Estimation',\n",
    "                'Cancel','Duration']\n",
    "    txt_l=[text]\n",
    "    vect_text = vect.transform(txt_l)\n",
    "    predict_value = multinomial_nb.predict(vect_text)\n",
    "    predict_val=int(predict_value)\n",
    "    intent = category[predict_val-1]\n",
    "    return intent.lower() "
   ]
  },
  {
   "cell_type": "markdown",
   "metadata": {},
   "source": [
    "# Function For Cab Details As Data Frame #"
   ]
  },
  {
   "cell_type": "code",
   "execution_count": 8,
   "metadata": {
    "collapsed": true
   },
   "outputs": [],
   "source": [
    "def uber_cab_details(cab_dict):\n",
    "    columns = ['Car type', 'Availability', 'Distance(Km)', 'Minimum Price', 'Maximum Price', 'ETA(min)' ]\n",
    "    index=list(range(len(cab_dict['prices'])))\n",
    "    df = pd.DataFrame(index=index, columns=columns)\n",
    "    for i in index:\n",
    "        df.loc[i,'Car type'] = cab_dict['prices'][i]['display_name']\n",
    "        df.loc[i,'Availability'] = \"Yes\"\n",
    "        df.loc[i,'Distance(Km)'] = cab_dict['prices'][i]['distance']\n",
    "        df.loc[i,'Minimum Price'] = cab_dict['prices'][i]['low_estimate']\n",
    "        df.loc[i,'Maximum Price'] = cab_dict['prices'][i]['high_estimate']\n",
    "        df.loc[i,'ETA(min)'] = int(cab_dict['prices'][i]['duration']/100)\n",
    "    df['Car type']= df['Car type'].str.lower()    \n",
    "    return df      "
   ]
  },
  {
   "cell_type": "markdown",
   "metadata": {},
   "source": [
    "# Function For Cab Booking #"
   ]
  },
  {
   "cell_type": "code",
   "execution_count": 9,
   "metadata": {
    "collapsed": true
   },
   "outputs": [],
   "source": [
    "def book_uber(source, destination, cabtype, noofseats,response_avail_df, SessInfo):\n",
    "    df = response_avail_df\n",
    "    driver_name=[\"Tharoon Veerasethu\",\"Sharmaji\",\"Chachaji\",\"Chunnu\",\"Munni\",\"beta\",\"daadaji\",\"daadi\",\"bhai\",\"shinde\",\"langoor\"]\n",
    "    for i in range(df.shape[0]):\n",
    "        x=list(df.loc[i])\n",
    "        if cabtype in x:\n",
    "            for j in x:\n",
    "                if j == cabtype and df.loc[i,'Availability']=='Yes':\n",
    "                    SessInfo['bookingid']=\"UBER\"+str(random_with_N_digits(6))\n",
    "                    SessInfo['drivername']=random.choice(driver_name)\n",
    "                    SessInfo['driverno']=random_with_N_digits(10)\n",
    "                    SessInfo['carno']=\"KN-\"+str(random_with_N_digits(2))+\"-\"+str(random_with_N_digits(4))\n",
    "                    SessInfo['fare']=(df.loc[i,'Minimum Price']+df.loc[i,'Maximum Price'])/2\n",
    "                    SessInfo['cabtype']=cabtype\n",
    "                    #SessInfo['noofseats']=noofseats\n",
    "                    SessInfo['eta']=df.loc[i,'ETA(min)'] \n",
    "                    SessInfo['distance']=df.loc[i,'Distance(Km)']\n",
    "                    SessInfo['booked'] = True\n",
    "                    break"
   ]
  },
  {
   "cell_type": "markdown",
   "metadata": {},
   "source": [
    "# Function For Looking Cab #"
   ]
  },
  {
   "cell_type": "code",
   "execution_count": 10,
   "metadata": {},
   "outputs": [],
   "source": [
    "# when looking for a cab pass seatcount as 1\n",
    "# when booking a cab pass the exact seat count required\n",
    "def look_uber(SessInfo, source, destination=None):\n",
    "    api = Geocoding() \n",
    "    try:\n",
    "        source_loc = api.geocode(source)\n",
    "        source_lat_long = source_loc[0]['geometry']['location']\n",
    "        start_lat = source_lat_long['lat']\n",
    "        start_lng = source_lat_long['lng']\n",
    "    except:\n",
    "        print('Sorry the source you have provided is not valid.\\n')\n",
    "        print('Please let me know if you want to know anything more')\n",
    "        SessInfo = dict()\n",
    "        return pd.DataFrame({})\n",
    "    \n",
    "    \n",
    "    if destination : \n",
    "        try:\n",
    "            destination_loc = api.geocode(destination)\n",
    "            destination_lat_long = destination_loc[0]['geometry']['location']\n",
    "            end_lat=destination_lat_long['lat']\n",
    "            end_lng=destination_lat_long['lng']\n",
    "\n",
    "        except:\n",
    "            print('Sorry the source you have provided is not valid.\\n')\n",
    "            print('Please let me know if you want to know anything more')\n",
    "            SessInfo = dict()\n",
    "            return pd.DataFrame({})\n",
    "        \n",
    "    else:\n",
    "        end_lat=12.9173312 # latitude of Central Silk Board\n",
    "        end_lng=77.6212483 # longitude of Central Silk Board\n",
    "    try:\n",
    "        response = client.get_price_estimates(\n",
    "            start_latitude=start_lat,\n",
    "            start_longitude=start_lng,\n",
    "            end_latitude=end_lat,\n",
    "            end_longitude=end_lng,\n",
    "            seat_count=2\n",
    "            )    \n",
    "\n",
    "        estimate = response.json \n",
    "        cab_details_df= uber_cab_details(estimate)\n",
    "        cab_details_df.fillna(0, axis=1, inplace=True)\n",
    "        #print('Following are the cabs availability\\n')\n",
    "        #print(cab_details_df)\n",
    "        return cab_details_df\n",
    "    except uber_error.ClientError as e:\n",
    "        print('Sorry please check the location details provided\\n')\n",
    "        print('Please let me know if you want to know anything more')\n",
    "        SessInfo = dict()\n",
    "        return pd.DataFrame({})\n",
    "    "
   ]
  },
  {
   "cell_type": "markdown",
   "metadata": {},
   "source": [
    "# Storing Information #"
   ]
  },
  {
   "cell_type": "code",
   "execution_count": 11,
   "metadata": {
    "collapsed": true
   },
   "outputs": [],
   "source": [
    "def storing_info(inp, intent, SessInfo):\n",
    "    if intent == 'greetings':\n",
    "        match1 = re.search('\\\\bhi|hello|hey\\\\b', inp)\n",
    "        match2 = re.search('\\\\good\\smorning|good\\sevening|good\\snight\\\\b', inp)\n",
    "        SessInfo['greet1'] = -1\n",
    "        SessInfo['greet2'] = -1\n",
    "        if match1 : SessInfo['greet1'] = match1.group()\n",
    "        if match2 : SessInfo['greet2'] = match2.group()    \n",
    "        \n",
    "    if intent == 'book' or intent == 'look':\n",
    "    ### look for name entity and of 2 location are ther ethen look for from and \n",
    "    ### to and just store the one tagged with gpe\n",
    "        source , destination = extract_location(inp)\n",
    "        \n",
    "        #print('am in storing')\n",
    "        #print(source, destination)\n",
    "        \n",
    "        if source and destination:\n",
    "            #print('both')\n",
    "            SessInfo['source'] = source\n",
    "            SessInfo['destination'] = destination\n",
    "                        \n",
    "        elif destination:\n",
    "            #print('matched field is destination')\n",
    "            '''check these updates'''\n",
    "            SessInfo['destination'] = destination\n",
    "            if 'source' in SessInfo: \n",
    "                #print('am here')\n",
    "                del SessInfo['source']\n",
    "        elif source:\n",
    "            #print('matched field is source')\n",
    "            SessInfo['source'] = source\n",
    "            '''check these updates'''\n",
    "            if 'destination' in SessInfo: del SessInfo['destination']\n",
    "            \n",
    "        cab_types = ['uberpool','ubergo','uberx', 'uberxl']\n",
    "        for cab in cab_types:\n",
    "            if cab in inp:\n",
    "                SessInfo['cab_type_user'] = cab         "
   ]
  },
  {
   "cell_type": "markdown",
   "metadata": {},
   "source": [
    "# To Check If Source and Destination Field Is There Or Not #"
   ]
  },
  {
   "cell_type": "code",
   "execution_count": 12,
   "metadata": {
    "collapsed": true
   },
   "outputs": [],
   "source": [
    "def handle_require_field(intent):\n",
    "    ### keys needed for booking \n",
    "    if intent== 'book': requiredKey = ['source','destination']\n",
    "    elif intent == 'look' : requiredKey = ['source']\n",
    "    if SessInfo['almost_book'] == True : requiredKey.append('cab_type_user')\n",
    "    \n",
    "    ### storing missing key require to complete booking\n",
    "    notAvail = []\n",
    "    print(requiredKey)\n",
    "    for key in requiredKey:\n",
    "        if key not in SessInfo:\n",
    "            notAvail.append(key)\n",
    "    ### we can set flag and ask for all the keys simuntaneously\n",
    "    if(len(notAvail)!=0):\n",
    "        c = ['We need some details, please provide \\n', 'Please provide the following details to proceed:\\n', 'Can you give these details\\n', 'We require more details, tell us about\\n', 'Can you help us with some more details\\n']\n",
    "        print(random.choice(c))\n",
    "        for key in notAvail:\n",
    "            if key == 'cab_type_user':\n",
    "                print(key)\n",
    "                SessInfo[key] = input() \n",
    "                print('No of Seats')\n",
    "                SessInfo['noofseats']=input()\n",
    "            else:\n",
    "                print(key)\n",
    "                SessInfo[key] = input()"
   ]
  },
  {
   "cell_type": "markdown",
   "metadata": {},
   "source": [
    "# Confirming Source Destination #"
   ]
  },
  {
   "cell_type": "code",
   "execution_count": 13,
   "metadata": {
    "collapsed": true
   },
   "outputs": [],
   "source": [
    "def confirm_src_destination1():\n",
    "    y = ['Please Wait', 'Almost Done', 'Multiply 23*87 while we work on it', ' Add 323+23+456, lets see who is fast', 'Your Service is almost done', ' Count 5 4 3 2 1' ]\n",
    "    v = ['Please confirm your source {} {} is correct. Type\\'Ok\\'', 'Your details are {} {}. Type OK if it is correct', ' Your Source and Destination are {} {}. Type OK to confirm', ' Following are your details {} {}, Type OK to procced', 'Your Booking Source and Destinations are {} {}, Type OK to procced']\n",
    "    print(random.choice(v).format(SessInfo.get('source',''),'and destination '+SessInfo['destination'] if 'destination' in SessInfo else '' ))\n",
    "    confirm_inp = input()\n",
    "    if confirm_inp.lower() == 'ok':\n",
    "        print(random.choice(y)+'\\n')\n",
    "        if 'destination' in SessInfo: SessInfo['almost_book']= True\n",
    "    else:\n",
    "        print('want to update source and destination. Reply with Yes')\n",
    "        if input()=='yes':\n",
    "            print('Sorry Provide the info again')\n",
    "            if 'source' in SessInfo:\n",
    "                print('source: ')\n",
    "                SessInfo['source'] = input()\n",
    "            if 'destination' in SessInfo:\n",
    "                print('destination: ')\n",
    "                SessInfo['destination'] = input()\n",
    "            if 'destination' in SessInfo : SessInfo['almost_book']= True\n",
    "        else:\n",
    "            print('Lets have a fresh start')\n",
    "            if 'destination' in SessInfo: del SessInfo['destination']\n",
    "            if 'source' in SessInfo: del SessInfo['source']\n",
    "            return"
   ]
  },
  {
   "cell_type": "code",
   "execution_count": 14,
   "metadata": {
    "collapsed": true
   },
   "outputs": [],
   "source": [
    "def confirm_src_destination():\n",
    "    api = Geocoding()\n",
    "    try:\n",
    "        source_loc = api.geocode(SessInfo.get('source',''))\n",
    "        src_list = (source_loc[0]['formatted_address'].split(',')[:2])\n",
    "        src = SessInfo.get('source','') + ' ' + ''.join(src_list)\n",
    "    except:\n",
    "        return \"The source you provided is invalid.\"\n",
    "    \n",
    "    if 'destination' in SessInfo:\n",
    "        \n",
    "        try:\n",
    "            dest_loc = api.geocode(SessInfo.get('destination',''))\n",
    "            dest_list = (dest_loc[0]['formatted_address'].split(',')[:2])\n",
    "            dest = ''.join(dest_list)\n",
    "        except:\n",
    "            return \"The source you provided is invalid.\"\n",
    "    \n",
    "    \n",
    "    \n",
    "    v = ['Please confirm your source {} {} is correct. Type\\'Ok\\'', 'Your details are {} {}. Type OK if it is correct', ' Your Source and Destination are {} {}. Type OK to confirm', ' Following are your details {} {}, Type OK to procced', 'Your Booking Source and Destinations are {} {}, Type OK to procced']\n",
    "    print(random.choice(v).format(src,'and destination '+ dest if 'destination' in SessInfo else ''))\n",
    "    confirm_inp = input()\n",
    "    if confirm_inp.lower() == 'ok':\n",
    "        if 'destination' in SessInfo: SessInfo['almost_book']= True\n",
    "    else:\n",
    "        print('want to update source and destination. Reply with Yes')\n",
    "        if input()=='yes':\n",
    "            print('Sorry Provide the info again')\n",
    "            if 'source' in SessInfo:\n",
    "                print('source: ')\n",
    "                SessInfo['source'] = input()\n",
    "            if 'destination' in SessInfo:\n",
    "                print('destination: ')\n",
    "                SessInfo['destination'] = input()\n",
    "            if 'destination' in SessInfo : SessInfo['almost_book']= True\n",
    "        else:\n",
    "            print('Lets have a fresh start')\n",
    "            if 'destination' in SessInfo: del SessInfo['destination']\n",
    "            if 'source' in SessInfo: del SessInfo['source']\n",
    "            return\n"
   ]
  },
  {
   "cell_type": "markdown",
   "metadata": {},
   "source": [
    "# Function For Generating Response #"
   ]
  },
  {
   "cell_type": "code",
   "execution_count": 16,
   "metadata": {},
   "outputs": [
    {
     "ename": "IndentationError",
     "evalue": "unexpected indent (<ipython-input-16-3c52119eebe3>, line 4)",
     "output_type": "error",
     "traceback": [
      "\u001b[0;36m  File \u001b[0;32m\"<ipython-input-16-3c52119eebe3>\"\u001b[0;36m, line \u001b[0;32m4\u001b[0m\n\u001b[0;31m    if intent == 'look' :\u001b[0m\n\u001b[0m    ^\u001b[0m\n\u001b[0;31mIndentationError\u001b[0m\u001b[0;31m:\u001b[0m unexpected indent\n"
     ]
    }
   ],
   "source": [
    "def generating_response(self, inp, intent):\n",
    "    handle_require_field(intent)\n",
    "    #y = ['Please Wait', 'Almost Done', 'Multiply 23*87 while we work on it', ' Add 323+23+456, lets see who is fast', 'Your Service is almost done', ' Count 5 4 3 2 1' ]\n",
    "    resp = \"\"\n",
    "    if intent == 'look' :        \n",
    "        resp = resp + 'Looking for a cab from {} {}'.format(self.SessionInfo.get('source',''),'to '+self.SessionInfo['destination'] if 'destination' in self.SessionInfo else '' )\n",
    "        resp = resp + '\\n' + look_uber(self, self.SessionInfo['source'],self.SessionInfo['destination'])\n",
    "        ####resp=resp+\\n+look_uber()\n",
    "    \n",
    "    elif intent == 'book' and self.booked == False:\n",
    "        \n",
    "        #### book function           \n",
    "        resp = resp + 'Looking for a cab from {} {}'.format(self.SessionInfo.get('source',''),'to '+self.SessionInfo['destination'] if 'destination' in self.SessionInfo else '' )\n",
    "        resp = resp + '\\n' + look_uber(self, self.SessionInfo['source'],self.SessionInfo['destination'])\n",
    "        ####resp=resp+\\n+look_uber()\n",
    "        resp = resp + '\\n' + book_uber(self, self.SessionInfo['source'], self.SessionInfo['destination'], self.cab_types, self.SessionInfo.get('noofseats',2))       \n",
    "\n",
    "    elif intent == 'book' and self.booked == True :\n",
    "            resp = 'You have already booked a cab with booking id '+ str(self.SessionInfo['bookingid'])\n",
    "            resp = resp + '\\n' + 'We dont provide multiple booking'\n",
    "        \n",
    "    '''elif intent == 'duration' :\n",
    "        x1=['Looking for estimated time of arrival \\n',' Please wait! while we look for Estimated Time of arrival of your cab \\n','We are looking for estimated time of arrival\\n' ]\n",
    "        if 'bookingid' in SessInfo:\n",
    "            print(random.choice(x1))\n",
    "            print('The estimated time of arrival of your cab '+str(SessInfo['cabtype'])+' with booking id '+str(SessInfo['bookingid']) +' is '+str(SessInfo['eta'])+'\\n')\n",
    "        else:\n",
    "            print(\"Sorry Sir, you haven't booked any cabs as of now\")\n",
    "            print(\"Please book a cab inorder to know the expected time of arrival\")\n",
    "            print('Please let me know if you want to know anything more')\n",
    "\n",
    "\n",
    "    elif intent == 'fare_estimation':\n",
    "            x2=['Looking for estimated fare \\n',' Please wait! while we look for Estimated Fare \\n','We are looking for estimated fare\\n' ]\n",
    "            z2= ['Following are your results\\n', 'We find something for you\\n', ' Have a look at the following options\\n']\n",
    "            if ('estimated' in inp) and ('bookingid' in list(SessInfo.keys())) and ('from' not in inp) and ('to' not in inp):\n",
    "                print(random.choice(x2))\n",
    "                print(random.choice(z2))\n",
    "                print('The estimated fare of your cab '+str(SessInfo['cabtype'])+' with booking id '+str(SessInfo['bookingid']) +' is '+str(SessInfo['fare'])+'\\n')\n",
    "            elif (('estimated' in inp) and ('from' in inp) and ('to' in inp)) or (('from' in inp) and ('to' in inp)):\n",
    "                src, dest=extract_location(inp)\n",
    "                df = look_uber(SessInfo,src, dest)\n",
    "                if not df.empty :\n",
    "                    print(random.choice(x2))\n",
    "                    print(random.choice(z2))\n",
    "                    print(\"Following are the available cabs and their Minimum and Maximum price\")\n",
    "                    print(df[['Car type','Minimum Price','Maximum Price']])\n",
    "            else:\n",
    "                print(\"Sorry Sir, you haven't booked any cabs as of now\")\n",
    "                print(\"Please book a cab or give proper source and destination inorder to know the Minimum and Maximum price\")\n",
    "                print('Please let me know if you want to know anything more')        \n",
    "\n",
    "\n",
    "    elif intent == 'cancel':\n",
    "        print('Are you sure that you want to cancel the cab Yes/No')\n",
    "        decision=input().lower()\n",
    "        if decision == 'yes':\n",
    "            print('Your cab '+str(SessInfo['cabtype'])+' with booking id '+str(SessInfo['bookingid']) +' is cancelled')\n",
    "            print(\"SessInfo before cancelation \",SessInfo)\n",
    "            SessInfo=None\n",
    "            print(\"SessInfo after cancelation \",SessInfo)\n",
    "        elif decision == 'no':\n",
    "            print('Your cab is not cancelled')\n",
    "            print('Please let me know if you want to know anything more')'''\n",
    "                \n",
    "        #elif intent == 'schedule':   \n",
    "    "
   ]
  },
  {
   "cell_type": "markdown",
   "metadata": {},
   "source": [
    "# BOT Function #"
   ]
  },
  {
   "cell_type": "code",
   "execution_count": 16,
   "metadata": {},
   "outputs": [
    {
     "name": "stdout",
     "output_type": "stream",
     "text": [
      "book a cab from wipro sarjapur\n",
      "INTENT____________ book\n",
      "['source', 'destination']\n",
      "We need some details, please provide \n",
      "\n",
      "destination\n",
      "koramangala\n",
      "Your details are wipro sarjapur Doddakannelli Sarjapur Road and destination Koramangala Bengaluru. Type OK if it is correct\n",
      "OK\n",
      "   Car type Availability  Distance(Km)  Minimum Price  Maximum Price  ETA(min)\n",
      "0  uberpool          Yes          4.38           70.0           88.0        11\n",
      "1    ubergo          Yes          4.38          111.0          137.0        11\n",
      "2     uberx          Yes          4.38          125.0          154.0        11\n",
      "3    uberxl          Yes          4.38          201.0          247.0        11\n",
      "['source', 'destination', 'cab_type_user']\n",
      "Can you help us with some more details\n",
      "\n",
      "cab_type_user\n",
      "exit\n",
      "No of Seats\n",
      "3\n",
      "Sorry exit not available. Please provide correct response with booking confirmation, if you want to book \n",
      "\n",
      "exit\n",
      "Thank You\n"
     ]
    }
   ],
   "source": [
    "    \n",
    "### storing important info\n",
    "SessInfo = dict() ## refreesh dictionary when user work is completed\n",
    "SessInfo['almost_book'] = False\n",
    "SessInfo['booked'] = False\n",
    "nb_naive, vect = train_intent_mapper()\n",
    "#already_looked = False\n",
    "def respond(query):    \n",
    "    inp = query.lower()\n",
    "    intent = find_intent(inp, nb_naive, vect)\n",
    "    storing_info(inp, intent, SessInfo)\n",
    "    generating_response(inp, intent, SessInfo)            "
   ]
  },
  {
   "cell_type": "code",
   "execution_count": 179,
   "metadata": {},
   "outputs": [],
   "source": [
    "class KabBot:\n",
    "    \n",
    "    def __init__(self):\n",
    "        self.SessionInfo = {\n",
    "            \"source\": None,\n",
    "            \"destination\": None,\n",
    "            \"intent\": None\n",
    "        }\n",
    "        self.nb_naive, self.vect = self.train_intent_mapper()\n",
    "        self.brill_tagger = self.get_brill_tagger()\n",
    "        \n",
    "    def get_brill_tagger(self):\n",
    "        train_data = TaggedCorpusReader('.', 'tagged_input_sentences.txt', sep=\"/\")\n",
    "        traindata= list(train_data.tagged_sents())\n",
    "        postag= load('taggers/maxent_treebank_pos_tagger/english.pickle')\n",
    "        templates = [\n",
    "                brill.Template(brill.Pos([-1])),\n",
    "                brill.Template(brill.Pos([1])),\n",
    "                brill.Template(brill.Pos([-2])),\n",
    "                brill.Template(brill.Pos([2])),\n",
    "                brill.Template(brill.Pos([-2, -1])),\n",
    "                brill.Template(brill.Pos([1, 2])),\n",
    "                brill.Template(brill.Pos([-3, -2, -1])),\n",
    "                brill.Template(brill.Pos([1, 2, 3])),\n",
    "                brill.Template(brill.Pos([-1]), brill.Pos([1])),\n",
    "                brill.Template(brill.Word([-1])),\n",
    "                brill.Template(brill.Word([1])),\n",
    "                brill.Template(brill.Word([-2])),\n",
    "                brill.Template(brill.Word([2])),\n",
    "                brill.Template(brill.Word([-2, -1])),\n",
    "                brill.Template(brill.Word([1, 2])),\n",
    "                brill.Template(brill.Word([-3, -2, -1])),\n",
    "                brill.Template(brill.Word([1, 2, 3])),\n",
    "                brill.Template(brill.Word([-1]), brill.Word([1]))]        \n",
    "        trainer = BrillTaggerTrainer(postag, templates = templates, trace = 3)\n",
    "        brill_tagger = trainer.train(traindata, max_rules = 10)\n",
    "        return brill_tagger\n",
    "    \n",
    "    def train_intent_mapper(self):\n",
    "        cab_bot_data_df = pd.read_csv('cab_bot_data.csv')\n",
    "        cab_bot_data_df['Category_label'] = cab_bot_data_df.Category.map({'Greetings':1, \n",
    "                                            'Look':2, 'Book':3, 'Fare_Estimation':4,'Cancel':5, 'Duration':6})\n",
    "        X = cab_bot_data_df.Questions\n",
    "        y = cab_bot_data_df.Category_label\n",
    "        X_train,X_test,Y_train,Y_test = m_sel.train_test_split(X,y,test_size=0.30,random_state=30)\n",
    "        vect = CountVectorizer()\n",
    "        vect.fit(X_train)        \n",
    "        X_train_dtm = vect.transform(X_train)\n",
    "        nb = MultinomialNB()\n",
    "        nb.fit(X_train_dtm, Y_train)\n",
    "        return (nb, vect)\n",
    "    \n",
    "    def find_intent(self, text):\n",
    "        category = ['Greetings','Look','Book','Fare_Estimation',\n",
    "                    'Cancel','Duration']\n",
    "        txt_l = [text]\n",
    "        vect_text = self.vect.transform(txt_l)\n",
    "        intent = None\n",
    "        if len(list(vect_text.data)) != 0:\n",
    "            predict_value = self.nb_naive.predict(vect_text)\n",
    "            predict_val = int(predict_value)\n",
    "            intent = category[predict_val-1].lower()\n",
    "        return intent\n",
    "    \n",
    "    def extract_location(self, inp):\n",
    "        tagged = self.brill_tagger.tag(word_tokenize(inp))\n",
    "        chunkGram = \"\"\"Source: {<IN>(<NN.*><,>?)+}\"\"\"\n",
    "        chunkParser = nltk.RegexpParser(chunkGram)\n",
    "        chunked = chunkParser.parse(tagged)\n",
    "        for subtree in chunked.subtrees(filter=lambda t: t.label() == 'Source'):\n",
    "            self.SessionInfo[\"source\"] = ' '.join(list(zip(*subtree))[0][1:]) \n",
    "\n",
    "        chunkGram = \"\"\"Destination: {<TO>(<NN.*><,>?)+}\"\"\"\n",
    "        chunkParser = nltk.RegexpParser(chunkGram)\n",
    "        chunked = chunkParser.parse(tagged)\n",
    "        for subtree in chunked.subtrees(filter=lambda t: t.label() == 'Destination'):\n",
    "            self.SessionInfo[\"destination\"] = ' '.join(list(zip(*subtree))[0][1:]) \n",
    "        \n",
    "        return self.SessionInfo[\"source\"], self.SessionInfo[\"destination\"]\n",
    "        \n",
    "    def storing_info(self, inp, intent):\n",
    "        if intent == 'book' or intent == 'look':\n",
    "            self.extract_location(inp)\n",
    "            cab_types = ['uberpool','ubergo','uberx', 'uberxl']\n",
    "            self.cab_types = 'ubergo'\n",
    "            for cab in cab_types: \n",
    "                if cab in inp: self.cab_types = inp\n",
    "        \n",
    "    def handle_require_field(self, intent):\n",
    "        requiredKey = ['source','destination']\n",
    "        notAvail = []\n",
    "        resp = ''\n",
    "        boolean = True\n",
    "        for key in requiredKey:\n",
    "            if self.SessionInfo[key] == None: \n",
    "                notAvail.append(key)\n",
    "        print(notAvail,len(notAvail))        \n",
    "        if(len(notAvail)!=0):\n",
    "            boolean = False\n",
    "            resp = 'Please provide all the necessary details'\n",
    "            if(len(notAvail)==2):\n",
    "                resp = 'You have not provided any source and destination.'\n",
    "        return resp, boolean\n",
    "    \n",
    "    def cab_details(self):\n",
    "        driver_name = random.choice([\"Driver1\", \"Sharmaji\", \"Chachaji\", \"Chunnu\", \"Munni\", \"beta\", \"daadaji\", \"daadi\", \"bhai\", \"shinde\"])\n",
    "        cab_no = 'KA-' + str(random_with_N_digits(2)) + '-AT-' + str(random_with_N_digits(4))\n",
    "        driver_rating = str(random.choice([3.5, 3.8, 4.0, 4.2, 4.4, 4.5, 4.8, 5]))\n",
    "        mobile_number = random.choice(['8876','9888','8054','7077']) + str(random_with_N_digits(6))\n",
    "        return 'Uber driver '+ driver_name + ' with mobile no. '+ mobile_number + ' arriving on cab ' + cab_no + ' has rating of '+ driver_rating + ' stars.'\n",
    "\n",
    "    def look_uber(self, source, destination, cab_type, intent):\n",
    "        api = Geocoding()\n",
    "        try:\n",
    "            source_loc = api.geocode(source)\n",
    "            source_lat_long = source_loc[0]['geometry']['location']\n",
    "            start_lat=source_lat_long['lat']\n",
    "            start_lng=source_lat_long['lng']\n",
    "        except:\n",
    "            return 'Enter Valid Source.\\n'\n",
    "\n",
    "        try:\n",
    "            destination_loc = api.geocode(destination)\n",
    "            destination_lat_long = destination_loc[0]['geometry']['location']\n",
    "            end_lat=destination_lat_long['lat']\n",
    "            end_lng=destination_lat_long['lng']\n",
    "        except:\n",
    "            return 'Enter Valid destination.\\n'\n",
    "\n",
    "        try:\n",
    "            response = client.get_price_estimates(\n",
    "                start_latitude=start_lat,\n",
    "                start_longitude=start_lng,\n",
    "                end_latitude=end_lat,\n",
    "                end_longitude=end_lng,\n",
    "                seat_count=2\n",
    "                )    \n",
    "\n",
    "            estimate = response.json \n",
    "\n",
    "            for cab_types in estimate['prices']:\n",
    "                if cab_types['localized_display_name'].lower() == cab_type.lower():\n",
    "                    if (intent == 'book'):\n",
    "                        out = 'Booking ' + (cab_type) + ' with averege fare ' + (cab_types['estimate']) + '. Your journy will be ' + str(cab_types['distance']) + ' KM long and will take ' + str(cab_types['duration']/60) + ' minutes. '\n",
    "                        return out + self.cab_details()\n",
    "                    else:\n",
    "                        out = str(cab_type) + ' with averege fare ' + (cab_types['estimate']) + 'is available. Distance will be ' + str(cab_types['distance']) + ' KM and it will take ' + str(cab_types['duration']/60) + ' minutes.'\n",
    "                        return str(out)\n",
    "        except uber_error.ClientError as e:\n",
    "            return 'Distance between two points exceeds 100 miles'\n",
    "    \n",
    "    def generating_response(self, inp, intent):\n",
    "        rep, flag = self.handle_require_field(intent)\n",
    "        if flag == False:\n",
    "            return rep\n",
    "        \n",
    "        resp = rep\n",
    "        if intent == 'look' :\n",
    "            for key in self.SessionInfo:\n",
    "                print(key, self.SessionInfo[key])\n",
    "                \n",
    "            resp = resp + 'Looking for a cab from {}'.format(self.SessionInfo.get('source',''),'to '+ self.SessionInfo['destination'] if self.SessionInfo['destination']!=None else '' )\n",
    "            resp = resp + '\\n' + self.look_uber(self.SessionInfo['source'], self.SessionInfo['destination'], self.cab_types, self.SessionInfo['intent'])\n",
    "            \n",
    "        elif intent == 'book':\n",
    "            resp = resp + 'Looking for a cab from {} {}'.format(self.SessionInfo.get('source',''),'to '+self.SessionInfo['destination'] if self.SessionInfo['destination']!=None else '' )\n",
    "            #resp = resp + '\\n' + self.look_uber(self, self.SessionInfo['source'],self.SessionInfo['destination'])\n",
    "            resp = resp + '\\n' + self.look_uber(self.SessionInfo['source'], self.SessionInfo['destination'], self.cab_types, self.SessionInfo['intent'])       \n",
    "\n",
    "        '''elif intent == 'book' and self.booked == True :\n",
    "            resp = 'You have already booked a cab with booking id '+ str(self.SessionInfo['bookingid'])\n",
    "            resp = resp + '\\n' + 'We dont provide multiple booking'\n",
    "        '''\n",
    "        return resp \n",
    "    \n",
    "    def respond(self, query):\n",
    "        inp = query.lower()\n",
    "        intent = self.find_intent(inp)\n",
    "        #print(intent)\n",
    "        self.SessionInfo[\"intent\"] = intent if intent else self.SessionInfo[\"intent\"]\n",
    "        if intent:\n",
    "            self.storing_info(inp, intent)\n",
    "        else: \n",
    "            for key in ['source', 'destination']:\n",
    "                if self.SessionInfo[key] == None:\n",
    "                    #print(key)\n",
    "                    self.SessionInfo[key] = inp\n",
    "        response = self.generating_response(inp, intent)\n",
    "        return response\n",
    "        "
   ]
  },
  {
   "cell_type": "code",
   "execution_count": 180,
   "metadata": {},
   "outputs": [
    {
     "name": "stdout",
     "output_type": "stream",
     "text": [
      "TBL train (fast) (seqs: 45; tokens: 431; tpls: 18; min score: 2; min acc: None)\n",
      "Finding initial useful rules...\n",
      "    Found 974 useful rules.\n",
      "\n",
      "           B      |\n",
      "   S   F   r   O  |        Score = Fixed - Broken\n",
      "   c   i   o   t  |  R     Fixed = num tags changed incorrect -> correct\n",
      "   o   x   k   h  |  u     Broken = num tags changed correct -> incorrect\n",
      "   r   e   e   e  |  l     Other = num tags changed incorrect -> incorrect\n",
      "   e   d   n   r  |  e\n",
      "------------------+-------------------------------------------------------\n",
      "  27  32   5   3  | VB->NNP if Pos:TO@[-1]\n",
      "  13  15   2   1  | NN->NNP if Pos:,@[1]\n",
      "   8   9   1   5  | JJ->NN if Pos:IN@[-3,-2,-1]\n",
      "   8   8   0   0  | IN->NN if Word:hsr@[-1]\n",
      "   6   6   0   0  | RB->NNP if Pos:,@[-1]\n",
      "   5   5   0   0  | PRP->NN if Pos:VBP@[1]\n",
      "   4   4   0   0  | IN->NNP if Pos:,@[-1]\n",
      "   4   4   0   0  | NN->NNP if Pos:,@[1]\n",
      "   4   4   0   1  | JJ->NNP if Pos:TO@[-3,-2,-1]\n",
      "   4   4   0   0  | NN->NNP if Word:stackroute@[-2]\n"
     ]
    }
   ],
   "source": [
    "d = KabBot()"
   ]
  },
  {
   "cell_type": "code",
   "execution_count": 181,
   "metadata": {},
   "outputs": [
    {
     "name": "stdout",
     "output_type": "stream",
     "text": [
      "['source'] 1\n"
     ]
    },
    {
     "data": {
      "text/plain": [
       "'Please provide all the necessary details'"
      ]
     },
     "execution_count": 181,
     "metadata": {},
     "output_type": "execute_result"
    }
   ],
   "source": [
    "d.respond('book a cab to Wipro, Electronic city' )"
   ]
  },
  {
   "cell_type": "code",
   "execution_count": 182,
   "metadata": {},
   "outputs": [
    {
     "name": "stdout",
     "output_type": "stream",
     "text": [
      "[] 0\n"
     ]
    },
    {
     "data": {
      "text/plain": [
       "''"
      ]
     },
     "execution_count": 182,
     "metadata": {},
     "output_type": "execute_result"
    }
   ],
   "source": [
    "d.respond('Shreevastav')"
   ]
  },
  {
   "cell_type": "code",
   "execution_count": 183,
   "metadata": {},
   "outputs": [
    {
     "name": "stdout",
     "output_type": "stream",
     "text": [
      "[] 0\n"
     ]
    },
    {
     "data": {
      "text/plain": [
       "'Looking for a cab from shreevastav to wipro , electronic city\\nDistance between two points exceeds 100 miles'"
      ]
     },
     "execution_count": 183,
     "metadata": {},
     "output_type": "execute_result"
    }
   ],
   "source": [
    "d.respond('book')"
   ]
  },
  {
   "cell_type": "code",
   "execution_count": null,
   "metadata": {
    "collapsed": true
   },
   "outputs": [],
   "source": []
  }
 ],
 "metadata": {
  "kernelspec": {
   "display_name": "Python 3",
   "language": "python",
   "name": "python3"
  },
  "language_info": {
   "codemirror_mode": {
    "name": "ipython",
    "version": 3
   },
   "file_extension": ".py",
   "mimetype": "text/x-python",
   "name": "python",
   "nbconvert_exporter": "python",
   "pygments_lexer": "ipython3",
   "version": "3.5.2"
  }
 },
 "nbformat": 4,
 "nbformat_minor": 2
}
